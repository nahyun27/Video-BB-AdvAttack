{
 "cells": [
  {
   "cell_type": "code",
   "execution_count": 1,
   "metadata": {},
   "outputs": [
    {
     "name": "stdout",
     "output_type": "stream",
     "text": [
      "Python 3.9.18\n"
     ]
    }
   ],
   "source": [
    "!python -V"
   ]
  },
  {
   "cell_type": "code",
   "execution_count": 1,
   "metadata": {},
   "outputs": [
    {
     "name": "stdout",
     "output_type": "stream",
     "text": [
      "3.10.13\n"
     ]
    }
   ],
   "source": [
    "from platform import python_version\n",
    "\n",
    "print(python_version())"
   ]
  },
  {
   "cell_type": "code",
   "execution_count": 2,
   "metadata": {},
   "outputs": [
    {
     "name": "stdout",
     "output_type": "stream",
     "text": [
      "/home/seclab_nahyun/anaconda3/bin/python\r\n"
     ]
    }
   ],
   "source": [
    "!which python"
   ]
  },
  {
   "cell_type": "code",
   "execution_count": 3,
   "metadata": {},
   "outputs": [
    {
     "name": "stdout",
     "output_type": "stream",
     "text": [
      "sys.path = [\r\n",
      "    '/home/seclab_nahyun/jupyter_notebook',\r\n",
      "    '/home/seclab_nahyun/anaconda3/lib/python38.zip',\r\n",
      "    '/home/seclab_nahyun/anaconda3/lib/python3.8',\r\n",
      "    '/home/seclab_nahyun/anaconda3/lib/python3.8/lib-dynload',\r\n",
      "    '/home/seclab_nahyun/anaconda3/lib/python3.8/site-packages',\r\n",
      "]\r\n",
      "USER_BASE: '/home/seclab_nahyun/.local' (exists)\r\n",
      "USER_SITE: '/home/seclab_nahyun/.local/lib/python3.8/site-packages' (doesn't exist)\r\n",
      "ENABLE_USER_SITE: True\r\n"
     ]
    }
   ],
   "source": [
    "!python -m site"
   ]
  },
  {
   "cell_type": "code",
   "execution_count": 4,
   "metadata": {
    "scrolled": true
   },
   "outputs": [
    {
     "name": "stdout",
     "output_type": "stream",
     "text": [
      "['/home/seclab_nahyun/jupyter_notebook', '/home/seclab_nahyun/anaconda3/envs/workspace/lib/python310.zip', '/home/seclab_nahyun/anaconda3/envs/workspace/lib/python3.10', '/home/seclab_nahyun/anaconda3/envs/workspace/lib/python3.10/lib-dynload', '', '/home/seclab_nahyun/.local/lib/python3.10/site-packages', '/home/seclab_nahyun/.local/lib/python3.10/site-packages/coviar-0.1-py3.10-linux-x86_64.egg', '/home/seclab_nahyun/anaconda3/envs/workspace/lib/python3.10/site-packages']\n",
      "{'sys': <module 'sys' (built-in)>, 'builtins': <module 'builtins' (built-in)>, '_frozen_importlib': <module '_frozen_importlib' (frozen)>, '_imp': <module '_imp' (built-in)>, '_thread': <module '_thread' (built-in)>, '_warnings': <module '_warnings' (built-in)>, '_weakref': <module '_weakref' (built-in)>, '_io': <module '_io' (built-in)>, 'marshal': <module 'marshal' (built-in)>, 'posix': <module 'posix' (built-in)>, '_frozen_importlib_external': <module '_frozen_importlib_external' (frozen)>, 'time': <module 'time' (built-in)>, 'zipimport': <module 'zipimport' (frozen)>, '_codecs': <module '_codecs' (built-in)>, 'codecs': <module 'codecs' from '/home/seclab_nahyun/anaconda3/envs/workspace/lib/python3.10/codecs.py'>, 'encodings.aliases': <module 'encodings.aliases' from '/home/seclab_nahyun/anaconda3/envs/workspace/lib/python3.10/encodings/aliases.py'>, 'encodings': <module 'encodings' from '/home/seclab_nahyun/anaconda3/envs/workspace/lib/python3.10/encodings/__init__.py'>, 'encodings.utf_8': <module 'encodings.utf_8' from '/home/seclab_nahyun/anaconda3/envs/workspace/lib/python3.10/encodings/utf_8.py'>, '_signal': <module '_signal' (built-in)>, '_abc': <module '_abc' (built-in)>, 'abc': <module 'abc' from '/home/seclab_nahyun/anaconda3/envs/workspace/lib/python3.10/abc.py'>, 'io': <module 'io' from '/home/seclab_nahyun/anaconda3/envs/workspace/lib/python3.10/io.py'>, '__main__': <module '__main__'>, '_stat': <module '_stat' (built-in)>, 'stat': <module 'stat' from '/home/seclab_nahyun/anaconda3/envs/workspace/lib/python3.10/stat.py'>, '_collections_abc': <module '_collections_abc' from '/home/seclab_nahyun/anaconda3/envs/workspace/lib/python3.10/_collections_abc.py'>, 'genericpath': <module 'genericpath' from '/home/seclab_nahyun/anaconda3/envs/workspace/lib/python3.10/genericpath.py'>, 'posixpath': <module 'posixpath' from '/home/seclab_nahyun/anaconda3/envs/workspace/lib/python3.10/posixpath.py'>, 'os.path': <module 'posixpath' from '/home/seclab_nahyun/anaconda3/envs/workspace/lib/python3.10/posixpath.py'>, 'os': <module 'os' from '/home/seclab_nahyun/anaconda3/envs/workspace/lib/python3.10/os.py'>, '_sitebuiltins': <module '_sitebuiltins' from '/home/seclab_nahyun/anaconda3/envs/workspace/lib/python3.10/_sitebuiltins.py'>, '_distutils_hack': <module '_distutils_hack' from '/home/seclab_nahyun/anaconda3/envs/workspace/lib/python3.10/site-packages/_distutils_hack/__init__.py'>, 'types': <module 'types' from '/home/seclab_nahyun/anaconda3/envs/workspace/lib/python3.10/types.py'>, 'importlib._bootstrap': <module '_frozen_importlib' (frozen)>, 'importlib._bootstrap_external': <module '_frozen_importlib_external' (frozen)>, 'warnings': <module 'warnings' from '/home/seclab_nahyun/anaconda3/envs/workspace/lib/python3.10/warnings.py'>, 'importlib': <module 'importlib' from '/home/seclab_nahyun/anaconda3/envs/workspace/lib/python3.10/importlib/__init__.py'>, 'importlib._abc': <module 'importlib._abc' from '/home/seclab_nahyun/anaconda3/envs/workspace/lib/python3.10/importlib/_abc.py'>, 'itertools': <module 'itertools' (built-in)>, 'keyword': <module 'keyword' from '/home/seclab_nahyun/anaconda3/envs/workspace/lib/python3.10/keyword.py'>, '_operator': <module '_operator' (built-in)>, 'operator': <module 'operator' from '/home/seclab_nahyun/anaconda3/envs/workspace/lib/python3.10/operator.py'>, 'reprlib': <module 'reprlib' from '/home/seclab_nahyun/anaconda3/envs/workspace/lib/python3.10/reprlib.py'>, '_collections': <module '_collections' (built-in)>, 'collections': <module 'collections' from '/home/seclab_nahyun/anaconda3/envs/workspace/lib/python3.10/collections/__init__.py'>, '_functools': <module '_functools' (built-in)>, 'functools': <module 'functools' from '/home/seclab_nahyun/anaconda3/envs/workspace/lib/python3.10/functools.py'>, 'contextlib': <module 'contextlib' from '/home/seclab_nahyun/anaconda3/envs/workspace/lib/python3.10/contextlib.py'>, 'importlib.util': <module 'importlib.util' from '/home/seclab_nahyun/anaconda3/envs/workspace/lib/python3.10/importlib/util.py'>, 'importlib.machinery': <module 'importlib.machinery' from '/home/seclab_nahyun/anaconda3/envs/workspace/lib/python3.10/importlib/machinery.py'>, 'mpl_toolkits': <module 'mpl_toolkits' (<_frozen_importlib_external._NamespaceLoader object at 0x7fb3be305bd0>)>, 'google': <module 'google' (<_frozen_importlib_external._NamespaceLoader object at 0x7fb3be33bf10>)>, 'site': <module 'site' from '/home/seclab_nahyun/anaconda3/envs/workspace/lib/python3.10/site.py'>, 'runpy': <module 'runpy' from '/home/seclab_nahyun/anaconda3/envs/workspace/lib/python3.10/runpy.py'>, 'enum': <module 'enum' from '/home/seclab_nahyun/anaconda3/envs/workspace/lib/python3.10/enum.py'>, '_sre': <module '_sre' (built-in)>, 'sre_constants': <module 'sre_constants' from '/home/seclab_nahyun/anaconda3/envs/workspace/lib/python3.10/sre_constants.py'>, 'sre_parse': <module 'sre_parse' from '/home/seclab_nahyun/anaconda3/envs/workspace/lib/python3.10/sre_parse.py'>, 'sre_compile': <module 'sre_compile' from '/home/seclab_nahyun/anaconda3/envs/workspace/lib/python3.10/sre_compile.py'>, '_locale': <module '_locale' (built-in)>, 'copyreg': <module 'copyreg' from '/home/seclab_nahyun/anaconda3/envs/workspace/lib/python3.10/copyreg.py'>, 're': <module 're' from '/home/seclab_nahyun/anaconda3/envs/workspace/lib/python3.10/re.py'>, 'collections.abc': <module 'collections.abc' from '/home/seclab_nahyun/anaconda3/envs/workspace/lib/python3.10/collections/abc.py'>, 'typing.io': <class 'typing.io'>, 'typing.re': <class 'typing.re'>, 'typing': <module 'typing' from '/home/seclab_nahyun/anaconda3/envs/workspace/lib/python3.10/typing.py'>, 'ipykernel._version': <module 'ipykernel._version' from '/home/seclab_nahyun/anaconda3/envs/workspace/lib/python3.10/site-packages/ipykernel/_version.py'>, '_json': <module '_json' from '/home/seclab_nahyun/anaconda3/envs/workspace/lib/python3.10/lib-dynload/_json.cpython-310-x86_64-linux-gnu.so'>, 'json.scanner': <module 'json.scanner' from '/home/seclab_nahyun/anaconda3/envs/workspace/lib/python3.10/json/scanner.py'>, 'json.decoder': <module 'json.decoder' from '/home/seclab_nahyun/anaconda3/envs/workspace/lib/python3.10/json/decoder.py'>, 'json.encoder': <module 'json.encoder' from '/home/seclab_nahyun/anaconda3/envs/workspace/lib/python3.10/json/encoder.py'>, 'json': <module 'json' from '/home/seclab_nahyun/anaconda3/envs/workspace/lib/python3.10/json/__init__.py'>, 'errno': <module 'errno' (built-in)>, 'signal': <module 'signal' from '/home/seclab_nahyun/anaconda3/envs/workspace/lib/python3.10/signal.py'>, '_weakrefset': <module '_weakrefset' from '/home/seclab_nahyun/anaconda3/envs/workspace/lib/python3.10/_weakrefset.py'>, 'threading': <module 'threading' from '/home/seclab_nahyun/anaconda3/envs/workspace/lib/python3.10/threading.py'>, 'fcntl': <module 'fcntl' from '/home/seclab_nahyun/anaconda3/envs/workspace/lib/python3.10/lib-dynload/fcntl.cpython-310-x86_64-linux-gnu.so'>, '_posixsubprocess': <module '_posixsubprocess' from '/home/seclab_nahyun/anaconda3/envs/workspace/lib/python3.10/lib-dynload/_posixsubprocess.cpython-310-x86_64-linux-gnu.so'>, 'select': <module 'select' from '/home/seclab_nahyun/anaconda3/envs/workspace/lib/python3.10/lib-dynload/select.cpython-310-x86_64-linux-gnu.so'>, 'math': <module 'math' from '/home/seclab_nahyun/anaconda3/envs/workspace/lib/python3.10/lib-dynload/math.cpython-310-x86_64-linux-gnu.so'>, 'selectors': <module 'selectors' from '/home/seclab_nahyun/anaconda3/envs/workspace/lib/python3.10/selectors.py'>, 'subprocess': <module 'subprocess' from '/home/seclab_nahyun/anaconda3/envs/workspace/lib/python3.10/subprocess.py'>, 'jupyter_client._version': <module 'jupyter_client._version' from '/home/seclab_nahyun/anaconda3/envs/workspace/lib/python3.10/site-packages/jupyter_client/_version.py'>, 'platform': <module 'platform' from '/home/seclab_nahyun/anaconda3/envs/workspace/lib/python3.10/platform.py'>, '_ctypes': <module '_ctypes' from '/home/seclab_nahyun/anaconda3/envs/workspace/lib/python3.10/lib-dynload/_ctypes.cpython-310-x86_64-linux-gnu.so'>, '_struct': <module '_struct' from '/home/seclab_nahyun/anaconda3/envs/workspace/lib/python3.10/lib-dynload/_struct.cpython-310-x86_64-linux-gnu.so'>, 'struct': <module 'struct' from '/home/seclab_nahyun/anaconda3/envs/workspace/lib/python3.10/struct.py'>, 'ctypes._endian': <module 'ctypes._endian' from '/home/seclab_nahyun/anaconda3/envs/workspace/lib/python3.10/ctypes/_endian.py'>, 'ctypes': <module 'ctypes' from '/home/seclab_nahyun/anaconda3/envs/workspace/lib/python3.10/ctypes/__init__.py'>, 'zmq.backend.select': <module 'zmq.backend.select' from '/home/seclab_nahyun/anaconda3/envs/workspace/lib/python3.10/site-packages/zmq/backend/select.py'>, 'cython_runtime': <module 'cython_runtime'>, '_cython_3_0_0': <module '_cython_3_0_0'>, 'zmq.error': <module 'zmq.error' from '/home/seclab_nahyun/anaconda3/envs/workspace/lib/python3.10/site-packages/zmq/error.py'>, 'zmq.backend.cython.context': <module 'zmq.backend.cython.context' from '/home/seclab_nahyun/anaconda3/envs/workspace/lib/python3.10/site-packages/zmq/backend/cython/context.cpython-310-x86_64-linux-gnu.so'>, 'weakref': <module 'weakref' from '/home/seclab_nahyun/anaconda3/envs/workspace/lib/python3.10/weakref.py'>, 'zmq.backend.cython.message': <module 'zmq.backend.cython.message' from '/home/seclab_nahyun/anaconda3/envs/workspace/lib/python3.10/site-packages/zmq/backend/cython/message.cpython-310-x86_64-linux-gnu.so'>, 'copy': <module 'copy' from '/home/seclab_nahyun/anaconda3/envs/workspace/lib/python3.10/copy.py'>, '_bisect': <module '_bisect' from '/home/seclab_nahyun/anaconda3/envs/workspace/lib/python3.10/lib-dynload/_bisect.cpython-310-x86_64-linux-gnu.so'>, 'bisect': <module 'bisect' from '/home/seclab_nahyun/anaconda3/envs/workspace/lib/python3.10/bisect.py'>, '_random': <module '_random' from '/home/seclab_nahyun/anaconda3/envs/workspace/lib/python3.10/lib-dynload/_random.cpython-310-x86_64-linux-gnu.so'>, '_sha512': <module '_sha512' from '/home/seclab_nahyun/anaconda3/envs/workspace/lib/python3.10/lib-dynload/_sha512.cpython-310-x86_64-linux-gnu.so'>, 'random': <module 'random' from '/home/seclab_nahyun/anaconda3/envs/workspace/lib/python3.10/random.py'>, '_compat_pickle': <module '_compat_pickle' from '/home/seclab_nahyun/anaconda3/envs/workspace/lib/python3.10/_compat_pickle.py'>, '_pickle': <module '_pickle' from '/home/seclab_nahyun/anaconda3/envs/workspace/lib/python3.10/lib-dynload/_pickle.cpython-310-x86_64-linux-gnu.so'>, 'pickle': <module 'pickle' from '/home/seclab_nahyun/anaconda3/envs/workspace/lib/python3.10/pickle.py'>, 'zmq.constants': <module 'zmq.constants' from '/home/seclab_nahyun/anaconda3/envs/workspace/lib/python3.10/site-packages/zmq/constants.py'>, 'zmq.backend.cython.socket': <module 'zmq.backend.cython.socket' from '/home/seclab_nahyun/anaconda3/envs/workspace/lib/python3.10/site-packages/zmq/backend/cython/socket.cpython-310-x86_64-linux-gnu.so'>, 'zmq.backend.cython._device': <module 'zmq.backend.cython._device' from '/home/seclab_nahyun/anaconda3/envs/workspace/lib/python3.10/site-packages/zmq/backend/cython/_device.cpython-310-x86_64-linux-gnu.so'>, 'zmq.backend.cython._poll': <module 'zmq.backend.cython._poll' from '/home/seclab_nahyun/anaconda3/envs/workspace/lib/python3.10/site-packages/zmq/backend/cython/_poll.cpython-310-x86_64-linux-gnu.so'>, 'zmq.backend.cython._proxy_steerable': <module 'zmq.backend.cython._proxy_steerable' from '/home/seclab_nahyun/anaconda3/envs/workspace/lib/python3.10/site-packages/zmq/backend/cython/_proxy_steerable.cpython-310-x86_64-linux-gnu.so'>, 'zmq.backend.cython._version': <module 'zmq.backend.cython._version' from '/home/seclab_nahyun/anaconda3/envs/workspace/lib/python3.10/site-packages/zmq/backend/cython/_version.cpython-310-x86_64-linux-gnu.so'>, 'zmq.backend.cython.error': <module 'zmq.backend.cython.error' from '/home/seclab_nahyun/anaconda3/envs/workspace/lib/python3.10/site-packages/zmq/backend/cython/error.cpython-310-x86_64-linux-gnu.so'>, 'zmq.backend.cython.utils': <module 'zmq.backend.cython.utils' from '/home/seclab_nahyun/anaconda3/envs/workspace/lib/python3.10/site-packages/zmq/backend/cython/utils.cpython-310-x86_64-linux-gnu.so'>, 'zmq.backend.cython': <module 'zmq.backend.cython' from '/home/seclab_nahyun/anaconda3/envs/workspace/lib/python3.10/site-packages/zmq/backend/cython/__init__.py'>, 'zmq.backend': <module 'zmq.backend' from '/home/seclab_nahyun/anaconda3/envs/workspace/lib/python3.10/site-packages/zmq/backend/__init__.py'>, 'atexit': <module 'atexit' (built-in)>, 'zmq.utils': <module 'zmq.utils' from '/home/seclab_nahyun/anaconda3/envs/workspace/lib/python3.10/site-packages/zmq/utils/__init__.py'>, 'zmq.utils.interop': <module 'zmq.utils.interop' from '/home/seclab_nahyun/anaconda3/envs/workspace/lib/python3.10/site-packages/zmq/utils/interop.py'>, 'zmq.sugar.attrsettr': <module 'zmq.sugar.attrsettr' from '/home/seclab_nahyun/anaconda3/envs/workspace/lib/python3.10/site-packages/zmq/sugar/attrsettr.py'>, 'zmq._typing': <module 'zmq._typing' from '/home/seclab_nahyun/anaconda3/envs/workspace/lib/python3.10/site-packages/zmq/_typing.py'>, 'zmq.utils.jsonapi': <module 'zmq.utils.jsonapi' from '/home/seclab_nahyun/anaconda3/envs/workspace/lib/python3.10/site-packages/zmq/utils/jsonapi.py'>, 'zmq.sugar.poll': <module 'zmq.sugar.poll' from '/home/seclab_nahyun/anaconda3/envs/workspace/lib/python3.10/site-packages/zmq/sugar/poll.py'>, 'zmq.sugar.socket': <module 'zmq.sugar.socket' from '/home/seclab_nahyun/anaconda3/envs/workspace/lib/python3.10/site-packages/zmq/sugar/socket.py'>, 'zmq.sugar.context': <module 'zmq.sugar.context' from '/home/seclab_nahyun/anaconda3/envs/workspace/lib/python3.10/site-packages/zmq/sugar/context.py'>, 'zmq.sugar.frame': <module 'zmq.sugar.frame' from '/home/seclab_nahyun/anaconda3/envs/workspace/lib/python3.10/site-packages/zmq/sugar/frame.py'>, 'zmq.sugar.tracker': <module 'zmq.sugar.tracker' from '/home/seclab_nahyun/anaconda3/envs/workspace/lib/python3.10/site-packages/zmq/sugar/tracker.py'>, 'zmq.sugar.version': <module 'zmq.sugar.version' from '/home/seclab_nahyun/anaconda3/envs/workspace/lib/python3.10/site-packages/zmq/sugar/version.py'>, 'zmq.sugar.stopwatch': <module 'zmq.sugar.stopwatch' from '/home/seclab_nahyun/anaconda3/envs/workspace/lib/python3.10/site-packages/zmq/sugar/stopwatch.py'>, 'zmq.sugar': <module 'zmq.sugar' from '/home/seclab_nahyun/anaconda3/envs/workspace/lib/python3.10/site-packages/zmq/sugar/__init__.py'>, 'zmq': <module 'zmq' from '/home/seclab_nahyun/anaconda3/envs/workspace/lib/python3.10/site-packages/zmq/__init__.py'>, 'concurrent': <module 'concurrent' from '/home/seclab_nahyun/anaconda3/envs/workspace/lib/python3.10/concurrent/__init__.py'>, 'token': <module 'token' from '/home/seclab_nahyun/anaconda3/envs/workspace/lib/python3.10/token.py'>, 'tokenize': <module 'tokenize' from '/home/seclab_nahyun/anaconda3/envs/workspace/lib/python3.10/tokenize.py'>, 'linecache': <module 'linecache' from '/home/seclab_nahyun/anaconda3/envs/workspace/lib/python3.10/linecache.py'>, 'traceback': <module 'traceback' from '/home/seclab_nahyun/anaconda3/envs/workspace/lib/python3.10/traceback.py'>, '_string': <module '_string' (built-in)>, 'string': <module 'string' from '/home/seclab_nahyun/anaconda3/envs/workspace/lib/python3.10/string.py'>, 'logging': <module 'logging' from '/home/seclab_nahyun/anaconda3/envs/workspace/lib/python3.10/logging/__init__.py'>, 'concurrent.futures._base': <module 'concurrent.futures._base' from '/home/seclab_nahyun/anaconda3/envs/workspace/lib/python3.10/concurrent/futures/_base.py'>, 'concurrent.futures': <module 'concurrent.futures' from '/home/seclab_nahyun/anaconda3/envs/workspace/lib/python3.10/concurrent/futures/__init__.py'>, '_heapq': <module '_heapq' from '/home/seclab_nahyun/anaconda3/envs/workspace/lib/python3.10/lib-dynload/_heapq.cpython-310-x86_64-linux-gnu.so'>, 'heapq': <module 'heapq' from '/home/seclab_nahyun/anaconda3/envs/workspace/lib/python3.10/heapq.py'>, '_socket': <module '_socket' from '/home/seclab_nahyun/anaconda3/envs/workspace/lib/python3.10/lib-dynload/_socket.cpython-310-x86_64-linux-gnu.so'>, 'array': <module 'array' from '/home/seclab_nahyun/anaconda3/envs/workspace/lib/python3.10/lib-dynload/array.cpython-310-x86_64-linux-gnu.so'>, 'socket': <module 'socket' from '/home/seclab_nahyun/anaconda3/envs/workspace/lib/python3.10/socket.py'>, '_ssl': <module '_ssl' from '/home/seclab_nahyun/anaconda3/envs/workspace/lib/python3.10/lib-dynload/_ssl.cpython-310-x86_64-linux-gnu.so'>, 'binascii': <module 'binascii' from '/home/seclab_nahyun/anaconda3/envs/workspace/lib/python3.10/lib-dynload/binascii.cpython-310-x86_64-linux-gnu.so'>, 'base64': <module 'base64' from '/home/seclab_nahyun/anaconda3/envs/workspace/lib/python3.10/base64.py'>, 'ssl': <module 'ssl' from '/home/seclab_nahyun/anaconda3/envs/workspace/lib/python3.10/ssl.py'>, 'asyncio.constants': <module 'asyncio.constants' from '/home/seclab_nahyun/anaconda3/envs/workspace/lib/python3.10/asyncio/constants.py'>, '_ast': <module '_ast' (built-in)>, 'ast': <module 'ast' from '/home/seclab_nahyun/anaconda3/envs/workspace/lib/python3.10/ast.py'>, '_opcode': <module '_opcode' from '/home/seclab_nahyun/anaconda3/envs/workspace/lib/python3.10/lib-dynload/_opcode.cpython-310-x86_64-linux-gnu.so'>, 'opcode': <module 'opcode' from '/home/seclab_nahyun/anaconda3/envs/workspace/lib/python3.10/opcode.py'>, 'dis': <module 'dis' from '/home/seclab_nahyun/anaconda3/envs/workspace/lib/python3.10/dis.py'>, 'inspect': <module 'inspect' from '/home/seclab_nahyun/anaconda3/envs/workspace/lib/python3.10/inspect.py'>, 'asyncio.format_helpers': <module 'asyncio.format_helpers' from '/home/seclab_nahyun/anaconda3/envs/workspace/lib/python3.10/asyncio/format_helpers.py'>, 'asyncio.base_futures': <module 'asyncio.base_futures' from '/home/seclab_nahyun/anaconda3/envs/workspace/lib/python3.10/asyncio/base_futures.py'>, 'asyncio.log': <module 'asyncio.log' from '/home/seclab_nahyun/anaconda3/envs/workspace/lib/python3.10/asyncio/log.py'>, 'asyncio.coroutines': <module 'asyncio.coroutines' from '/home/seclab_nahyun/anaconda3/envs/workspace/lib/python3.10/asyncio/coroutines.py'>, '_contextvars': <module '_contextvars' from '/home/seclab_nahyun/anaconda3/envs/workspace/lib/python3.10/lib-dynload/_contextvars.cpython-310-x86_64-linux-gnu.so'>, 'contextvars': <module 'contextvars' from '/home/seclab_nahyun/anaconda3/envs/workspace/lib/python3.10/contextvars.py'>, 'asyncio.exceptions': <module 'asyncio.exceptions' from '/home/seclab_nahyun/anaconda3/envs/workspace/lib/python3.10/asyncio/exceptions.py'>, 'asyncio.base_tasks': <module 'asyncio.base_tasks' from '/home/seclab_nahyun/anaconda3/envs/workspace/lib/python3.10/asyncio/base_tasks.py'>, '_asyncio': <module '_asyncio' from '/home/seclab_nahyun/anaconda3/envs/workspace/lib/python3.10/lib-dynload/_asyncio.cpython-310-x86_64-linux-gnu.so'>, 'asyncio.events': <module 'asyncio.events' from '/home/seclab_nahyun/anaconda3/envs/workspace/lib/python3.10/asyncio/events.py'>, 'asyncio.futures': <module 'asyncio.futures' from '/home/seclab_nahyun/anaconda3/envs/workspace/lib/python3.10/asyncio/futures.py'>, 'asyncio.protocols': <module 'asyncio.protocols' from '/home/seclab_nahyun/anaconda3/envs/workspace/lib/python3.10/asyncio/protocols.py'>, 'asyncio.transports': <module 'asyncio.transports' from '/home/seclab_nahyun/anaconda3/envs/workspace/lib/python3.10/asyncio/transports.py'>, 'asyncio.sslproto': <module 'asyncio.sslproto' from '/home/seclab_nahyun/anaconda3/envs/workspace/lib/python3.10/asyncio/sslproto.py'>, 'asyncio.mixins': <module 'asyncio.mixins' from '/home/seclab_nahyun/anaconda3/envs/workspace/lib/python3.10/asyncio/mixins.py'>, 'asyncio.tasks': <module 'asyncio.tasks' from '/home/seclab_nahyun/anaconda3/envs/workspace/lib/python3.10/asyncio/tasks.py'>, 'asyncio.locks': <module 'asyncio.locks' from '/home/seclab_nahyun/anaconda3/envs/workspace/lib/python3.10/asyncio/locks.py'>, 'asyncio.staggered': <module 'asyncio.staggered' from '/home/seclab_nahyun/anaconda3/envs/workspace/lib/python3.10/asyncio/staggered.py'>, 'asyncio.trsock': <module 'asyncio.trsock' from '/home/seclab_nahyun/anaconda3/envs/workspace/lib/python3.10/asyncio/trsock.py'>, 'asyncio.base_events': <module 'asyncio.base_events' from '/home/seclab_nahyun/anaconda3/envs/workspace/lib/python3.10/asyncio/base_events.py'>, 'asyncio.runners': <module 'asyncio.runners' from '/home/seclab_nahyun/anaconda3/envs/workspace/lib/python3.10/asyncio/runners.py'>, 'asyncio.queues': <module 'asyncio.queues' from '/home/seclab_nahyun/anaconda3/envs/workspace/lib/python3.10/asyncio/queues.py'>, 'asyncio.streams': <module 'asyncio.streams' from '/home/seclab_nahyun/anaconda3/envs/workspace/lib/python3.10/asyncio/streams.py'>, 'asyncio.subprocess': <module 'asyncio.subprocess' from '/home/seclab_nahyun/anaconda3/envs/workspace/lib/python3.10/asyncio/subprocess.py'>, 'asyncio.threads': <module 'asyncio.threads' from '/home/seclab_nahyun/anaconda3/envs/workspace/lib/python3.10/asyncio/threads.py'>, 'asyncio.base_subprocess': <module 'asyncio.base_subprocess' from '/home/seclab_nahyun/anaconda3/envs/workspace/lib/python3.10/asyncio/base_subprocess.py'>, 'asyncio.selector_events': <module 'asyncio.selector_events' from '/home/seclab_nahyun/anaconda3/envs/workspace/lib/python3.10/asyncio/selector_events.py'>, 'asyncio.unix_events': <module 'asyncio.unix_events' from '/home/seclab_nahyun/anaconda3/envs/workspace/lib/python3.10/asyncio/unix_events.py'>, 'asyncio': <module 'asyncio' from '/home/seclab_nahyun/anaconda3/envs/workspace/lib/python3.10/asyncio/__init__.py'>, 'zmq._future': <module 'zmq._future' from '/home/seclab_nahyun/anaconda3/envs/workspace/lib/python3.10/site-packages/zmq/_future.py'>, 'zmq.asyncio': <module 'zmq.asyncio' from '/home/seclab_nahyun/anaconda3/envs/workspace/lib/python3.10/site-packages/zmq/asyncio.py'>, 'fnmatch': <module 'fnmatch' from '/home/seclab_nahyun/anaconda3/envs/workspace/lib/python3.10/fnmatch.py'>, 'ntpath': <module 'ntpath' from '/home/seclab_nahyun/anaconda3/envs/workspace/lib/python3.10/ntpath.py'>, 'urllib': <module 'urllib' from '/home/seclab_nahyun/anaconda3/envs/workspace/lib/python3.10/urllib/__init__.py'>, 'urllib.parse': <module 'urllib.parse' from '/home/seclab_nahyun/anaconda3/envs/workspace/lib/python3.10/urllib/parse.py'>, 'pathlib': <module 'pathlib' from '/home/seclab_nahyun/anaconda3/envs/workspace/lib/python3.10/pathlib.py'>, 'traitlets.utils': <module 'traitlets.utils' from '/home/seclab_nahyun/anaconda3/envs/workspace/lib/python3.10/site-packages/traitlets/utils/__init__.py'>, 'traitlets.utils.bunch': <module 'traitlets.utils.bunch' from '/home/seclab_nahyun/anaconda3/envs/workspace/lib/python3.10/site-packages/traitlets/utils/bunch.py'>, 'traitlets.utils.descriptions': <module 'traitlets.utils.descriptions' from '/home/seclab_nahyun/anaconda3/envs/workspace/lib/python3.10/site-packages/traitlets/utils/descriptions.py'>, 'traitlets.utils.getargspec': <module 'traitlets.utils.getargspec' from '/home/seclab_nahyun/anaconda3/envs/workspace/lib/python3.10/site-packages/traitlets/utils/getargspec.py'>, 'traitlets.utils.importstring': <module 'traitlets.utils.importstring' from '/home/seclab_nahyun/anaconda3/envs/workspace/lib/python3.10/site-packages/traitlets/utils/importstring.py'>, 'traitlets.utils.sentinel': <module 'traitlets.utils.sentinel' from '/home/seclab_nahyun/anaconda3/envs/workspace/lib/python3.10/site-packages/traitlets/utils/sentinel.py'>, 'traitlets.traitlets': <module 'traitlets.traitlets' from '/home/seclab_nahyun/anaconda3/envs/workspace/lib/python3.10/site-packages/traitlets/traitlets.py'>, 'traitlets._version': <module 'traitlets._version' from '/home/seclab_nahyun/anaconda3/envs/workspace/lib/python3.10/site-packages/traitlets/_version.py'>, 'traitlets.utils.decorators': <module 'traitlets.utils.decorators' from '/home/seclab_nahyun/anaconda3/envs/workspace/lib/python3.10/site-packages/traitlets/utils/decorators.py'>, 'traitlets': <module 'traitlets' from '/home/seclab_nahyun/anaconda3/envs/workspace/lib/python3.10/site-packages/traitlets/__init__.py'>, '_queue': <module '_queue' from '/home/seclab_nahyun/anaconda3/envs/workspace/lib/python3.10/lib-dynload/_queue.cpython-310-x86_64-linux-gnu.so'>, 'queue': <module 'queue' from '/home/seclab_nahyun/anaconda3/envs/workspace/lib/python3.10/queue.py'>, 'jupyter_core.version': <module 'jupyter_core.version' from '/home/seclab_nahyun/anaconda3/envs/workspace/lib/python3.10/site-packages/jupyter_core/version.py'>, 'jupyter_core': <module 'jupyter_core' from '/home/seclab_nahyun/anaconda3/envs/workspace/lib/python3.10/site-packages/jupyter_core/__init__.py'>, 'jupyter_core.utils': <module 'jupyter_core.utils' from '/home/seclab_nahyun/anaconda3/envs/workspace/lib/python3.10/site-packages/jupyter_core/utils/__init__.py'>, 'jupyter_client.channelsabc': <module 'jupyter_client.channelsabc' from '/home/seclab_nahyun/anaconda3/envs/workspace/lib/python3.10/site-packages/jupyter_client/channelsabc.py'>, '_hashlib': <module '_hashlib' from '/home/seclab_nahyun/anaconda3/envs/workspace/lib/python3.10/lib-dynload/_hashlib.cpython-310-x86_64-linux-gnu.so'>, '_blake2': <module '_blake2' from '/home/seclab_nahyun/anaconda3/envs/workspace/lib/python3.10/lib-dynload/_blake2.cpython-310-x86_64-linux-gnu.so'>, 'hashlib': <module 'hashlib' from '/home/seclab_nahyun/anaconda3/envs/workspace/lib/python3.10/hashlib.py'>, 'hmac': <module 'hmac' from '/home/seclab_nahyun/anaconda3/envs/workspace/lib/python3.10/hmac.py'>, 'dataclasses': <module 'dataclasses' from '/home/seclab_nahyun/anaconda3/envs/workspace/lib/python3.10/dataclasses.py'>, 'pprint': <module 'pprint' from '/home/seclab_nahyun/anaconda3/envs/workspace/lib/python3.10/pprint.py'>, '_datetime': <module '_datetime' from '/home/seclab_nahyun/anaconda3/envs/workspace/lib/python3.10/lib-dynload/_datetime.cpython-310-x86_64-linux-gnu.so'>, 'datetime': <module 'datetime' from '/home/seclab_nahyun/anaconda3/envs/workspace/lib/python3.10/datetime.py'>, 'tornado': <module 'tornado' from '/home/seclab_nahyun/anaconda3/envs/workspace/lib/python3.10/site-packages/tornado/__init__.py'>, 'numbers': <module 'numbers' from '/home/seclab_nahyun/anaconda3/envs/workspace/lib/python3.10/numbers.py'>, 'logging.handlers': <module 'logging.handlers' from '/home/seclab_nahyun/anaconda3/envs/workspace/lib/python3.10/logging/handlers.py'>, 'html.entities': <module 'html.entities' from '/home/seclab_nahyun/anaconda3/envs/workspace/lib/python3.10/html/entities.py'>, 'html': <module 'html' from '/home/seclab_nahyun/anaconda3/envs/workspace/lib/python3.10/html/__init__.py'>, 'zlib': <module 'zlib' from '/home/seclab_nahyun/anaconda3/envs/workspace/lib/python3.10/lib-dynload/zlib.cpython-310-x86_64-linux-gnu.so'>, 'tornado.speedups': <module 'tornado.speedups' from '/home/seclab_nahyun/anaconda3/envs/workspace/lib/python3.10/site-packages/tornado/speedups.abi3.so'>, 'tornado.util': <module 'tornado.util' from '/home/seclab_nahyun/anaconda3/envs/workspace/lib/python3.10/site-packages/tornado/util.py'>, 'tornado.escape': <module 'tornado.escape' from '/home/seclab_nahyun/anaconda3/envs/workspace/lib/python3.10/site-packages/tornado/escape.py'>, '_curses': <module '_curses' from '/home/seclab_nahyun/anaconda3/envs/workspace/lib/python3.10/lib-dynload/_curses.cpython-310-x86_64-linux-gnu.so'>, 'curses': <module 'curses' from '/home/seclab_nahyun/anaconda3/envs/workspace/lib/python3.10/curses/__init__.py'>, 'tornado.log': <module 'tornado.log' from '/home/seclab_nahyun/anaconda3/envs/workspace/lib/python3.10/site-packages/tornado/log.py'>, 'tornado.concurrent': <module 'tornado.concurrent' from '/home/seclab_nahyun/anaconda3/envs/workspace/lib/python3.10/site-packages/tornado/concurrent.py'>, 'tornado.ioloop': <module 'tornado.ioloop' from '/home/seclab_nahyun/anaconda3/envs/workspace/lib/python3.10/site-packages/tornado/ioloop.py'>, 'socketserver': <module 'socketserver' from '/home/seclab_nahyun/anaconda3/envs/workspace/lib/python3.10/socketserver.py'>, 'logging.config': <module 'logging.config' from '/home/seclab_nahyun/anaconda3/envs/workspace/lib/python3.10/logging/config.py'>, 'textwrap': <module 'textwrap' from '/home/seclab_nahyun/anaconda3/envs/workspace/lib/python3.10/textwrap.py'>, 'traitlets.utils.text': <module 'traitlets.utils.text' from '/home/seclab_nahyun/anaconda3/envs/workspace/lib/python3.10/site-packages/traitlets/utils/text.py'>, 'gettext': <module 'gettext' from '/home/seclab_nahyun/anaconda3/envs/workspace/lib/python3.10/gettext.py'>, 'argparse': <module 'argparse' from '/home/seclab_nahyun/anaconda3/envs/workspace/lib/python3.10/argparse.py'>, 'traitlets.config.loader': <module 'traitlets.config.loader' from '/home/seclab_nahyun/anaconda3/envs/workspace/lib/python3.10/site-packages/traitlets/config/loader.py'>, 'traitlets.config.configurable': <module 'traitlets.config.configurable' from '/home/seclab_nahyun/anaconda3/envs/workspace/lib/python3.10/site-packages/traitlets/config/configurable.py'>, 'traitlets.utils.nested_update': <module 'traitlets.utils.nested_update' from '/home/seclab_nahyun/anaconda3/envs/workspace/lib/python3.10/site-packages/traitlets/utils/nested_update.py'>, 'traitlets.config.application': <module 'traitlets.config.application' from '/home/seclab_nahyun/anaconda3/envs/workspace/lib/python3.10/site-packages/traitlets/config/application.py'>, 'traitlets.config': <module 'traitlets.config' from '/home/seclab_nahyun/anaconda3/envs/workspace/lib/python3.10/site-packages/traitlets/config/__init__.py'>, 'traitlets.log': <module 'traitlets.log' from '/home/seclab_nahyun/anaconda3/envs/workspace/lib/python3.10/site-packages/traitlets/log.py'>, 'zmq.eventloop': <module 'zmq.eventloop' from '/home/seclab_nahyun/anaconda3/envs/workspace/lib/python3.10/site-packages/zmq/eventloop/__init__.py'>, 'zmq.eventloop.zmqstream': <module 'zmq.eventloop.zmqstream' from '/home/seclab_nahyun/anaconda3/envs/workspace/lib/python3.10/site-packages/zmq/eventloop/zmqstream.py'>, 'jupyter_client.adapter': <module 'jupyter_client.adapter' from '/home/seclab_nahyun/anaconda3/envs/workspace/lib/python3.10/site-packages/jupyter_client/adapter.py'>, 'dateutil._version': <module 'dateutil._version' from '/home/seclab_nahyun/anaconda3/envs/workspace/lib/python3.10/site-packages/dateutil/_version.py'>, 'dateutil': <module 'dateutil' from '/home/seclab_nahyun/anaconda3/envs/workspace/lib/python3.10/site-packages/dateutil/__init__.py'>, '__future__': <module '__future__' from '/home/seclab_nahyun/anaconda3/envs/workspace/lib/python3.10/__future__.py'>, 'locale': <module 'locale' from '/home/seclab_nahyun/anaconda3/envs/workspace/lib/python3.10/locale.py'>, 'calendar': <module 'calendar' from '/home/seclab_nahyun/anaconda3/envs/workspace/lib/python3.10/calendar.py'>, 'six': <module 'six' from '/home/seclab_nahyun/anaconda3/envs/workspace/lib/python3.10/site-packages/six.py'>, '_decimal': <module '_decimal' from '/home/seclab_nahyun/anaconda3/envs/workspace/lib/python3.10/lib-dynload/_decimal.cpython-310-x86_64-linux-gnu.so'>, 'decimal': <module 'decimal' from '/home/seclab_nahyun/anaconda3/envs/workspace/lib/python3.10/decimal.py'>, 'dateutil._common': <module 'dateutil._common' from '/home/seclab_nahyun/anaconda3/envs/workspace/lib/python3.10/site-packages/dateutil/_common.py'>, 'dateutil.relativedelta': <module 'dateutil.relativedelta' from '/home/seclab_nahyun/anaconda3/envs/workspace/lib/python3.10/site-packages/dateutil/relativedelta.py'>, 'six.moves': <module 'six.moves' (<six._SixMetaPathImporter object at 0x7fb3bcc6c670>)>, 'dateutil.tz._common': <module 'dateutil.tz._common' from '/home/seclab_nahyun/anaconda3/envs/workspace/lib/python3.10/site-packages/dateutil/tz/_common.py'>, 'dateutil.tz._factories': <module 'dateutil.tz._factories' from '/home/seclab_nahyun/anaconda3/envs/workspace/lib/python3.10/site-packages/dateutil/tz/_factories.py'>, 'dateutil.tz.tz': <module 'dateutil.tz.tz' from '/home/seclab_nahyun/anaconda3/envs/workspace/lib/python3.10/site-packages/dateutil/tz/tz.py'>, 'dateutil.tz': <module 'dateutil.tz' from '/home/seclab_nahyun/anaconda3/envs/workspace/lib/python3.10/site-packages/dateutil/tz/__init__.py'>, 'dateutil.parser._parser': <module 'dateutil.parser._parser' from '/home/seclab_nahyun/anaconda3/envs/workspace/lib/python3.10/site-packages/dateutil/parser/_parser.py'>, 'dateutil.parser.isoparser': <module 'dateutil.parser.isoparser' from '/home/seclab_nahyun/anaconda3/envs/workspace/lib/python3.10/site-packages/dateutil/parser/isoparser.py'>, 'dateutil.parser': <module 'dateutil.parser' from '/home/seclab_nahyun/anaconda3/envs/workspace/lib/python3.10/site-packages/dateutil/parser/__init__.py'>, '_strptime': <module '_strptime' from '/home/seclab_nahyun/anaconda3/envs/workspace/lib/python3.10/_strptime.py'>, 'jupyter_client.jsonutil': <module 'jupyter_client.jsonutil' from '/home/seclab_nahyun/anaconda3/envs/workspace/lib/python3.10/site-packages/jupyter_client/jsonutil.py'>, 'jupyter_client.session': <module 'jupyter_client.session' from '/home/seclab_nahyun/anaconda3/envs/workspace/lib/python3.10/site-packages/jupyter_client/session.py'>, 'jupyter_client.channels': <module 'jupyter_client.channels' from '/home/seclab_nahyun/anaconda3/envs/workspace/lib/python3.10/site-packages/jupyter_client/channels.py'>, 'termios': <module 'termios' from '/home/seclab_nahyun/anaconda3/envs/workspace/lib/python3.10/lib-dynload/termios.cpython-310-x86_64-linux-gnu.so'>, 'getpass': <module 'getpass' from '/home/seclab_nahyun/anaconda3/envs/workspace/lib/python3.10/getpass.py'>, 'jupyter_client.clientabc': <module 'jupyter_client.clientabc' from '/home/seclab_nahyun/anaconda3/envs/workspace/lib/python3.10/site-packages/jupyter_client/clientabc.py'>, 'glob': <module 'glob' from '/home/seclab_nahyun/anaconda3/envs/workspace/lib/python3.10/glob.py'>, '_compression': <module '_compression' from '/home/seclab_nahyun/anaconda3/envs/workspace/lib/python3.10/_compression.py'>, '_bz2': <module '_bz2' from '/home/seclab_nahyun/anaconda3/envs/workspace/lib/python3.10/lib-dynload/_bz2.cpython-310-x86_64-linux-gnu.so'>, 'bz2': <module 'bz2' from '/home/seclab_nahyun/anaconda3/envs/workspace/lib/python3.10/bz2.py'>, '_lzma': <module '_lzma' from '/home/seclab_nahyun/anaconda3/envs/workspace/lib/python3.10/lib-dynload/_lzma.cpython-310-x86_64-linux-gnu.so'>, 'lzma': <module 'lzma' from '/home/seclab_nahyun/anaconda3/envs/workspace/lib/python3.10/lzma.py'>, 'shutil': <module 'shutil' from '/home/seclab_nahyun/anaconda3/envs/workspace/lib/python3.10/shutil.py'>, 'tempfile': <module 'tempfile' from '/home/seclab_nahyun/anaconda3/envs/workspace/lib/python3.10/tempfile.py'>, 'platformdirs.api': <module 'platformdirs.api' from '/home/seclab_nahyun/anaconda3/envs/workspace/lib/python3.10/site-packages/platformdirs/api.py'>, 'platformdirs.version': <module 'platformdirs.version' from '/home/seclab_nahyun/anaconda3/envs/workspace/lib/python3.10/site-packages/platformdirs/version.py'>, 'configparser': <module 'configparser' from '/home/seclab_nahyun/anaconda3/envs/workspace/lib/python3.10/configparser.py'>, 'platformdirs.unix': <module 'platformdirs.unix' from '/home/seclab_nahyun/anaconda3/envs/workspace/lib/python3.10/site-packages/platformdirs/unix.py'>, 'platformdirs': <module 'platformdirs' from '/home/seclab_nahyun/anaconda3/envs/workspace/lib/python3.10/site-packages/platformdirs/__init__.py'>, 'jupyter_core.paths': <module 'jupyter_core.paths' from '/home/seclab_nahyun/anaconda3/envs/workspace/lib/python3.10/site-packages/jupyter_core/paths.py'>, 'jupyter_client.localinterfaces': <module 'jupyter_client.localinterfaces' from '/home/seclab_nahyun/anaconda3/envs/workspace/lib/python3.10/site-packages/jupyter_client/localinterfaces.py'>, 'jupyter_client.utils': <module 'jupyter_client.utils' from '/home/seclab_nahyun/anaconda3/envs/workspace/lib/python3.10/site-packages/jupyter_client/utils.py'>, 'jupyter_client.connect': <module 'jupyter_client.connect' from '/home/seclab_nahyun/anaconda3/envs/workspace/lib/python3.10/site-packages/jupyter_client/connect.py'>, 'jupyter_client.client': <module 'jupyter_client.client' from '/home/seclab_nahyun/anaconda3/envs/workspace/lib/python3.10/site-packages/jupyter_client/client.py'>, 'jupyter_client.asynchronous.client': <module 'jupyter_client.asynchronous.client' from '/home/seclab_nahyun/anaconda3/envs/workspace/lib/python3.10/site-packages/jupyter_client/asynchronous/client.py'>, 'jupyter_client.asynchronous': <module 'jupyter_client.asynchronous' from '/home/seclab_nahyun/anaconda3/envs/workspace/lib/python3.10/site-packages/jupyter_client/asynchronous/__init__.py'>, 'jupyter_client.blocking.client': <module 'jupyter_client.blocking.client' from '/home/seclab_nahyun/anaconda3/envs/workspace/lib/python3.10/site-packages/jupyter_client/blocking/client.py'>, 'jupyter_client.blocking': <module 'jupyter_client.blocking' from '/home/seclab_nahyun/anaconda3/envs/workspace/lib/python3.10/site-packages/jupyter_client/blocking/__init__.py'>, 'jupyter_client.launcher': <module 'jupyter_client.launcher' from '/home/seclab_nahyun/anaconda3/envs/workspace/lib/python3.10/site-packages/jupyter_client/launcher.py'>, '_uuid': <module '_uuid' from '/home/seclab_nahyun/anaconda3/envs/workspace/lib/python3.10/lib-dynload/_uuid.cpython-310-x86_64-linux-gnu.so'>, 'uuid': <module 'uuid' from '/home/seclab_nahyun/anaconda3/envs/workspace/lib/python3.10/uuid.py'>, '_csv': <module '_csv' from '/home/seclab_nahyun/anaconda3/envs/workspace/lib/python3.10/lib-dynload/_csv.cpython-310-x86_64-linux-gnu.so'>, 'csv': <module 'csv' from '/home/seclab_nahyun/anaconda3/envs/workspace/lib/python3.10/csv.py'>, 'email': <module 'email' from '/home/seclab_nahyun/anaconda3/envs/workspace/lib/python3.10/email/__init__.py'>, 'zipfile': <module 'zipfile' from '/home/seclab_nahyun/anaconda3/envs/workspace/lib/python3.10/zipfile.py'>, 'uu': <module 'uu' from '/home/seclab_nahyun/anaconda3/envs/workspace/lib/python3.10/uu.py'>, 'quopri': <module 'quopri' from '/home/seclab_nahyun/anaconda3/envs/workspace/lib/python3.10/quopri.py'>, 'email._parseaddr': <module 'email._parseaddr' from '/home/seclab_nahyun/anaconda3/envs/workspace/lib/python3.10/email/_parseaddr.py'>, 'email.base64mime': <module 'email.base64mime' from '/home/seclab_nahyun/anaconda3/envs/workspace/lib/python3.10/email/base64mime.py'>, 'email.quoprimime': <module 'email.quoprimime' from '/home/seclab_nahyun/anaconda3/envs/workspace/lib/python3.10/email/quoprimime.py'>, 'email.errors': <module 'email.errors' from '/home/seclab_nahyun/anaconda3/envs/workspace/lib/python3.10/email/errors.py'>, 'email.encoders': <module 'email.encoders' from '/home/seclab_nahyun/anaconda3/envs/workspace/lib/python3.10/email/encoders.py'>, 'email.charset': <module 'email.charset' from '/home/seclab_nahyun/anaconda3/envs/workspace/lib/python3.10/email/charset.py'>, 'email.utils': <module 'email.utils' from '/home/seclab_nahyun/anaconda3/envs/workspace/lib/python3.10/email/utils.py'>, 'email.header': <module 'email.header' from '/home/seclab_nahyun/anaconda3/envs/workspace/lib/python3.10/email/header.py'>, 'email._policybase': <module 'email._policybase' from '/home/seclab_nahyun/anaconda3/envs/workspace/lib/python3.10/email/_policybase.py'>, 'email._encoded_words': <module 'email._encoded_words' from '/home/seclab_nahyun/anaconda3/envs/workspace/lib/python3.10/email/_encoded_words.py'>, 'email.iterators': <module 'email.iterators' from '/home/seclab_nahyun/anaconda3/envs/workspace/lib/python3.10/email/iterators.py'>, 'email.message': <module 'email.message' from '/home/seclab_nahyun/anaconda3/envs/workspace/lib/python3.10/email/message.py'>, 'importlib.metadata._functools': <module 'importlib.metadata._functools' from '/home/seclab_nahyun/anaconda3/envs/workspace/lib/python3.10/importlib/metadata/_functools.py'>, 'importlib.metadata._text': <module 'importlib.metadata._text' from '/home/seclab_nahyun/anaconda3/envs/workspace/lib/python3.10/importlib/metadata/_text.py'>, 'importlib.metadata._adapters': <module 'importlib.metadata._adapters' from '/home/seclab_nahyun/anaconda3/envs/workspace/lib/python3.10/importlib/metadata/_adapters.py'>, 'importlib.metadata._meta': <module 'importlib.metadata._meta' from '/home/seclab_nahyun/anaconda3/envs/workspace/lib/python3.10/importlib/metadata/_meta.py'>, 'importlib.metadata._collections': <module 'importlib.metadata._collections' from '/home/seclab_nahyun/anaconda3/envs/workspace/lib/python3.10/importlib/metadata/_collections.py'>, 'importlib.metadata._itertools': <module 'importlib.metadata._itertools' from '/home/seclab_nahyun/anaconda3/envs/workspace/lib/python3.10/importlib/metadata/_itertools.py'>, 'importlib.abc': <module 'importlib.abc' from '/home/seclab_nahyun/anaconda3/envs/workspace/lib/python3.10/importlib/abc.py'>, 'importlib.metadata': <module 'importlib.metadata' from '/home/seclab_nahyun/anaconda3/envs/workspace/lib/python3.10/importlib/metadata/__init__.py'>, 'jupyter_client.provisioning.provisioner_base': <module 'jupyter_client.provisioning.provisioner_base' from '/home/seclab_nahyun/anaconda3/envs/workspace/lib/python3.10/site-packages/jupyter_client/provisioning/provisioner_base.py'>, 'jupyter_client.provisioning.factory': <module 'jupyter_client.provisioning.factory' from '/home/seclab_nahyun/anaconda3/envs/workspace/lib/python3.10/site-packages/jupyter_client/provisioning/factory.py'>, 'jupyter_client.provisioning.local_provisioner': <module 'jupyter_client.provisioning.local_provisioner' from '/home/seclab_nahyun/anaconda3/envs/workspace/lib/python3.10/site-packages/jupyter_client/provisioning/local_provisioner.py'>, 'jupyter_client.provisioning': <module 'jupyter_client.provisioning' from '/home/seclab_nahyun/anaconda3/envs/workspace/lib/python3.10/site-packages/jupyter_client/provisioning/__init__.py'>, 'jupyter_client.kernelspec': <module 'jupyter_client.kernelspec' from '/home/seclab_nahyun/anaconda3/envs/workspace/lib/python3.10/site-packages/jupyter_client/kernelspec.py'>, 'jupyter_client.managerabc': <module 'jupyter_client.managerabc' from '/home/seclab_nahyun/anaconda3/envs/workspace/lib/python3.10/site-packages/jupyter_client/managerabc.py'>, 'jupyter_client.manager': <module 'jupyter_client.manager' from '/home/seclab_nahyun/anaconda3/envs/workspace/lib/python3.10/site-packages/jupyter_client/manager.py'>, 'jupyter_client.multikernelmanager': <module 'jupyter_client.multikernelmanager' from '/home/seclab_nahyun/anaconda3/envs/workspace/lib/python3.10/site-packages/jupyter_client/multikernelmanager.py'>, 'jupyter_client': <module 'jupyter_client' from '/home/seclab_nahyun/anaconda3/envs/workspace/lib/python3.10/site-packages/jupyter_client/__init__.py'>, 'ipykernel.connect': <module 'ipykernel.connect' from '/home/seclab_nahyun/anaconda3/envs/workspace/lib/python3.10/site-packages/ipykernel/connect.py'>, 'ipykernel': <module 'ipykernel' from '/home/seclab_nahyun/anaconda3/envs/workspace/lib/python3.10/site-packages/ipykernel/__init__.py'>, 'IPython.core': <module 'IPython.core' from '/home/seclab_nahyun/anaconda3/envs/workspace/lib/python3.10/site-packages/IPython/core/__init__.py'>, 'IPython.core.getipython': <module 'IPython.core.getipython' from '/home/seclab_nahyun/anaconda3/envs/workspace/lib/python3.10/site-packages/IPython/core/getipython.py'>, 'IPython.core.release': <module 'IPython.core.release' from '/home/seclab_nahyun/anaconda3/envs/workspace/lib/python3.10/site-packages/IPython/core/release.py'>, 'pkgutil': <module 'pkgutil' from '/home/seclab_nahyun/anaconda3/envs/workspace/lib/python3.10/pkgutil.py'>, 'sysconfig': <module 'sysconfig' from '/home/seclab_nahyun/anaconda3/envs/workspace/lib/python3.10/sysconfig.py'>, '_sysconfigdata__linux_x86_64-linux-gnu': <module '_sysconfigdata__linux_x86_64-linux-gnu' from '/home/seclab_nahyun/anaconda3/envs/workspace/lib/python3.10/_sysconfigdata__linux_x86_64-linux-gnu.py'>, 'pydoc': <module 'pydoc' from '/home/seclab_nahyun/anaconda3/envs/workspace/lib/python3.10/pydoc.py'>, 'executing.executing': <module 'executing.executing' from '/home/seclab_nahyun/anaconda3/envs/workspace/lib/python3.10/site-packages/executing/executing.py'>, 'executing.version': <module 'executing.version' from '/home/seclab_nahyun/anaconda3/envs/workspace/lib/python3.10/site-packages/executing/version.py'>, 'executing': <module 'executing' from '/home/seclab_nahyun/anaconda3/envs/workspace/lib/python3.10/site-packages/executing/__init__.py'>, 'asttokens.line_numbers': <module 'asttokens.line_numbers' from '/home/seclab_nahyun/anaconda3/envs/workspace/lib/python3.10/site-packages/asttokens/line_numbers.py'>, 'asttokens.util': <module 'asttokens.util' from '/home/seclab_nahyun/anaconda3/envs/workspace/lib/python3.10/site-packages/asttokens/util.py'>, 'asttokens.asttokens': <module 'asttokens.asttokens' from '/home/seclab_nahyun/anaconda3/envs/workspace/lib/python3.10/site-packages/asttokens/asttokens.py'>, 'asttokens': <module 'asttokens' from '/home/seclab_nahyun/anaconda3/envs/workspace/lib/python3.10/site-packages/asttokens/__init__.py'>, 'fractions': <module 'fractions' from '/home/seclab_nahyun/anaconda3/envs/workspace/lib/python3.10/fractions.py'>, 'pure_eval.utils': <module 'pure_eval.utils' from '/home/seclab_nahyun/anaconda3/envs/workspace/lib/python3.10/site-packages/pure_eval/utils.py'>, 'pure_eval.my_getattr_static': <module 'pure_eval.my_getattr_static' from '/home/seclab_nahyun/anaconda3/envs/workspace/lib/python3.10/site-packages/pure_eval/my_getattr_static.py'>, 'pure_eval.core': <module 'pure_eval.core' from '/home/seclab_nahyun/anaconda3/envs/workspace/lib/python3.10/site-packages/pure_eval/core.py'>, 'pure_eval.version': <module 'pure_eval.version' from '/home/seclab_nahyun/anaconda3/envs/workspace/lib/python3.10/site-packages/pure_eval/version.py'>, 'pure_eval': <module 'pure_eval' from '/home/seclab_nahyun/anaconda3/envs/workspace/lib/python3.10/site-packages/pure_eval/__init__.py'>, 'stack_data.utils': <module 'stack_data.utils' from '/home/seclab_nahyun/anaconda3/envs/workspace/lib/python3.10/site-packages/stack_data/utils.py'>, 'stack_data.core': <module 'stack_data.core' from '/home/seclab_nahyun/anaconda3/envs/workspace/lib/python3.10/site-packages/stack_data/core.py'>, 'stack_data.formatting': <module 'stack_data.formatting' from '/home/seclab_nahyun/anaconda3/envs/workspace/lib/python3.10/site-packages/stack_data/formatting.py'>, 'stack_data.serializing': <module 'stack_data.serializing' from '/home/seclab_nahyun/anaconda3/envs/workspace/lib/python3.10/site-packages/stack_data/serializing.py'>, 'stack_data.version': <module 'stack_data.version' from '/home/seclab_nahyun/anaconda3/envs/workspace/lib/python3.10/site-packages/stack_data/version.py'>, 'stack_data': <module 'stack_data' from '/home/seclab_nahyun/anaconda3/envs/workspace/lib/python3.10/site-packages/stack_data/__init__.py'>, 'pygments': <module 'pygments' from '/home/seclab_nahyun/anaconda3/envs/workspace/lib/python3.10/site-packages/pygments/__init__.py'>, 'pygments.formatters._mapping': <module 'pygments.formatters._mapping' from '/home/seclab_nahyun/anaconda3/envs/workspace/lib/python3.10/site-packages/pygments/formatters/_mapping.py'>, 'pygments.plugin': <module 'pygments.plugin' from '/home/seclab_nahyun/anaconda3/envs/workspace/lib/python3.10/site-packages/pygments/plugin.py'>, 'pygments.util': <module 'pygments.util' from '/home/seclab_nahyun/anaconda3/envs/workspace/lib/python3.10/site-packages/pygments/util.py'>, 'pygments.formatters': <module 'pygments.formatters' from '/home/seclab_nahyun/anaconda3/envs/workspace/lib/python3.10/site-packages/pygments/formatters/__init__.py'>, 'pygments.styles': <module 'pygments.styles' from '/home/seclab_nahyun/anaconda3/envs/workspace/lib/python3.10/site-packages/pygments/styles/__init__.py'>, 'pygments.formatter': <module 'pygments.formatter' from '/home/seclab_nahyun/anaconda3/envs/workspace/lib/python3.10/site-packages/pygments/formatter.py'>, 'pygments.console': <module 'pygments.console' from '/home/seclab_nahyun/anaconda3/envs/workspace/lib/python3.10/site-packages/pygments/console.py'>, 'pygments.token': <module 'pygments.token' from '/home/seclab_nahyun/anaconda3/envs/workspace/lib/python3.10/site-packages/pygments/token.py'>, 'pygments.style': <module 'pygments.style' from '/home/seclab_nahyun/anaconda3/envs/workspace/lib/python3.10/site-packages/pygments/style.py'>, 'pygments.formatters.terminal256': <module 'pygments.formatters.terminal256' from '/home/seclab_nahyun/anaconda3/envs/workspace/lib/python3.10/site-packages/pygments/formatters/terminal256.py'>, 'IPython.utils': <module 'IPython.utils' from '/home/seclab_nahyun/anaconda3/envs/workspace/lib/python3.10/site-packages/IPython/utils/__init__.py'>, 'IPython.utils.colorable': <module 'IPython.utils.colorable' from '/home/seclab_nahyun/anaconda3/envs/workspace/lib/python3.10/site-packages/IPython/utils/colorable.py'>, 'IPython.utils.ipstruct': <module 'IPython.utils.ipstruct' from '/home/seclab_nahyun/anaconda3/envs/workspace/lib/python3.10/site-packages/IPython/utils/ipstruct.py'>, 'IPython.utils.coloransi': <module 'IPython.utils.coloransi' from '/home/seclab_nahyun/anaconda3/envs/workspace/lib/python3.10/site-packages/IPython/utils/coloransi.py'>, 'IPython.utils.PyColorize': <module 'IPython.utils.PyColorize' from '/home/seclab_nahyun/anaconda3/envs/workspace/lib/python3.10/site-packages/IPython/utils/PyColorize.py'>, 'IPython.utils.encoding': <module 'IPython.utils.encoding' from '/home/seclab_nahyun/anaconda3/envs/workspace/lib/python3.10/site-packages/IPython/utils/encoding.py'>, 'IPython.utils.py3compat': <module 'IPython.utils.py3compat' from '/home/seclab_nahyun/anaconda3/envs/workspace/lib/python3.10/site-packages/IPython/utils/py3compat.py'>, 'IPython.core.excolors': <module 'IPython.core.excolors' from '/home/seclab_nahyun/anaconda3/envs/workspace/lib/python3.10/site-packages/IPython/core/excolors.py'>, 'cmd': <module 'cmd' from '/home/seclab_nahyun/anaconda3/envs/workspace/lib/python3.10/cmd.py'>, 'bdb': <module 'bdb' from '/home/seclab_nahyun/anaconda3/envs/workspace/lib/python3.10/bdb.py'>, 'codeop': <module 'codeop' from '/home/seclab_nahyun/anaconda3/envs/workspace/lib/python3.10/codeop.py'>, 'code': <module 'code' from '/home/seclab_nahyun/anaconda3/envs/workspace/lib/python3.10/code.py'>, 'pdb': <module 'pdb' from '/home/seclab_nahyun/anaconda3/envs/workspace/lib/python3.10/pdb.py'>, 'IPython.core.debugger': <module 'IPython.core.debugger' from '/home/seclab_nahyun/anaconda3/envs/workspace/lib/python3.10/site-packages/IPython/core/debugger.py'>, 'IPython.core.display_trap': <module 'IPython.core.display_trap' from '/home/seclab_nahyun/anaconda3/envs/workspace/lib/python3.10/site-packages/IPython/core/display_trap.py'>, 'pexpect.exceptions': <module 'pexpect.exceptions' from '/home/seclab_nahyun/anaconda3/envs/workspace/lib/python3.10/site-packages/pexpect/exceptions.py'>, 'pexpect.utils': <module 'pexpect.utils' from '/home/seclab_nahyun/anaconda3/envs/workspace/lib/python3.10/site-packages/pexpect/utils.py'>, 'pexpect.expect': <module 'pexpect.expect' from '/home/seclab_nahyun/anaconda3/envs/workspace/lib/python3.10/site-packages/pexpect/expect.py'>, 'tty': <module 'tty' from '/home/seclab_nahyun/anaconda3/envs/workspace/lib/python3.10/tty.py'>, 'pty': <module 'pty' from '/home/seclab_nahyun/anaconda3/envs/workspace/lib/python3.10/pty.py'>, 'resource': <module 'resource' from '/home/seclab_nahyun/anaconda3/envs/workspace/lib/python3.10/lib-dynload/resource.cpython-310-x86_64-linux-gnu.so'>, 'ptyprocess.util': <module 'ptyprocess.util' from '/home/seclab_nahyun/anaconda3/envs/workspace/lib/python3.10/site-packages/ptyprocess/util.py'>, 'ptyprocess.ptyprocess': <module 'ptyprocess.ptyprocess' from '/home/seclab_nahyun/anaconda3/envs/workspace/lib/python3.10/site-packages/ptyprocess/ptyprocess.py'>, 'ptyprocess': <module 'ptyprocess' from '/home/seclab_nahyun/anaconda3/envs/workspace/lib/python3.10/site-packages/ptyprocess/__init__.py'>, 'pexpect.spawnbase': <module 'pexpect.spawnbase' from '/home/seclab_nahyun/anaconda3/envs/workspace/lib/python3.10/site-packages/pexpect/spawnbase.py'>, 'pexpect.pty_spawn': <module 'pexpect.pty_spawn' from '/home/seclab_nahyun/anaconda3/envs/workspace/lib/python3.10/site-packages/pexpect/pty_spawn.py'>, 'pexpect.run': <module 'pexpect.run' from '/home/seclab_nahyun/anaconda3/envs/workspace/lib/python3.10/site-packages/pexpect/run.py'>, 'pexpect': <module 'pexpect' from '/home/seclab_nahyun/anaconda3/envs/workspace/lib/python3.10/site-packages/pexpect/__init__.py'>, 'shlex': <module 'shlex' from '/home/seclab_nahyun/anaconda3/envs/workspace/lib/python3.10/shlex.py'>, 'IPython.utils._process_common': <module 'IPython.utils._process_common' from '/home/seclab_nahyun/anaconda3/envs/workspace/lib/python3.10/site-packages/IPython/utils/_process_common.py'>, 'IPython.utils._process_posix': <module 'IPython.utils._process_posix' from '/home/seclab_nahyun/anaconda3/envs/workspace/lib/python3.10/site-packages/IPython/utils/_process_posix.py'>, 'IPython.utils.process': <module 'IPython.utils.process' from '/home/seclab_nahyun/anaconda3/envs/workspace/lib/python3.10/site-packages/IPython/utils/process.py'>, 'IPython.utils.path': <module 'IPython.utils.path' from '/home/seclab_nahyun/anaconda3/envs/workspace/lib/python3.10/site-packages/IPython/utils/path.py'>, 'IPython.utils.terminal': <module 'IPython.utils.terminal' from '/home/seclab_nahyun/anaconda3/envs/workspace/lib/python3.10/site-packages/IPython/utils/terminal.py'>, 'IPython.core.ultratb': <module 'IPython.core.ultratb' from '/home/seclab_nahyun/anaconda3/envs/workspace/lib/python3.10/site-packages/IPython/core/ultratb.py'>, 'IPython.utils._sysinfo': <module 'IPython.utils._sysinfo' from '/home/seclab_nahyun/anaconda3/envs/workspace/lib/python3.10/site-packages/IPython/utils/_sysinfo.py'>, 'IPython.utils.sysinfo': <module 'IPython.utils.sysinfo' from '/home/seclab_nahyun/anaconda3/envs/workspace/lib/python3.10/site-packages/IPython/utils/sysinfo.py'>, 'IPython.core.crashhandler': <module 'IPython.core.crashhandler' from '/home/seclab_nahyun/anaconda3/envs/workspace/lib/python3.10/site-packages/IPython/core/crashhandler.py'>, 'IPython.utils.importstring': <module 'IPython.utils.importstring' from '/home/seclab_nahyun/anaconda3/envs/workspace/lib/python3.10/site-packages/IPython/utils/importstring.py'>, 'IPython.paths': <module 'IPython.paths' from '/home/seclab_nahyun/anaconda3/envs/workspace/lib/python3.10/site-packages/IPython/paths.py'>, 'IPython.core.profiledir': <module 'IPython.core.profiledir' from '/home/seclab_nahyun/anaconda3/envs/workspace/lib/python3.10/site-packages/IPython/core/profiledir.py'>, 'IPython.core.application': <module 'IPython.core.application' from '/home/seclab_nahyun/anaconda3/envs/workspace/lib/python3.10/site-packages/IPython/core/application.py'>, 'IPython.terminal': <module 'IPython.terminal' from '/home/seclab_nahyun/anaconda3/envs/workspace/lib/python3.10/site-packages/IPython/terminal/__init__.py'>, 'IPython.core.compilerop': <module 'IPython.core.compilerop' from '/home/seclab_nahyun/anaconda3/envs/workspace/lib/python3.10/site-packages/IPython/core/compilerop.py'>, 'IPython.core.error': <module 'IPython.core.error' from '/home/seclab_nahyun/anaconda3/envs/workspace/lib/python3.10/site-packages/IPython/core/error.py'>, 'IPython.utils.docs': <module 'IPython.utils.docs' from '/home/seclab_nahyun/anaconda3/envs/workspace/lib/python3.10/site-packages/IPython/utils/docs.py'>, 'IPython.utils.decorators': <module 'IPython.utils.decorators' from '/home/seclab_nahyun/anaconda3/envs/workspace/lib/python3.10/site-packages/IPython/utils/decorators.py'>, 'IPython.utils.text': <module 'IPython.utils.text' from '/home/seclab_nahyun/anaconda3/envs/workspace/lib/python3.10/site-packages/IPython/utils/text.py'>, 'IPython.core.magic_arguments': <module 'IPython.core.magic_arguments' from '/home/seclab_nahyun/anaconda3/envs/workspace/lib/python3.10/site-packages/IPython/core/magic_arguments.py'>, 'getopt': <module 'getopt' from '/home/seclab_nahyun/anaconda3/envs/workspace/lib/python3.10/getopt.py'>, 'IPython.core.display_functions': <module 'IPython.core.display_functions' from '/home/seclab_nahyun/anaconda3/envs/workspace/lib/python3.10/site-packages/IPython/core/display_functions.py'>, 'mimetypes': <module 'mimetypes' from '/home/seclab_nahyun/anaconda3/envs/workspace/lib/python3.10/mimetypes.py'>, 'IPython.testing': <module 'IPython.testing' from '/home/seclab_nahyun/anaconda3/envs/workspace/lib/python3.10/site-packages/IPython/testing/__init__.py'>, 'IPython.testing.skipdoctest': <module 'IPython.testing.skipdoctest' from '/home/seclab_nahyun/anaconda3/envs/workspace/lib/python3.10/site-packages/IPython/testing/skipdoctest.py'>, 'IPython.core.display': <module 'IPython.core.display' from '/home/seclab_nahyun/anaconda3/envs/workspace/lib/python3.10/site-packages/IPython/core/display.py'>, 'IPython.lib': <module 'IPython.lib' from '/home/seclab_nahyun/anaconda3/envs/workspace/lib/python3.10/site-packages/IPython/lib/__init__.py'>, 'IPython.lib.display': <module 'IPython.lib.display' from '/home/seclab_nahyun/anaconda3/envs/workspace/lib/python3.10/site-packages/IPython/lib/display.py'>, 'IPython.display': <module 'IPython.display' from '/home/seclab_nahyun/anaconda3/envs/workspace/lib/python3.10/site-packages/IPython/display.py'>, 'IPython.utils.data': <module 'IPython.utils.data' from '/home/seclab_nahyun/anaconda3/envs/workspace/lib/python3.10/site-packages/IPython/utils/data.py'>, 'IPython.core.page': <module 'IPython.core.page' from '/home/seclab_nahyun/anaconda3/envs/workspace/lib/python3.10/site-packages/IPython/core/page.py'>, 'IPython.lib.pretty': <module 'IPython.lib.pretty' from '/home/seclab_nahyun/anaconda3/envs/workspace/lib/python3.10/site-packages/IPython/lib/pretty.py'>, 'IPython.utils.openpy': <module 'IPython.utils.openpy' from '/home/seclab_nahyun/anaconda3/envs/workspace/lib/python3.10/site-packages/IPython/utils/openpy.py'>, 'IPython.utils.dir2': <module 'IPython.utils.dir2' from '/home/seclab_nahyun/anaconda3/envs/workspace/lib/python3.10/site-packages/IPython/utils/dir2.py'>, 'IPython.utils.wildcard': <module 'IPython.utils.wildcard' from '/home/seclab_nahyun/anaconda3/envs/workspace/lib/python3.10/site-packages/IPython/utils/wildcard.py'>, 'pygments.lexers._mapping': <module 'pygments.lexers._mapping' from '/home/seclab_nahyun/anaconda3/envs/workspace/lib/python3.10/site-packages/pygments/lexers/_mapping.py'>, 'pygments.modeline': <module 'pygments.modeline' from '/home/seclab_nahyun/anaconda3/envs/workspace/lib/python3.10/site-packages/pygments/modeline.py'>, 'pygments.lexers': <module 'pygments.lexers' from '/home/seclab_nahyun/anaconda3/envs/workspace/lib/python3.10/site-packages/pygments/lexers/__init__.py'>, 'pygments.filter': <module 'pygments.filter' from '/home/seclab_nahyun/anaconda3/envs/workspace/lib/python3.10/site-packages/pygments/filter.py'>, 'pygments.filters': <module 'pygments.filters' from '/home/seclab_nahyun/anaconda3/envs/workspace/lib/python3.10/site-packages/pygments/filters/__init__.py'>, 'pygments.regexopt': <module 'pygments.regexopt' from '/home/seclab_nahyun/anaconda3/envs/workspace/lib/python3.10/site-packages/pygments/regexopt.py'>, 'pygments.lexer': <module 'pygments.lexer' from '/home/seclab_nahyun/anaconda3/envs/workspace/lib/python3.10/site-packages/pygments/lexer.py'>, 'pygments.unistring': <module 'pygments.unistring' from '/home/seclab_nahyun/anaconda3/envs/workspace/lib/python3.10/site-packages/pygments/unistring.py'>, 'pygments.lexers.python': <module 'pygments.lexers.python' from '/home/seclab_nahyun/anaconda3/envs/workspace/lib/python3.10/site-packages/pygments/lexers/python.py'>, 'pygments.formatters.html': <module 'pygments.formatters.html' from '/home/seclab_nahyun/anaconda3/envs/workspace/lib/python3.10/site-packages/pygments/formatters/html.py'>, 'IPython.core.oinspect': <module 'IPython.core.oinspect' from '/home/seclab_nahyun/anaconda3/envs/workspace/lib/python3.10/site-packages/IPython/core/oinspect.py'>, 'IPython.utils.tokenutil': <module 'IPython.utils.tokenutil' from '/home/seclab_nahyun/anaconda3/envs/workspace/lib/python3.10/site-packages/IPython/utils/tokenutil.py'>, 'IPython.core.inputtransformer2': <module 'IPython.core.inputtransformer2' from '/home/seclab_nahyun/anaconda3/envs/workspace/lib/python3.10/site-packages/IPython/core/inputtransformer2.py'>, 'IPython.core.magic': <module 'IPython.core.magic' from '/home/seclab_nahyun/anaconda3/envs/workspace/lib/python3.10/site-packages/IPython/core/magic.py'>, 'pickleshare': <module 'pickleshare' from '/home/seclab_nahyun/anaconda3/envs/workspace/lib/python3.10/site-packages/pickleshare.py'>, 'IPython.core.hooks': <module 'IPython.core.hooks' from '/home/seclab_nahyun/anaconda3/envs/workspace/lib/python3.10/site-packages/IPython/core/hooks.py'>, 'IPython.core.autocall': <module 'IPython.core.autocall' from '/home/seclab_nahyun/anaconda3/envs/workspace/lib/python3.10/site-packages/IPython/core/autocall.py'>, 'IPython.core.macro': <module 'IPython.core.macro' from '/home/seclab_nahyun/anaconda3/envs/workspace/lib/python3.10/site-packages/IPython/core/macro.py'>, 'IPython.core.splitinput': <module 'IPython.core.splitinput' from '/home/seclab_nahyun/anaconda3/envs/workspace/lib/python3.10/site-packages/IPython/core/splitinput.py'>, 'IPython.core.prefilter': <module 'IPython.core.prefilter' from '/home/seclab_nahyun/anaconda3/envs/workspace/lib/python3.10/site-packages/IPython/core/prefilter.py'>, 'IPython.core.alias': <module 'IPython.core.alias' from '/home/seclab_nahyun/anaconda3/envs/workspace/lib/python3.10/site-packages/IPython/core/alias.py'>, 'IPython.core.builtin_trap': <module 'IPython.core.builtin_trap' from '/home/seclab_nahyun/anaconda3/envs/workspace/lib/python3.10/site-packages/IPython/core/builtin_trap.py'>, 'IPython.core.displayhook': <module 'IPython.core.displayhook' from '/home/seclab_nahyun/anaconda3/envs/workspace/lib/python3.10/site-packages/IPython/core/displayhook.py'>, 'IPython.core.displaypub': <module 'IPython.core.displaypub' from '/home/seclab_nahyun/anaconda3/envs/workspace/lib/python3.10/site-packages/IPython/core/displaypub.py'>, 'backcall.backcall': <module 'backcall.backcall' from '/home/seclab_nahyun/anaconda3/envs/workspace/lib/python3.10/site-packages/backcall/backcall.py'>, 'backcall': <module 'backcall' from '/home/seclab_nahyun/anaconda3/envs/workspace/lib/python3.10/site-packages/backcall/__init__.py'>, 'IPython.core.events': <module 'IPython.core.events' from '/home/seclab_nahyun/anaconda3/envs/workspace/lib/python3.10/site-packages/IPython/core/events.py'>, 'IPython.core.extensions': <module 'IPython.core.extensions' from '/home/seclab_nahyun/anaconda3/envs/workspace/lib/python3.10/site-packages/IPython/core/extensions.py'>, 'decorator': <module 'decorator' from '/home/seclab_nahyun/anaconda3/envs/workspace/lib/python3.10/site-packages/decorator.py'>, 'IPython.utils.sentinel': <module 'IPython.utils.sentinel' from '/home/seclab_nahyun/anaconda3/envs/workspace/lib/python3.10/site-packages/IPython/utils/sentinel.py'>, 'IPython.core.formatters': <module 'IPython.core.formatters' from '/home/seclab_nahyun/anaconda3/envs/workspace/lib/python3.10/site-packages/IPython/core/formatters.py'>, '_sqlite3': <module '_sqlite3' from '/home/seclab_nahyun/anaconda3/envs/workspace/lib/python3.10/lib-dynload/_sqlite3.cpython-310-x86_64-linux-gnu.so'>, 'sqlite3.dbapi2': <module 'sqlite3.dbapi2' from '/home/seclab_nahyun/anaconda3/envs/workspace/lib/python3.10/sqlite3/dbapi2.py'>, 'sqlite3': <module 'sqlite3' from '/home/seclab_nahyun/anaconda3/envs/workspace/lib/python3.10/sqlite3/__init__.py'>, 'IPython.core.history': <module 'IPython.core.history' from '/home/seclab_nahyun/anaconda3/envs/workspace/lib/python3.10/site-packages/IPython/core/history.py'>, 'IPython.core.logger': <module 'IPython.core.logger' from '/home/seclab_nahyun/anaconda3/envs/workspace/lib/python3.10/site-packages/IPython/core/logger.py'>, 'IPython.core.payload': <module 'IPython.core.payload' from '/home/seclab_nahyun/anaconda3/envs/workspace/lib/python3.10/site-packages/IPython/core/payload.py'>, 'IPython.core.usage': <module 'IPython.core.usage' from '/home/seclab_nahyun/anaconda3/envs/workspace/lib/python3.10/site-packages/IPython/core/usage.py'>, 'IPython.utils.capture': <module 'IPython.utils.capture' from '/home/seclab_nahyun/anaconda3/envs/workspace/lib/python3.10/site-packages/IPython/utils/capture.py'>, 'IPython.utils.io': <module 'IPython.utils.io' from '/home/seclab_nahyun/anaconda3/envs/workspace/lib/python3.10/site-packages/IPython/utils/io.py'>, 'IPython.utils.strdispatch': <module 'IPython.utils.strdispatch' from '/home/seclab_nahyun/anaconda3/envs/workspace/lib/python3.10/site-packages/IPython/utils/strdispatch.py'>, 'IPython.utils.syspathcontext': <module 'IPython.utils.syspathcontext' from '/home/seclab_nahyun/anaconda3/envs/workspace/lib/python3.10/site-packages/IPython/utils/syspathcontext.py'>, 'exceptiongroup._exceptions': <module 'exceptiongroup._exceptions' from '/home/seclab_nahyun/anaconda3/envs/workspace/lib/python3.10/site-packages/exceptiongroup/_exceptions.py'>, 'exceptiongroup._catch': <module 'exceptiongroup._catch' from '/home/seclab_nahyun/anaconda3/envs/workspace/lib/python3.10/site-packages/exceptiongroup/_catch.py'>, 'exceptiongroup._version': <module 'exceptiongroup._version' from '/home/seclab_nahyun/anaconda3/envs/workspace/lib/python3.10/site-packages/exceptiongroup/_version.py'>, 'exceptiongroup._formatting': <module 'exceptiongroup._formatting' from '/home/seclab_nahyun/anaconda3/envs/workspace/lib/python3.10/site-packages/exceptiongroup/_formatting.py'>, 'exceptiongroup': <module 'exceptiongroup' from '/home/seclab_nahyun/anaconda3/envs/workspace/lib/python3.10/site-packages/exceptiongroup/__init__.py'>, 'IPython.core.async_helpers': <module 'IPython.core.async_helpers' from '/home/seclab_nahyun/anaconda3/envs/workspace/lib/python3.10/site-packages/IPython/core/async_helpers.py'>, 'IPython.core.interactiveshell': <module 'IPython.core.interactiveshell' from '/home/seclab_nahyun/anaconda3/envs/workspace/lib/python3.10/site-packages/IPython/core/interactiveshell.py'>, 'prompt_toolkit.application.current': <module 'prompt_toolkit.application.current' from '/home/seclab_nahyun/anaconda3/envs/workspace/lib/python3.10/site-packages/prompt_toolkit/application/current.py'>, 'prompt_toolkit.eventloop.utils': <module 'prompt_toolkit.eventloop.utils' from '/home/seclab_nahyun/anaconda3/envs/workspace/lib/python3.10/site-packages/prompt_toolkit/eventloop/utils.py'>, 'prompt_toolkit.eventloop.async_generator': <module 'prompt_toolkit.eventloop.async_generator' from '/home/seclab_nahyun/anaconda3/envs/workspace/lib/python3.10/site-packages/prompt_toolkit/eventloop/async_generator.py'>, 'prompt_toolkit.eventloop.inputhook': <module 'prompt_toolkit.eventloop.inputhook' from '/home/seclab_nahyun/anaconda3/envs/workspace/lib/python3.10/site-packages/prompt_toolkit/eventloop/inputhook.py'>, 'prompt_toolkit.eventloop': <module 'prompt_toolkit.eventloop' from '/home/seclab_nahyun/anaconda3/envs/workspace/lib/python3.10/site-packages/prompt_toolkit/eventloop/__init__.py'>, 'prompt_toolkit.application.run_in_terminal': <module 'prompt_toolkit.application.run_in_terminal' from '/home/seclab_nahyun/anaconda3/envs/workspace/lib/python3.10/site-packages/prompt_toolkit/application/run_in_terminal.py'>, 'prompt_toolkit.selection': <module 'prompt_toolkit.selection' from '/home/seclab_nahyun/anaconda3/envs/workspace/lib/python3.10/site-packages/prompt_toolkit/selection.py'>, 'prompt_toolkit.clipboard.base': <module 'prompt_toolkit.clipboard.base' from '/home/seclab_nahyun/anaconda3/envs/workspace/lib/python3.10/site-packages/prompt_toolkit/clipboard/base.py'>, 'prompt_toolkit.clipboard.in_memory': <module 'prompt_toolkit.clipboard.in_memory' from '/home/seclab_nahyun/anaconda3/envs/workspace/lib/python3.10/site-packages/prompt_toolkit/clipboard/in_memory.py'>, 'prompt_toolkit.clipboard': <module 'prompt_toolkit.clipboard' from '/home/seclab_nahyun/anaconda3/envs/workspace/lib/python3.10/site-packages/prompt_toolkit/clipboard/__init__.py'>, 'prompt_toolkit.cache': <module 'prompt_toolkit.cache' from '/home/seclab_nahyun/anaconda3/envs/workspace/lib/python3.10/site-packages/prompt_toolkit/cache.py'>, 'prompt_toolkit.enums': <module 'prompt_toolkit.enums' from '/home/seclab_nahyun/anaconda3/envs/workspace/lib/python3.10/site-packages/prompt_toolkit/enums.py'>, 'prompt_toolkit.filters.base': <module 'prompt_toolkit.filters.base' from '/home/seclab_nahyun/anaconda3/envs/workspace/lib/python3.10/site-packages/prompt_toolkit/filters/base.py'>, 'prompt_toolkit.filters.app': <module 'prompt_toolkit.filters.app' from '/home/seclab_nahyun/anaconda3/envs/workspace/lib/python3.10/site-packages/prompt_toolkit/filters/app.py'>, 'prompt_toolkit.filters.cli': <module 'prompt_toolkit.filters.cli' from '/home/seclab_nahyun/anaconda3/envs/workspace/lib/python3.10/site-packages/prompt_toolkit/filters/cli.py'>, 'prompt_toolkit.filters.utils': <module 'prompt_toolkit.filters.utils' from '/home/seclab_nahyun/anaconda3/envs/workspace/lib/python3.10/site-packages/prompt_toolkit/filters/utils.py'>, 'prompt_toolkit.filters': <module 'prompt_toolkit.filters' from '/home/seclab_nahyun/anaconda3/envs/workspace/lib/python3.10/site-packages/prompt_toolkit/filters/__init__.py'>, 'prompt_toolkit.document': <module 'prompt_toolkit.document' from '/home/seclab_nahyun/anaconda3/envs/workspace/lib/python3.10/site-packages/prompt_toolkit/document.py'>, 'prompt_toolkit.auto_suggest': <module 'prompt_toolkit.auto_suggest' from '/home/seclab_nahyun/anaconda3/envs/workspace/lib/python3.10/site-packages/prompt_toolkit/auto_suggest.py'>, 'prompt_toolkit.keys': <module 'prompt_toolkit.keys' from '/home/seclab_nahyun/anaconda3/envs/workspace/lib/python3.10/site-packages/prompt_toolkit/keys.py'>, 'prompt_toolkit.key_binding.key_bindings': <module 'prompt_toolkit.key_binding.key_bindings' from '/home/seclab_nahyun/anaconda3/envs/workspace/lib/python3.10/site-packages/prompt_toolkit/key_binding/key_bindings.py'>, 'wcwidth.table_wide': <module 'wcwidth.table_wide' from '/home/seclab_nahyun/anaconda3/envs/workspace/lib/python3.10/site-packages/wcwidth/table_wide.py'>, 'wcwidth.table_zero': <module 'wcwidth.table_zero' from '/home/seclab_nahyun/anaconda3/envs/workspace/lib/python3.10/site-packages/wcwidth/table_zero.py'>, 'wcwidth.unicode_versions': <module 'wcwidth.unicode_versions' from '/home/seclab_nahyun/anaconda3/envs/workspace/lib/python3.10/site-packages/wcwidth/unicode_versions.py'>, 'wcwidth.wcwidth': <module 'wcwidth.wcwidth' from '/home/seclab_nahyun/anaconda3/envs/workspace/lib/python3.10/site-packages/wcwidth/wcwidth.py'>, 'wcwidth': <module 'wcwidth' from '/home/seclab_nahyun/anaconda3/envs/workspace/lib/python3.10/site-packages/wcwidth/__init__.py'>, 'prompt_toolkit.utils': <module 'prompt_toolkit.utils' from '/home/seclab_nahyun/anaconda3/envs/workspace/lib/python3.10/site-packages/prompt_toolkit/utils.py'>, 'prompt_toolkit.key_binding.key_processor': <module 'prompt_toolkit.key_binding.key_processor' from '/home/seclab_nahyun/anaconda3/envs/workspace/lib/python3.10/site-packages/prompt_toolkit/key_binding/key_processor.py'>, 'prompt_toolkit.key_binding': <module 'prompt_toolkit.key_binding' from '/home/seclab_nahyun/anaconda3/envs/workspace/lib/python3.10/site-packages/prompt_toolkit/key_binding/__init__.py'>, 'prompt_toolkit.key_binding.vi_state': <module 'prompt_toolkit.key_binding.vi_state' from '/home/seclab_nahyun/anaconda3/envs/workspace/lib/python3.10/site-packages/prompt_toolkit/key_binding/vi_state.py'>, 'prompt_toolkit.cursor_shapes': <module 'prompt_toolkit.cursor_shapes' from '/home/seclab_nahyun/anaconda3/envs/workspace/lib/python3.10/site-packages/prompt_toolkit/cursor_shapes.py'>, 'prompt_toolkit.data_structures': <module 'prompt_toolkit.data_structures' from '/home/seclab_nahyun/anaconda3/envs/workspace/lib/python3.10/site-packages/prompt_toolkit/data_structures.py'>, 'prompt_toolkit.styles.base': <module 'prompt_toolkit.styles.base' from '/home/seclab_nahyun/anaconda3/envs/workspace/lib/python3.10/site-packages/prompt_toolkit/styles/base.py'>, 'prompt_toolkit.styles.named_colors': <module 'prompt_toolkit.styles.named_colors' from '/home/seclab_nahyun/anaconda3/envs/workspace/lib/python3.10/site-packages/prompt_toolkit/styles/named_colors.py'>, 'prompt_toolkit.styles.style': <module 'prompt_toolkit.styles.style' from '/home/seclab_nahyun/anaconda3/envs/workspace/lib/python3.10/site-packages/prompt_toolkit/styles/style.py'>, 'prompt_toolkit.styles.defaults': <module 'prompt_toolkit.styles.defaults' from '/home/seclab_nahyun/anaconda3/envs/workspace/lib/python3.10/site-packages/prompt_toolkit/styles/defaults.py'>, 'prompt_toolkit.styles.pygments': <module 'prompt_toolkit.styles.pygments' from '/home/seclab_nahyun/anaconda3/envs/workspace/lib/python3.10/site-packages/prompt_toolkit/styles/pygments.py'>, 'colorsys': <module 'colorsys' from '/home/seclab_nahyun/anaconda3/envs/workspace/lib/python3.10/colorsys.py'>, 'prompt_toolkit.styles.style_transformation': <module 'prompt_toolkit.styles.style_transformation' from '/home/seclab_nahyun/anaconda3/envs/workspace/lib/python3.10/site-packages/prompt_toolkit/styles/style_transformation.py'>, 'prompt_toolkit.styles': <module 'prompt_toolkit.styles' from '/home/seclab_nahyun/anaconda3/envs/workspace/lib/python3.10/site-packages/prompt_toolkit/styles/__init__.py'>, 'prompt_toolkit.output.color_depth': <module 'prompt_toolkit.output.color_depth' from '/home/seclab_nahyun/anaconda3/envs/workspace/lib/python3.10/site-packages/prompt_toolkit/output/color_depth.py'>, 'prompt_toolkit.output.base': <module 'prompt_toolkit.output.base' from '/home/seclab_nahyun/anaconda3/envs/workspace/lib/python3.10/site-packages/prompt_toolkit/output/base.py'>, 'prompt_toolkit.output.flush_stdout': <module 'prompt_toolkit.output.flush_stdout' from '/home/seclab_nahyun/anaconda3/envs/workspace/lib/python3.10/site-packages/prompt_toolkit/output/flush_stdout.py'>, 'prompt_toolkit.output.plain_text': <module 'prompt_toolkit.output.plain_text' from '/home/seclab_nahyun/anaconda3/envs/workspace/lib/python3.10/site-packages/prompt_toolkit/output/plain_text.py'>, 'prompt_toolkit.output.defaults': <module 'prompt_toolkit.output.defaults' from '/home/seclab_nahyun/anaconda3/envs/workspace/lib/python3.10/site-packages/prompt_toolkit/output/defaults.py'>, 'prompt_toolkit.output': <module 'prompt_toolkit.output' from '/home/seclab_nahyun/anaconda3/envs/workspace/lib/python3.10/site-packages/prompt_toolkit/output/__init__.py'>, 'prompt_toolkit.output.vt100': <module 'prompt_toolkit.output.vt100' from '/home/seclab_nahyun/anaconda3/envs/workspace/lib/python3.10/site-packages/prompt_toolkit/output/vt100.py'>, 'prompt_toolkit.mouse_events': <module 'prompt_toolkit.mouse_events' from '/home/seclab_nahyun/anaconda3/envs/workspace/lib/python3.10/site-packages/prompt_toolkit/mouse_events.py'>, 'prompt_toolkit.formatted_text.base': <module 'prompt_toolkit.formatted_text.base' from '/home/seclab_nahyun/anaconda3/envs/workspace/lib/python3.10/site-packages/prompt_toolkit/formatted_text/base.py'>, 'prompt_toolkit.formatted_text.ansi': <module 'prompt_toolkit.formatted_text.ansi' from '/home/seclab_nahyun/anaconda3/envs/workspace/lib/python3.10/site-packages/prompt_toolkit/formatted_text/ansi.py'>, 'xml': <module 'xml' from '/home/seclab_nahyun/anaconda3/envs/workspace/lib/python3.10/xml/__init__.py'>, 'xml.dom.domreg': <module 'xml.dom.domreg' from '/home/seclab_nahyun/anaconda3/envs/workspace/lib/python3.10/xml/dom/domreg.py'>, 'xml.dom': <module 'xml.dom' from '/home/seclab_nahyun/anaconda3/envs/workspace/lib/python3.10/xml/dom/__init__.py'>, 'xml.dom.minicompat': <module 'xml.dom.minicompat' from '/home/seclab_nahyun/anaconda3/envs/workspace/lib/python3.10/xml/dom/minicompat.py'>, 'xml.dom.NodeFilter': <module 'xml.dom.NodeFilter' from '/home/seclab_nahyun/anaconda3/envs/workspace/lib/python3.10/xml/dom/NodeFilter.py'>, 'xml.dom.xmlbuilder': <module 'xml.dom.xmlbuilder' from '/home/seclab_nahyun/anaconda3/envs/workspace/lib/python3.10/xml/dom/xmlbuilder.py'>, 'xml.dom.minidom': <module 'xml.dom.minidom' from '/home/seclab_nahyun/anaconda3/envs/workspace/lib/python3.10/xml/dom/minidom.py'>, 'prompt_toolkit.formatted_text.html': <module 'prompt_toolkit.formatted_text.html' from '/home/seclab_nahyun/anaconda3/envs/workspace/lib/python3.10/site-packages/prompt_toolkit/formatted_text/html.py'>, 'prompt_toolkit.formatted_text.pygments': <module 'prompt_toolkit.formatted_text.pygments' from '/home/seclab_nahyun/anaconda3/envs/workspace/lib/python3.10/site-packages/prompt_toolkit/formatted_text/pygments.py'>, 'prompt_toolkit.formatted_text.utils': <module 'prompt_toolkit.formatted_text.utils' from '/home/seclab_nahyun/anaconda3/envs/workspace/lib/python3.10/site-packages/prompt_toolkit/formatted_text/utils.py'>, 'prompt_toolkit.formatted_text': <module 'prompt_toolkit.formatted_text' from '/home/seclab_nahyun/anaconda3/envs/workspace/lib/python3.10/site-packages/prompt_toolkit/formatted_text/__init__.py'>, 'prompt_toolkit.completion.base': <module 'prompt_toolkit.completion.base' from '/home/seclab_nahyun/anaconda3/envs/workspace/lib/python3.10/site-packages/prompt_toolkit/completion/base.py'>, 'prompt_toolkit.completion.deduplicate': <module 'prompt_toolkit.completion.deduplicate' from '/home/seclab_nahyun/anaconda3/envs/workspace/lib/python3.10/site-packages/prompt_toolkit/completion/deduplicate.py'>, 'prompt_toolkit.completion.filesystem': <module 'prompt_toolkit.completion.filesystem' from '/home/seclab_nahyun/anaconda3/envs/workspace/lib/python3.10/site-packages/prompt_toolkit/completion/filesystem.py'>, 'prompt_toolkit.completion.word_completer': <module 'prompt_toolkit.completion.word_completer' from '/home/seclab_nahyun/anaconda3/envs/workspace/lib/python3.10/site-packages/prompt_toolkit/completion/word_completer.py'>, 'prompt_toolkit.completion.fuzzy_completer': <module 'prompt_toolkit.completion.fuzzy_completer' from '/home/seclab_nahyun/anaconda3/envs/workspace/lib/python3.10/site-packages/prompt_toolkit/completion/fuzzy_completer.py'>, 'prompt_toolkit.completion.nested': <module 'prompt_toolkit.completion.nested' from '/home/seclab_nahyun/anaconda3/envs/workspace/lib/python3.10/site-packages/prompt_toolkit/completion/nested.py'>, 'prompt_toolkit.completion': <module 'prompt_toolkit.completion' from '/home/seclab_nahyun/anaconda3/envs/workspace/lib/python3.10/site-packages/prompt_toolkit/completion/__init__.py'>, 'prompt_toolkit.history': <module 'prompt_toolkit.history' from '/home/seclab_nahyun/anaconda3/envs/workspace/lib/python3.10/site-packages/prompt_toolkit/history.py'>, 'prompt_toolkit.search': <module 'prompt_toolkit.search' from '/home/seclab_nahyun/anaconda3/envs/workspace/lib/python3.10/site-packages/prompt_toolkit/search.py'>, 'prompt_toolkit.validation': <module 'prompt_toolkit.validation' from '/home/seclab_nahyun/anaconda3/envs/workspace/lib/python3.10/site-packages/prompt_toolkit/validation.py'>, 'prompt_toolkit.buffer': <module 'prompt_toolkit.buffer' from '/home/seclab_nahyun/anaconda3/envs/workspace/lib/python3.10/site-packages/prompt_toolkit/buffer.py'>, 'prompt_toolkit.input.base': <module 'prompt_toolkit.input.base' from '/home/seclab_nahyun/anaconda3/envs/workspace/lib/python3.10/site-packages/prompt_toolkit/input/base.py'>, 'prompt_toolkit.input.defaults': <module 'prompt_toolkit.input.defaults' from '/home/seclab_nahyun/anaconda3/envs/workspace/lib/python3.10/site-packages/prompt_toolkit/input/defaults.py'>, 'prompt_toolkit.input': <module 'prompt_toolkit.input' from '/home/seclab_nahyun/anaconda3/envs/workspace/lib/python3.10/site-packages/prompt_toolkit/input/__init__.py'>, 'prompt_toolkit.input.typeahead': <module 'prompt_toolkit.input.typeahead' from '/home/seclab_nahyun/anaconda3/envs/workspace/lib/python3.10/site-packages/prompt_toolkit/input/typeahead.py'>, 'prompt_toolkit.key_binding.bindings': <module 'prompt_toolkit.key_binding.bindings' from '/home/seclab_nahyun/anaconda3/envs/workspace/lib/python3.10/site-packages/prompt_toolkit/key_binding/bindings/__init__.py'>, 'prompt_toolkit.key_binding.bindings.scroll': <module 'prompt_toolkit.key_binding.bindings.scroll' from '/home/seclab_nahyun/anaconda3/envs/workspace/lib/python3.10/site-packages/prompt_toolkit/key_binding/bindings/scroll.py'>, 'prompt_toolkit.key_binding.bindings.page_navigation': <module 'prompt_toolkit.key_binding.bindings.page_navigation' from '/home/seclab_nahyun/anaconda3/envs/workspace/lib/python3.10/site-packages/prompt_toolkit/key_binding/bindings/page_navigation.py'>, 'prompt_toolkit.lexers.base': <module 'prompt_toolkit.lexers.base' from '/home/seclab_nahyun/anaconda3/envs/workspace/lib/python3.10/site-packages/prompt_toolkit/lexers/base.py'>, 'prompt_toolkit.lexers.pygments': <module 'prompt_toolkit.lexers.pygments' from '/home/seclab_nahyun/anaconda3/envs/workspace/lib/python3.10/site-packages/prompt_toolkit/lexers/pygments.py'>, 'prompt_toolkit.lexers': <module 'prompt_toolkit.lexers' from '/home/seclab_nahyun/anaconda3/envs/workspace/lib/python3.10/site-packages/prompt_toolkit/lexers/__init__.py'>, 'prompt_toolkit.layout.utils': <module 'prompt_toolkit.layout.utils' from '/home/seclab_nahyun/anaconda3/envs/workspace/lib/python3.10/site-packages/prompt_toolkit/layout/utils.py'>, 'prompt_toolkit.layout.processors': <module 'prompt_toolkit.layout.processors' from '/home/seclab_nahyun/anaconda3/envs/workspace/lib/python3.10/site-packages/prompt_toolkit/layout/processors.py'>, 'prompt_toolkit.layout.controls': <module 'prompt_toolkit.layout.controls' from '/home/seclab_nahyun/anaconda3/envs/workspace/lib/python3.10/site-packages/prompt_toolkit/layout/controls.py'>, 'prompt_toolkit.layout.dimension': <module 'prompt_toolkit.layout.dimension' from '/home/seclab_nahyun/anaconda3/envs/workspace/lib/python3.10/site-packages/prompt_toolkit/layout/dimension.py'>, 'prompt_toolkit.layout.margins': <module 'prompt_toolkit.layout.margins' from '/home/seclab_nahyun/anaconda3/envs/workspace/lib/python3.10/site-packages/prompt_toolkit/layout/margins.py'>, 'prompt_toolkit.layout.mouse_handlers': <module 'prompt_toolkit.layout.mouse_handlers' from '/home/seclab_nahyun/anaconda3/envs/workspace/lib/python3.10/site-packages/prompt_toolkit/layout/mouse_handlers.py'>, 'prompt_toolkit.layout.screen': <module 'prompt_toolkit.layout.screen' from '/home/seclab_nahyun/anaconda3/envs/workspace/lib/python3.10/site-packages/prompt_toolkit/layout/screen.py'>, 'prompt_toolkit.layout.containers': <module 'prompt_toolkit.layout.containers' from '/home/seclab_nahyun/anaconda3/envs/workspace/lib/python3.10/site-packages/prompt_toolkit/layout/containers.py'>, 'prompt_toolkit.layout.layout': <module 'prompt_toolkit.layout.layout' from '/home/seclab_nahyun/anaconda3/envs/workspace/lib/python3.10/site-packages/prompt_toolkit/layout/layout.py'>, 'prompt_toolkit.layout.menus': <module 'prompt_toolkit.layout.menus' from '/home/seclab_nahyun/anaconda3/envs/workspace/lib/python3.10/site-packages/prompt_toolkit/layout/menus.py'>, 'prompt_toolkit.layout.scrollable_pane': <module 'prompt_toolkit.layout.scrollable_pane' from '/home/seclab_nahyun/anaconda3/envs/workspace/lib/python3.10/site-packages/prompt_toolkit/layout/scrollable_pane.py'>, 'prompt_toolkit.layout': <module 'prompt_toolkit.layout' from '/home/seclab_nahyun/anaconda3/envs/workspace/lib/python3.10/site-packages/prompt_toolkit/layout/__init__.py'>, 'prompt_toolkit.key_binding.bindings.completion': <module 'prompt_toolkit.key_binding.bindings.completion' from '/home/seclab_nahyun/anaconda3/envs/workspace/lib/python3.10/site-packages/prompt_toolkit/key_binding/bindings/completion.py'>, 'prompt_toolkit.key_binding.bindings.named_commands': <module 'prompt_toolkit.key_binding.bindings.named_commands' from '/home/seclab_nahyun/anaconda3/envs/workspace/lib/python3.10/site-packages/prompt_toolkit/key_binding/bindings/named_commands.py'>, 'prompt_toolkit.key_binding.bindings.basic': <module 'prompt_toolkit.key_binding.bindings.basic' from '/home/seclab_nahyun/anaconda3/envs/workspace/lib/python3.10/site-packages/prompt_toolkit/key_binding/bindings/basic.py'>, 'prompt_toolkit.key_binding.bindings.cpr': <module 'prompt_toolkit.key_binding.bindings.cpr' from '/home/seclab_nahyun/anaconda3/envs/workspace/lib/python3.10/site-packages/prompt_toolkit/key_binding/bindings/cpr.py'>, 'prompt_toolkit.key_binding.bindings.emacs': <module 'prompt_toolkit.key_binding.bindings.emacs' from '/home/seclab_nahyun/anaconda3/envs/workspace/lib/python3.10/site-packages/prompt_toolkit/key_binding/bindings/emacs.py'>, 'prompt_toolkit.key_binding.bindings.mouse': <module 'prompt_toolkit.key_binding.bindings.mouse' from '/home/seclab_nahyun/anaconda3/envs/workspace/lib/python3.10/site-packages/prompt_toolkit/key_binding/bindings/mouse.py'>, 'prompt_toolkit.input.ansi_escape_sequences': <module 'prompt_toolkit.input.ansi_escape_sequences' from '/home/seclab_nahyun/anaconda3/envs/workspace/lib/python3.10/site-packages/prompt_toolkit/input/ansi_escape_sequences.py'>, 'prompt_toolkit.input.vt100_parser': <module 'prompt_toolkit.input.vt100_parser' from '/home/seclab_nahyun/anaconda3/envs/workspace/lib/python3.10/site-packages/prompt_toolkit/input/vt100_parser.py'>, 'prompt_toolkit.key_binding.digraphs': <module 'prompt_toolkit.key_binding.digraphs' from '/home/seclab_nahyun/anaconda3/envs/workspace/lib/python3.10/site-packages/prompt_toolkit/key_binding/digraphs.py'>, 'prompt_toolkit.key_binding.bindings.vi': <module 'prompt_toolkit.key_binding.bindings.vi' from '/home/seclab_nahyun/anaconda3/envs/workspace/lib/python3.10/site-packages/prompt_toolkit/key_binding/bindings/vi.py'>, 'prompt_toolkit.key_binding.defaults': <module 'prompt_toolkit.key_binding.defaults' from '/home/seclab_nahyun/anaconda3/envs/workspace/lib/python3.10/site-packages/prompt_toolkit/key_binding/defaults.py'>, 'prompt_toolkit.key_binding.emacs_state': <module 'prompt_toolkit.key_binding.emacs_state' from '/home/seclab_nahyun/anaconda3/envs/workspace/lib/python3.10/site-packages/prompt_toolkit/key_binding/emacs_state.py'>, 'prompt_toolkit.layout.dummy': <module 'prompt_toolkit.layout.dummy' from '/home/seclab_nahyun/anaconda3/envs/workspace/lib/python3.10/site-packages/prompt_toolkit/layout/dummy.py'>, 'prompt_toolkit.renderer': <module 'prompt_toolkit.renderer' from '/home/seclab_nahyun/anaconda3/envs/workspace/lib/python3.10/site-packages/prompt_toolkit/renderer.py'>, 'prompt_toolkit.application.application': <module 'prompt_toolkit.application.application' from '/home/seclab_nahyun/anaconda3/envs/workspace/lib/python3.10/site-packages/prompt_toolkit/application/application.py'>, 'prompt_toolkit.application.dummy': <module 'prompt_toolkit.application.dummy' from '/home/seclab_nahyun/anaconda3/envs/workspace/lib/python3.10/site-packages/prompt_toolkit/application/dummy.py'>, 'prompt_toolkit.application': <module 'prompt_toolkit.application' from '/home/seclab_nahyun/anaconda3/envs/workspace/lib/python3.10/site-packages/prompt_toolkit/application/__init__.py'>, 'prompt_toolkit.key_binding.bindings.focus': <module 'prompt_toolkit.key_binding.bindings.focus' from '/home/seclab_nahyun/anaconda3/envs/workspace/lib/python3.10/site-packages/prompt_toolkit/key_binding/bindings/focus.py'>, 'prompt_toolkit.widgets.toolbars': <module 'prompt_toolkit.widgets.toolbars' from '/home/seclab_nahyun/anaconda3/envs/workspace/lib/python3.10/site-packages/prompt_toolkit/widgets/toolbars.py'>, 'prompt_toolkit.widgets.base': <module 'prompt_toolkit.widgets.base' from '/home/seclab_nahyun/anaconda3/envs/workspace/lib/python3.10/site-packages/prompt_toolkit/widgets/base.py'>, 'prompt_toolkit.widgets.dialogs': <module 'prompt_toolkit.widgets.dialogs' from '/home/seclab_nahyun/anaconda3/envs/workspace/lib/python3.10/site-packages/prompt_toolkit/widgets/dialogs.py'>, 'prompt_toolkit.widgets.menus': <module 'prompt_toolkit.widgets.menus' from '/home/seclab_nahyun/anaconda3/envs/workspace/lib/python3.10/site-packages/prompt_toolkit/widgets/menus.py'>, 'prompt_toolkit.widgets': <module 'prompt_toolkit.widgets' from '/home/seclab_nahyun/anaconda3/envs/workspace/lib/python3.10/site-packages/prompt_toolkit/widgets/__init__.py'>, 'prompt_toolkit.shortcuts.dialogs': <module 'prompt_toolkit.shortcuts.dialogs' from '/home/seclab_nahyun/anaconda3/envs/workspace/lib/python3.10/site-packages/prompt_toolkit/shortcuts/dialogs.py'>, 'prompt_toolkit.shortcuts.progress_bar.formatters': <module 'prompt_toolkit.shortcuts.progress_bar.formatters' from '/home/seclab_nahyun/anaconda3/envs/workspace/lib/python3.10/site-packages/prompt_toolkit/shortcuts/progress_bar/formatters.py'>, 'prompt_toolkit.shortcuts.progress_bar.base': <module 'prompt_toolkit.shortcuts.progress_bar.base' from '/home/seclab_nahyun/anaconda3/envs/workspace/lib/python3.10/site-packages/prompt_toolkit/shortcuts/progress_bar/base.py'>, 'prompt_toolkit.shortcuts.progress_bar': <module 'prompt_toolkit.shortcuts.progress_bar' from '/home/seclab_nahyun/anaconda3/envs/workspace/lib/python3.10/site-packages/prompt_toolkit/shortcuts/progress_bar/__init__.py'>, 'prompt_toolkit.key_binding.bindings.auto_suggest': <module 'prompt_toolkit.key_binding.bindings.auto_suggest' from '/home/seclab_nahyun/anaconda3/envs/workspace/lib/python3.10/site-packages/prompt_toolkit/key_binding/bindings/auto_suggest.py'>, 'prompt_toolkit.key_binding.bindings.open_in_editor': <module 'prompt_toolkit.key_binding.bindings.open_in_editor' from '/home/seclab_nahyun/anaconda3/envs/workspace/lib/python3.10/site-packages/prompt_toolkit/key_binding/bindings/open_in_editor.py'>, 'prompt_toolkit.shortcuts.prompt': <module 'prompt_toolkit.shortcuts.prompt' from '/home/seclab_nahyun/anaconda3/envs/workspace/lib/python3.10/site-packages/prompt_toolkit/shortcuts/prompt.py'>, 'prompt_toolkit.shortcuts.utils': <module 'prompt_toolkit.shortcuts.utils' from '/home/seclab_nahyun/anaconda3/envs/workspace/lib/python3.10/site-packages/prompt_toolkit/shortcuts/utils.py'>, 'prompt_toolkit.shortcuts': <module 'prompt_toolkit.shortcuts' from '/home/seclab_nahyun/anaconda3/envs/workspace/lib/python3.10/site-packages/prompt_toolkit/shortcuts/__init__.py'>, 'prompt_toolkit': <module 'prompt_toolkit' from '/home/seclab_nahyun/anaconda3/envs/workspace/lib/python3.10/site-packages/prompt_toolkit/__init__.py'>, 'prompt_toolkit.patch_stdout': <module 'prompt_toolkit.patch_stdout' from '/home/seclab_nahyun/anaconda3/envs/workspace/lib/python3.10/site-packages/prompt_toolkit/patch_stdout.py'>, 'unicodedata': <module 'unicodedata' from '/home/seclab_nahyun/anaconda3/envs/workspace/lib/python3.10/lib-dynload/unicodedata.cpython-310-x86_64-linux-gnu.so'>, 'IPython.core.guarded_eval': <module 'IPython.core.guarded_eval' from '/home/seclab_nahyun/anaconda3/envs/workspace/lib/python3.10/site-packages/IPython/core/guarded_eval.py'>, 'IPython.core.latex_symbols': <module 'IPython.core.latex_symbols' from '/home/seclab_nahyun/anaconda3/envs/workspace/lib/python3.10/site-packages/IPython/core/latex_symbols.py'>, 'IPython.utils.generics': <module 'IPython.utils.generics' from '/home/seclab_nahyun/anaconda3/envs/workspace/lib/python3.10/site-packages/IPython/utils/generics.py'>, 'parso.utils': <module 'parso.utils' from '/home/seclab_nahyun/anaconda3/envs/workspace/lib/python3.10/site-packages/parso/utils.py'>, 'parso.tree': <module 'parso.tree' from '/home/seclab_nahyun/anaconda3/envs/workspace/lib/python3.10/site-packages/parso/tree.py'>, 'parso.python': <module 'parso.python' from '/home/seclab_nahyun/anaconda3/envs/workspace/lib/python3.10/site-packages/parso/python/__init__.py'>, 'parso.python.token': <module 'parso.python.token' from '/home/seclab_nahyun/anaconda3/envs/workspace/lib/python3.10/site-packages/parso/python/token.py'>, 'parso.python.tokenize': <module 'parso.python.tokenize' from '/home/seclab_nahyun/anaconda3/envs/workspace/lib/python3.10/site-packages/parso/python/tokenize.py'>, 'parso.pgen2.grammar_parser': <module 'parso.pgen2.grammar_parser' from '/home/seclab_nahyun/anaconda3/envs/workspace/lib/python3.10/site-packages/parso/pgen2/grammar_parser.py'>, 'parso.pgen2.generator': <module 'parso.pgen2.generator' from '/home/seclab_nahyun/anaconda3/envs/workspace/lib/python3.10/site-packages/parso/pgen2/generator.py'>, 'parso.pgen2': <module 'parso.pgen2' from '/home/seclab_nahyun/anaconda3/envs/workspace/lib/python3.10/site-packages/parso/pgen2/__init__.py'>, 'parso.parser': <module 'parso.parser' from '/home/seclab_nahyun/anaconda3/envs/workspace/lib/python3.10/site-packages/parso/parser.py'>, 'parso._compatibility': <module 'parso._compatibility' from '/home/seclab_nahyun/anaconda3/envs/workspace/lib/python3.10/site-packages/parso/_compatibility.py'>, 'difflib': <module 'difflib' from '/home/seclab_nahyun/anaconda3/envs/workspace/lib/python3.10/difflib.py'>, 'parso.python.prefix': <module 'parso.python.prefix' from '/home/seclab_nahyun/anaconda3/envs/workspace/lib/python3.10/site-packages/parso/python/prefix.py'>, 'parso.python.tree': <module 'parso.python.tree' from '/home/seclab_nahyun/anaconda3/envs/workspace/lib/python3.10/site-packages/parso/python/tree.py'>, 'parso.python.parser': <module 'parso.python.parser' from '/home/seclab_nahyun/anaconda3/envs/workspace/lib/python3.10/site-packages/parso/python/parser.py'>, 'parso.python.diff': <module 'parso.python.diff' from '/home/seclab_nahyun/anaconda3/envs/workspace/lib/python3.10/site-packages/parso/python/diff.py'>, 'gc': <module 'gc' (built-in)>, 'parso.cache': <module 'parso.cache' from '/home/seclab_nahyun/anaconda3/envs/workspace/lib/python3.10/site-packages/parso/cache.py'>, 'parso.normalizer': <module 'parso.normalizer' from '/home/seclab_nahyun/anaconda3/envs/workspace/lib/python3.10/site-packages/parso/normalizer.py'>, 'parso.python.errors': <module 'parso.python.errors' from '/home/seclab_nahyun/anaconda3/envs/workspace/lib/python3.10/site-packages/parso/python/errors.py'>, 'parso.python.pep8': <module 'parso.python.pep8' from '/home/seclab_nahyun/anaconda3/envs/workspace/lib/python3.10/site-packages/parso/python/pep8.py'>, 'parso.file_io': <module 'parso.file_io' from '/home/seclab_nahyun/anaconda3/envs/workspace/lib/python3.10/site-packages/parso/file_io.py'>, 'parso.grammar': <module 'parso.grammar' from '/home/seclab_nahyun/anaconda3/envs/workspace/lib/python3.10/site-packages/parso/grammar.py'>, 'parso': <module 'parso' from '/home/seclab_nahyun/anaconda3/envs/workspace/lib/python3.10/site-packages/parso/__init__.py'>, 'jedi.parser_utils': <module 'jedi.parser_utils' from '/home/seclab_nahyun/anaconda3/envs/workspace/lib/python3.10/site-packages/jedi/parser_utils.py'>, 'jedi.debug': <module 'jedi.debug' from '/home/seclab_nahyun/anaconda3/envs/workspace/lib/python3.10/site-packages/jedi/debug.py'>, 'jedi.settings': <module 'jedi.settings' from '/home/seclab_nahyun/anaconda3/envs/workspace/lib/python3.10/site-packages/jedi/settings.py'>, 'jedi.cache': <module 'jedi.cache' from '/home/seclab_nahyun/anaconda3/envs/workspace/lib/python3.10/site-packages/jedi/cache.py'>, 'jedi.file_io': <module 'jedi.file_io' from '/home/seclab_nahyun/anaconda3/envs/workspace/lib/python3.10/site-packages/jedi/file_io.py'>, 'jedi.inference.cache': <module 'jedi.inference.cache' from '/home/seclab_nahyun/anaconda3/envs/workspace/lib/python3.10/site-packages/jedi/inference/cache.py'>, 'jedi.inference.helpers': <module 'jedi.inference.helpers' from '/home/seclab_nahyun/anaconda3/envs/workspace/lib/python3.10/site-packages/jedi/inference/helpers.py'>, 'jedi.inference.utils': <module 'jedi.inference.utils' from '/home/seclab_nahyun/anaconda3/envs/workspace/lib/python3.10/site-packages/jedi/inference/utils.py'>, 'jedi.inference.base_value': <module 'jedi.inference.base_value' from '/home/seclab_nahyun/anaconda3/envs/workspace/lib/python3.10/site-packages/jedi/inference/base_value.py'>, 'jedi.inference.sys_path': <module 'jedi.inference.sys_path' from '/home/seclab_nahyun/anaconda3/envs/workspace/lib/python3.10/site-packages/jedi/inference/sys_path.py'>, 'jedi.inference.recursion': <module 'jedi.inference.recursion' from '/home/seclab_nahyun/anaconda3/envs/workspace/lib/python3.10/site-packages/jedi/inference/recursion.py'>, 'jedi.inference.flow_analysis': <module 'jedi.inference.flow_analysis' from '/home/seclab_nahyun/anaconda3/envs/workspace/lib/python3.10/site-packages/jedi/inference/flow_analysis.py'>, 'jedi.common': <module 'jedi.common' from '/home/seclab_nahyun/anaconda3/envs/workspace/lib/python3.10/site-packages/jedi/common.py'>, 'jedi.inference.lazy_value': <module 'jedi.inference.lazy_value' from '/home/seclab_nahyun/anaconda3/envs/workspace/lib/python3.10/site-packages/jedi/inference/lazy_value.py'>, 'jedi.inference.docstrings': <module 'jedi.inference.docstrings' from '/home/seclab_nahyun/anaconda3/envs/workspace/lib/python3.10/site-packages/jedi/inference/docstrings.py'>, 'jedi.plugins': <module 'jedi.plugins' from '/home/seclab_nahyun/anaconda3/envs/workspace/lib/python3.10/site-packages/jedi/plugins/__init__.py'>, 'jedi.inference.names': <module 'jedi.inference.names' from '/home/seclab_nahyun/anaconda3/envs/workspace/lib/python3.10/site-packages/jedi/inference/names.py'>, 'jedi.inference.filters': <module 'jedi.inference.filters' from '/home/seclab_nahyun/anaconda3/envs/workspace/lib/python3.10/site-packages/jedi/inference/filters.py'>, 'jedi.inference.compiled.getattr_static': <module 'jedi.inference.compiled.getattr_static' from '/home/seclab_nahyun/anaconda3/envs/workspace/lib/python3.10/site-packages/jedi/inference/compiled/getattr_static.py'>, 'jedi.inference.compiled.access': <module 'jedi.inference.compiled.access' from '/home/seclab_nahyun/anaconda3/envs/workspace/lib/python3.10/site-packages/jedi/inference/compiled/access.py'>, 'jedi.inference.signature': <module 'jedi.inference.signature' from '/home/seclab_nahyun/anaconda3/envs/workspace/lib/python3.10/site-packages/jedi/inference/signature.py'>, 'jedi.inference.context': <module 'jedi.inference.context' from '/home/seclab_nahyun/anaconda3/envs/workspace/lib/python3.10/site-packages/jedi/inference/context.py'>, 'jedi.inference.compiled.value': <module 'jedi.inference.compiled.value' from '/home/seclab_nahyun/anaconda3/envs/workspace/lib/python3.10/site-packages/jedi/inference/compiled/value.py'>, 'jedi.inference.compiled': <module 'jedi.inference.compiled' from '/home/seclab_nahyun/anaconda3/envs/workspace/lib/python3.10/site-packages/jedi/inference/compiled/__init__.py'>, 'jedi.inference.analysis': <module 'jedi.inference.analysis' from '/home/seclab_nahyun/anaconda3/envs/workspace/lib/python3.10/site-packages/jedi/inference/analysis.py'>, 'jedi.inference.gradual': <module 'jedi.inference.gradual' from '/home/seclab_nahyun/anaconda3/envs/workspace/lib/python3.10/site-packages/jedi/inference/gradual/__init__.py'>, 'jedi.inference.value.module': <module 'jedi.inference.value.module' from '/home/seclab_nahyun/anaconda3/envs/workspace/lib/python3.10/site-packages/jedi/inference/value/module.py'>, 'jedi.inference.value.dynamic_arrays': <module 'jedi.inference.value.dynamic_arrays' from '/home/seclab_nahyun/anaconda3/envs/workspace/lib/python3.10/site-packages/jedi/inference/value/dynamic_arrays.py'>, 'jedi.inference.value.iterable': <module 'jedi.inference.value.iterable' from '/home/seclab_nahyun/anaconda3/envs/workspace/lib/python3.10/site-packages/jedi/inference/value/iterable.py'>, 'jedi.inference.arguments': <module 'jedi.inference.arguments' from '/home/seclab_nahyun/anaconda3/envs/workspace/lib/python3.10/site-packages/jedi/inference/arguments.py'>, 'jedi.inference.parser_cache': <module 'jedi.inference.parser_cache' from '/home/seclab_nahyun/anaconda3/envs/workspace/lib/python3.10/site-packages/jedi/inference/parser_cache.py'>, 'jedi.inference.gradual.generics': <module 'jedi.inference.gradual.generics' from '/home/seclab_nahyun/anaconda3/envs/workspace/lib/python3.10/site-packages/jedi/inference/gradual/generics.py'>, 'jedi.inference.value.function': <module 'jedi.inference.value.function' from '/home/seclab_nahyun/anaconda3/envs/workspace/lib/python3.10/site-packages/jedi/inference/value/function.py'>, 'jedi.inference.value.klass': <module 'jedi.inference.value.klass' from '/home/seclab_nahyun/anaconda3/envs/workspace/lib/python3.10/site-packages/jedi/inference/value/klass.py'>, 'jedi.inference.value.instance': <module 'jedi.inference.value.instance' from '/home/seclab_nahyun/anaconda3/envs/workspace/lib/python3.10/site-packages/jedi/inference/value/instance.py'>, 'jedi.inference.value': <module 'jedi.inference.value' from '/home/seclab_nahyun/anaconda3/envs/workspace/lib/python3.10/site-packages/jedi/inference/value/__init__.py'>, 'jedi.inference.gradual.base': <module 'jedi.inference.gradual.base' from '/home/seclab_nahyun/anaconda3/envs/workspace/lib/python3.10/site-packages/jedi/inference/gradual/base.py'>, 'jedi.inference.gradual.type_var': <module 'jedi.inference.gradual.type_var' from '/home/seclab_nahyun/anaconda3/envs/workspace/lib/python3.10/site-packages/jedi/inference/gradual/type_var.py'>, 'jedi.inference.gradual.typing': <module 'jedi.inference.gradual.typing' from '/home/seclab_nahyun/anaconda3/envs/workspace/lib/python3.10/site-packages/jedi/inference/gradual/typing.py'>, 'jedi.inference.gradual.stub_value': <module 'jedi.inference.gradual.stub_value' from '/home/seclab_nahyun/anaconda3/envs/workspace/lib/python3.10/site-packages/jedi/inference/gradual/stub_value.py'>, 'jedi.inference.gradual.typeshed': <module 'jedi.inference.gradual.typeshed' from '/home/seclab_nahyun/anaconda3/envs/workspace/lib/python3.10/site-packages/jedi/inference/gradual/typeshed.py'>, 'jedi._compatibility': <module 'jedi._compatibility' from '/home/seclab_nahyun/anaconda3/envs/workspace/lib/python3.10/site-packages/jedi/_compatibility.py'>, 'jedi.inference.compiled.subprocess.functions': <module 'jedi.inference.compiled.subprocess.functions' from '/home/seclab_nahyun/anaconda3/envs/workspace/lib/python3.10/site-packages/jedi/inference/compiled/subprocess/functions.py'>, 'jedi.api.exceptions': <module 'jedi.api.exceptions' from '/home/seclab_nahyun/anaconda3/envs/workspace/lib/python3.10/site-packages/jedi/api/exceptions.py'>, 'jedi.inference.compiled.subprocess': <module 'jedi.inference.compiled.subprocess' from '/home/seclab_nahyun/anaconda3/envs/workspace/lib/python3.10/site-packages/jedi/inference/compiled/subprocess/__init__.py'>, 'jedi.inference.imports': <module 'jedi.inference.imports' from '/home/seclab_nahyun/anaconda3/envs/workspace/lib/python3.10/site-packages/jedi/inference/imports.py'>, 'jedi.inference.param': <module 'jedi.inference.param' from '/home/seclab_nahyun/anaconda3/envs/workspace/lib/python3.10/site-packages/jedi/inference/param.py'>, 'jedi.inference.gradual.annotation': <module 'jedi.inference.gradual.annotation' from '/home/seclab_nahyun/anaconda3/envs/workspace/lib/python3.10/site-packages/jedi/inference/gradual/annotation.py'>, 'jedi.inference.value.decorator': <module 'jedi.inference.value.decorator' from '/home/seclab_nahyun/anaconda3/envs/workspace/lib/python3.10/site-packages/jedi/inference/value/decorator.py'>, 'jedi.inference.syntax_tree': <module 'jedi.inference.syntax_tree' from '/home/seclab_nahyun/anaconda3/envs/workspace/lib/python3.10/site-packages/jedi/inference/syntax_tree.py'>, 'jedi.inference': <module 'jedi.inference' from '/home/seclab_nahyun/anaconda3/envs/workspace/lib/python3.10/site-packages/jedi/inference/__init__.py'>, 'jedi.inference.gradual.conversion': <module 'jedi.inference.gradual.conversion' from '/home/seclab_nahyun/anaconda3/envs/workspace/lib/python3.10/site-packages/jedi/inference/gradual/conversion.py'>, 'jedi.inference.compiled.mixed': <module 'jedi.inference.compiled.mixed' from '/home/seclab_nahyun/anaconda3/envs/workspace/lib/python3.10/site-packages/jedi/inference/compiled/mixed.py'>, 'pydoc_data': <module 'pydoc_data' from '/home/seclab_nahyun/anaconda3/envs/workspace/lib/python3.10/pydoc_data/__init__.py'>, 'pydoc_data.topics': <module 'pydoc_data.topics' from '/home/seclab_nahyun/anaconda3/envs/workspace/lib/python3.10/pydoc_data/topics.py'>, 'jedi.api.keywords': <module 'jedi.api.keywords' from '/home/seclab_nahyun/anaconda3/envs/workspace/lib/python3.10/site-packages/jedi/api/keywords.py'>, 'jedi.api.completion_cache': <module 'jedi.api.completion_cache' from '/home/seclab_nahyun/anaconda3/envs/workspace/lib/python3.10/site-packages/jedi/api/completion_cache.py'>, 'jedi.api.helpers': <module 'jedi.api.helpers' from '/home/seclab_nahyun/anaconda3/envs/workspace/lib/python3.10/site-packages/jedi/api/helpers.py'>, 'jedi.api.classes': <module 'jedi.api.classes' from '/home/seclab_nahyun/anaconda3/envs/workspace/lib/python3.10/site-packages/jedi/api/classes.py'>, 'jedi.api.interpreter': <module 'jedi.api.interpreter' from '/home/seclab_nahyun/anaconda3/envs/workspace/lib/python3.10/site-packages/jedi/api/interpreter.py'>, 'jedi.api.strings': <module 'jedi.api.strings' from '/home/seclab_nahyun/anaconda3/envs/workspace/lib/python3.10/site-packages/jedi/api/strings.py'>, 'jedi.api.file_name': <module 'jedi.api.file_name' from '/home/seclab_nahyun/anaconda3/envs/workspace/lib/python3.10/site-packages/jedi/api/file_name.py'>, 'jedi.inference.docstring_utils': <module 'jedi.inference.docstring_utils' from '/home/seclab_nahyun/anaconda3/envs/workspace/lib/python3.10/site-packages/jedi/inference/docstring_utils.py'>, 'jedi.api.completion': <module 'jedi.api.completion' from '/home/seclab_nahyun/anaconda3/envs/workspace/lib/python3.10/site-packages/jedi/api/completion.py'>, 'filecmp': <module 'filecmp' from '/home/seclab_nahyun/anaconda3/envs/workspace/lib/python3.10/filecmp.py'>, 'jedi.api.environment': <module 'jedi.api.environment' from '/home/seclab_nahyun/anaconda3/envs/workspace/lib/python3.10/site-packages/jedi/api/environment.py'>, 'jedi.inference.references': <module 'jedi.inference.references' from '/home/seclab_nahyun/anaconda3/envs/workspace/lib/python3.10/site-packages/jedi/inference/references.py'>, 'jedi.api.project': <module 'jedi.api.project' from '/home/seclab_nahyun/anaconda3/envs/workspace/lib/python3.10/site-packages/jedi/api/project.py'>, 'jedi.api.errors': <module 'jedi.api.errors' from '/home/seclab_nahyun/anaconda3/envs/workspace/lib/python3.10/site-packages/jedi/api/errors.py'>, 'jedi.inference.value.namespace': <module 'jedi.inference.value.namespace' from '/home/seclab_nahyun/anaconda3/envs/workspace/lib/python3.10/site-packages/jedi/inference/value/namespace.py'>, 'jedi.api.refactoring': <module 'jedi.api.refactoring' from '/home/seclab_nahyun/anaconda3/envs/workspace/lib/python3.10/site-packages/jedi/api/refactoring/__init__.py'>, 'jedi.api.refactoring.extract': <module 'jedi.api.refactoring.extract' from '/home/seclab_nahyun/anaconda3/envs/workspace/lib/python3.10/site-packages/jedi/api/refactoring/extract.py'>, 'jedi.inference.gradual.utils': <module 'jedi.inference.gradual.utils' from '/home/seclab_nahyun/anaconda3/envs/workspace/lib/python3.10/site-packages/jedi/inference/gradual/utils.py'>, 'jedi.api': <module 'jedi.api' from '/home/seclab_nahyun/anaconda3/envs/workspace/lib/python3.10/site-packages/jedi/api/__init__.py'>, 'jedi.plugins.stdlib': <module 'jedi.plugins.stdlib' from '/home/seclab_nahyun/anaconda3/envs/workspace/lib/python3.10/site-packages/jedi/plugins/stdlib.py'>, 'jedi.plugins.flask': <module 'jedi.plugins.flask' from '/home/seclab_nahyun/anaconda3/envs/workspace/lib/python3.10/site-packages/jedi/plugins/flask.py'>, 'jedi.plugins.pytest': <module 'jedi.plugins.pytest' from '/home/seclab_nahyun/anaconda3/envs/workspace/lib/python3.10/site-packages/jedi/plugins/pytest.py'>, 'jedi.plugins.django': <module 'jedi.plugins.django' from '/home/seclab_nahyun/anaconda3/envs/workspace/lib/python3.10/site-packages/jedi/plugins/django.py'>, 'jedi.plugins.registry': <module 'jedi.plugins.registry' from '/home/seclab_nahyun/anaconda3/envs/workspace/lib/python3.10/site-packages/jedi/plugins/registry.py'>, 'jedi': <module 'jedi' from '/home/seclab_nahyun/anaconda3/envs/workspace/lib/python3.10/site-packages/jedi/__init__.py'>, 'IPython.core.completer': <module 'IPython.core.completer' from '/home/seclab_nahyun/anaconda3/envs/workspace/lib/python3.10/site-packages/IPython/core/completer.py'>, 'IPython.terminal.ptutils': <module 'IPython.terminal.ptutils' from '/home/seclab_nahyun/anaconda3/envs/workspace/lib/python3.10/site-packages/IPython/terminal/ptutils.py'>, 'IPython.terminal.shortcuts.auto_match': <module 'IPython.terminal.shortcuts.auto_match' from '/home/seclab_nahyun/anaconda3/envs/workspace/lib/python3.10/site-packages/IPython/terminal/shortcuts/auto_match.py'>, 'IPython.terminal.shortcuts.filters': <module 'IPython.terminal.shortcuts.filters' from '/home/seclab_nahyun/anaconda3/envs/workspace/lib/python3.10/site-packages/IPython/terminal/shortcuts/filters.py'>, 'IPython.terminal.shortcuts.auto_suggest': <module 'IPython.terminal.shortcuts.auto_suggest' from '/home/seclab_nahyun/anaconda3/envs/workspace/lib/python3.10/site-packages/IPython/terminal/shortcuts/auto_suggest.py'>, 'IPython.terminal.shortcuts': <module 'IPython.terminal.shortcuts' from '/home/seclab_nahyun/anaconda3/envs/workspace/lib/python3.10/site-packages/IPython/terminal/shortcuts/__init__.py'>, 'concurrent.futures.thread': <module 'concurrent.futures.thread' from '/home/seclab_nahyun/anaconda3/envs/workspace/lib/python3.10/concurrent/futures/thread.py'>, 'IPython.terminal.debugger': <module 'IPython.terminal.debugger' from '/home/seclab_nahyun/anaconda3/envs/workspace/lib/python3.10/site-packages/IPython/terminal/debugger.py'>, 'IPython.lib.clipboard': <module 'IPython.lib.clipboard' from '/home/seclab_nahyun/anaconda3/envs/workspace/lib/python3.10/site-packages/IPython/lib/clipboard.py'>, 'IPython.terminal.magics': <module 'IPython.terminal.magics' from '/home/seclab_nahyun/anaconda3/envs/workspace/lib/python3.10/site-packages/IPython/terminal/magics.py'>, 'IPython.terminal.pt_inputhooks': <module 'IPython.terminal.pt_inputhooks' from '/home/seclab_nahyun/anaconda3/envs/workspace/lib/python3.10/site-packages/IPython/terminal/pt_inputhooks/__init__.py'>, 'IPython.terminal.prompts': <module 'IPython.terminal.prompts' from '/home/seclab_nahyun/anaconda3/envs/workspace/lib/python3.10/site-packages/IPython/terminal/prompts.py'>, 'IPython.terminal.interactiveshell': <module 'IPython.terminal.interactiveshell' from '/home/seclab_nahyun/anaconda3/envs/workspace/lib/python3.10/site-packages/IPython/terminal/interactiveshell.py'>, 'IPython.core.magics.auto': <module 'IPython.core.magics.auto' from '/home/seclab_nahyun/anaconda3/envs/workspace/lib/python3.10/site-packages/IPython/core/magics/auto.py'>, 'IPython.core.magics.basic': <module 'IPython.core.magics.basic' from '/home/seclab_nahyun/anaconda3/envs/workspace/lib/python3.10/site-packages/IPython/core/magics/basic.py'>, 'http': <module 'http' from '/home/seclab_nahyun/anaconda3/envs/workspace/lib/python3.10/http/__init__.py'>, 'email.feedparser': <module 'email.feedparser' from '/home/seclab_nahyun/anaconda3/envs/workspace/lib/python3.10/email/feedparser.py'>, 'email.parser': <module 'email.parser' from '/home/seclab_nahyun/anaconda3/envs/workspace/lib/python3.10/email/parser.py'>, 'http.client': <module 'http.client' from '/home/seclab_nahyun/anaconda3/envs/workspace/lib/python3.10/http/client.py'>, 'urllib.response': <module 'urllib.response' from '/home/seclab_nahyun/anaconda3/envs/workspace/lib/python3.10/urllib/response.py'>, 'urllib.error': <module 'urllib.error' from '/home/seclab_nahyun/anaconda3/envs/workspace/lib/python3.10/urllib/error.py'>, 'urllib.request': <module 'urllib.request' from '/home/seclab_nahyun/anaconda3/envs/workspace/lib/python3.10/urllib/request.py'>, 'IPython.utils.contexts': <module 'IPython.utils.contexts' from '/home/seclab_nahyun/anaconda3/envs/workspace/lib/python3.10/site-packages/IPython/utils/contexts.py'>, 'IPython.core.magics.code': <module 'IPython.core.magics.code' from '/home/seclab_nahyun/anaconda3/envs/workspace/lib/python3.10/site-packages/IPython/core/magics/code.py'>, 'IPython.core.magics.config': <module 'IPython.core.magics.config' from '/home/seclab_nahyun/anaconda3/envs/workspace/lib/python3.10/site-packages/IPython/core/magics/config.py'>, 'IPython.core.magics.display': <module 'IPython.core.magics.display' from '/home/seclab_nahyun/anaconda3/envs/workspace/lib/python3.10/site-packages/IPython/core/magics/display.py'>, '_lsprof': <module '_lsprof' from '/home/seclab_nahyun/anaconda3/envs/workspace/lib/python3.10/lib-dynload/_lsprof.cpython-310-x86_64-linux-gnu.so'>, 'profile': <module 'profile' from '/home/seclab_nahyun/anaconda3/envs/workspace/lib/python3.10/profile.py'>, 'cProfile': <module 'cProfile' from '/home/seclab_nahyun/anaconda3/envs/workspace/lib/python3.10/cProfile.py'>, 'pstats': <module 'pstats' from '/home/seclab_nahyun/anaconda3/envs/workspace/lib/python3.10/pstats.py'>, 'timeit': <module 'timeit' from '/home/seclab_nahyun/anaconda3/envs/workspace/lib/python3.10/timeit.py'>, 'IPython.utils.module_paths': <module 'IPython.utils.module_paths' from '/home/seclab_nahyun/anaconda3/envs/workspace/lib/python3.10/site-packages/IPython/utils/module_paths.py'>, 'IPython.utils.timing': <module 'IPython.utils.timing' from '/home/seclab_nahyun/anaconda3/envs/workspace/lib/python3.10/site-packages/IPython/utils/timing.py'>, 'IPython.core.magics.ast_mod': <module 'IPython.core.magics.ast_mod' from '/home/seclab_nahyun/anaconda3/envs/workspace/lib/python3.10/site-packages/IPython/core/magics/ast_mod.py'>, 'IPython.core.magics.execution': <module 'IPython.core.magics.execution' from '/home/seclab_nahyun/anaconda3/envs/workspace/lib/python3.10/site-packages/IPython/core/magics/execution.py'>, 'IPython.core.magics.extension': <module 'IPython.core.magics.extension' from '/home/seclab_nahyun/anaconda3/envs/workspace/lib/python3.10/site-packages/IPython/core/magics/extension.py'>, 'IPython.core.magics.history': <module 'IPython.core.magics.history' from '/home/seclab_nahyun/anaconda3/envs/workspace/lib/python3.10/site-packages/IPython/core/magics/history.py'>, 'IPython.core.magics.logging': <module 'IPython.core.magics.logging' from '/home/seclab_nahyun/anaconda3/envs/workspace/lib/python3.10/site-packages/IPython/core/magics/logging.py'>, 'IPython.core.magics.namespace': <module 'IPython.core.magics.namespace' from '/home/seclab_nahyun/anaconda3/envs/workspace/lib/python3.10/site-packages/IPython/core/magics/namespace.py'>, 'IPython.core.magics.osm': <module 'IPython.core.magics.osm' from '/home/seclab_nahyun/anaconda3/envs/workspace/lib/python3.10/site-packages/IPython/core/magics/osm.py'>, 'IPython.core.magics.packaging': <module 'IPython.core.magics.packaging' from '/home/seclab_nahyun/anaconda3/envs/workspace/lib/python3.10/site-packages/IPython/core/magics/packaging.py'>, 'IPython.core.pylabtools': <module 'IPython.core.pylabtools' from '/home/seclab_nahyun/anaconda3/envs/workspace/lib/python3.10/site-packages/IPython/core/pylabtools.py'>, 'IPython.core.magics.pylab': <module 'IPython.core.magics.pylab' from '/home/seclab_nahyun/anaconda3/envs/workspace/lib/python3.10/site-packages/IPython/core/magics/pylab.py'>, 'IPython.core.magics.script': <module 'IPython.core.magics.script' from '/home/seclab_nahyun/anaconda3/envs/workspace/lib/python3.10/site-packages/IPython/core/magics/script.py'>, 'IPython.core.magics': <module 'IPython.core.magics' from '/home/seclab_nahyun/anaconda3/envs/workspace/lib/python3.10/site-packages/IPython/core/magics/__init__.py'>, 'IPython.core.shellapp': <module 'IPython.core.shellapp' from '/home/seclab_nahyun/anaconda3/envs/workspace/lib/python3.10/site-packages/IPython/core/shellapp.py'>, 'IPython.extensions': <module 'IPython.extensions' from '/home/seclab_nahyun/anaconda3/envs/workspace/lib/python3.10/site-packages/IPython/extensions/__init__.py'>, 'IPython.extensions.storemagic': <module 'IPython.extensions.storemagic' from '/home/seclab_nahyun/anaconda3/envs/workspace/lib/python3.10/site-packages/IPython/extensions/storemagic.py'>, 'IPython.terminal.ipapp': <module 'IPython.terminal.ipapp' from '/home/seclab_nahyun/anaconda3/envs/workspace/lib/python3.10/site-packages/IPython/terminal/ipapp.py'>, 'IPython.terminal.embed': <module 'IPython.terminal.embed' from '/home/seclab_nahyun/anaconda3/envs/workspace/lib/python3.10/site-packages/IPython/terminal/embed.py'>, 'IPython.utils.frame': <module 'IPython.utils.frame' from '/home/seclab_nahyun/anaconda3/envs/workspace/lib/python3.10/site-packages/IPython/utils/frame.py'>, 'IPython': <module 'IPython' from '/home/seclab_nahyun/anaconda3/envs/workspace/lib/python3.10/site-packages/IPython/__init__.py'>, 'ipykernel.control': <module 'ipykernel.control' from '/home/seclab_nahyun/anaconda3/envs/workspace/lib/python3.10/site-packages/ipykernel/control.py'>, 'ipykernel.heartbeat': <module 'ipykernel.heartbeat' from '/home/seclab_nahyun/anaconda3/envs/workspace/lib/python3.10/site-packages/ipykernel/heartbeat.py'>, 'ipykernel.iostream': <module 'ipykernel.iostream' from '/home/seclab_nahyun/anaconda3/envs/workspace/lib/python3.10/site-packages/ipykernel/iostream.py'>, 'comm.base_comm': <module 'comm.base_comm' from '/home/seclab_nahyun/anaconda3/envs/workspace/lib/python3.10/site-packages/comm/base_comm.py'>, 'comm': <module 'comm' from '/home/seclab_nahyun/anaconda3/envs/workspace/lib/python3.10/site-packages/comm/__init__.py'>, 'ipykernel.jsonutil': <module 'ipykernel.jsonutil' from '/home/seclab_nahyun/anaconda3/envs/workspace/lib/python3.10/site-packages/ipykernel/jsonutil.py'>, 'pwd': <module 'pwd' (built-in)>, 'psutil._common': <module 'psutil._common' from '/home/seclab_nahyun/anaconda3/envs/workspace/lib/python3.10/site-packages/psutil/_common.py'>, 'psutil._compat': <module 'psutil._compat' from '/home/seclab_nahyun/anaconda3/envs/workspace/lib/python3.10/site-packages/psutil/_compat.py'>, 'psutil._psposix': <module 'psutil._psposix' from '/home/seclab_nahyun/anaconda3/envs/workspace/lib/python3.10/site-packages/psutil/_psposix.py'>, 'psutil._psutil_linux': <module 'psutil._psutil_linux' from '/home/seclab_nahyun/anaconda3/envs/workspace/lib/python3.10/site-packages/psutil/_psutil_linux.abi3.so'>, 'psutil._psutil_posix': <module 'psutil._psutil_posix' from '/home/seclab_nahyun/anaconda3/envs/workspace/lib/python3.10/site-packages/psutil/_psutil_posix.abi3.so'>, 'psutil._pslinux': <module 'psutil._pslinux' from '/home/seclab_nahyun/anaconda3/envs/workspace/lib/python3.10/site-packages/psutil/_pslinux.py'>, 'psutil': <module 'psutil' from '/home/seclab_nahyun/anaconda3/envs/workspace/lib/python3.10/site-packages/psutil/__init__.py'>, 'tornado.gen': <module 'tornado.gen' from '/home/seclab_nahyun/anaconda3/envs/workspace/lib/python3.10/site-packages/tornado/gen.py'>, 'tornado.locks': <module 'tornado.locks' from '/home/seclab_nahyun/anaconda3/envs/workspace/lib/python3.10/site-packages/tornado/locks.py'>, 'tornado.queues': <module 'tornado.queues' from '/home/seclab_nahyun/anaconda3/envs/workspace/lib/python3.10/site-packages/tornado/queues.py'>, 'ipykernel.kernelbase': <module 'ipykernel.kernelbase' from '/home/seclab_nahyun/anaconda3/envs/workspace/lib/python3.10/site-packages/ipykernel/kernelbase.py'>, 'ipykernel.comm.comm': <module 'ipykernel.comm.comm' from '/home/seclab_nahyun/anaconda3/envs/workspace/lib/python3.10/site-packages/ipykernel/comm/comm.py'>, 'ipykernel.comm.manager': <module 'ipykernel.comm.manager' from '/home/seclab_nahyun/anaconda3/envs/workspace/lib/python3.10/site-packages/ipykernel/comm/manager.py'>, 'ipykernel.comm': <module 'ipykernel.comm' from '/home/seclab_nahyun/anaconda3/envs/workspace/lib/python3.10/site-packages/ipykernel/comm/__init__.py'>, 'ipykernel.compiler': <module 'ipykernel.compiler' from '/home/seclab_nahyun/anaconda3/envs/workspace/lib/python3.10/site-packages/ipykernel/compiler.py'>, 'debugpy._version': <module 'debugpy._version' from '/home/seclab_nahyun/anaconda3/envs/workspace/lib/python3.10/site-packages/debugpy/_version.py'>, 'debugpy.public_api': <module 'debugpy.public_api' from '/home/seclab_nahyun/anaconda3/envs/workspace/lib/python3.10/site-packages/debugpy/public_api.py'>, 'debugpy': <module 'debugpy' from '/home/seclab_nahyun/anaconda3/envs/workspace/lib/python3.10/site-packages/debugpy/__init__.py'>, 'debugpy._vendored._util': <module 'debugpy._vendored._util' from '/home/seclab_nahyun/anaconda3/envs/workspace/lib/python3.10/site-packages/debugpy/_vendored/_util.py'>, 'debugpy._vendored': <module 'debugpy._vendored' from '/home/seclab_nahyun/anaconda3/envs/workspace/lib/python3.10/site-packages/debugpy/_vendored/__init__.py'>, '_pydevd_bundle': <module '_pydevd_bundle' from '/home/seclab_nahyun/anaconda3/envs/workspace/lib/python3.10/site-packages/debugpy/_vendored/pydevd/_pydevd_bundle/__init__.py'>, 'encodings.ascii': <module 'encodings.ascii' from '/home/seclab_nahyun/anaconda3/envs/workspace/lib/python3.10/encodings/ascii.py'>, 'encodings.latin_1': <module 'encodings.latin_1' from '/home/seclab_nahyun/anaconda3/envs/workspace/lib/python3.10/encodings/latin_1.py'>, 'stringprep': <module 'stringprep' from '/home/seclab_nahyun/anaconda3/envs/workspace/lib/python3.10/stringprep.py'>, 'encodings.idna': <module 'encodings.idna' from '/home/seclab_nahyun/anaconda3/envs/workspace/lib/python3.10/encodings/idna.py'>, '_pydevd_bundle.pydevd_vm_type': <module '_pydevd_bundle.pydevd_vm_type' from '/home/seclab_nahyun/anaconda3/envs/workspace/lib/python3.10/site-packages/debugpy/_vendored/pydevd/_pydevd_bundle/pydevd_vm_type.py'>, '_pydev_bundle': <module '_pydev_bundle' from '/home/seclab_nahyun/anaconda3/envs/workspace/lib/python3.10/site-packages/debugpy/_vendored/pydevd/_pydev_bundle/__init__.py'>, 'xmlrpc': <module 'xmlrpc' from '/home/seclab_nahyun/anaconda3/envs/workspace/lib/python3.10/xmlrpc/__init__.py'>, 'xml.parsers': <module 'xml.parsers' from '/home/seclab_nahyun/anaconda3/envs/workspace/lib/python3.10/xml/parsers/__init__.py'>, 'pyexpat.errors': <module 'pyexpat.errors'>, 'pyexpat.model': <module 'pyexpat.model'>, 'pyexpat': <module 'pyexpat' from '/home/seclab_nahyun/anaconda3/envs/workspace/lib/python3.10/lib-dynload/pyexpat.cpython-310-x86_64-linux-gnu.so'>, 'xml.parsers.expat.model': <module 'pyexpat.model'>, 'xml.parsers.expat.errors': <module 'pyexpat.errors'>, 'xml.parsers.expat': <module 'xml.parsers.expat' from '/home/seclab_nahyun/anaconda3/envs/workspace/lib/python3.10/xml/parsers/expat.py'>, 'gzip': <module 'gzip' from '/home/seclab_nahyun/anaconda3/envs/workspace/lib/python3.10/gzip.py'>, 'xmlrpc.client': <module 'xmlrpc.client' from '/home/seclab_nahyun/anaconda3/envs/workspace/lib/python3.10/xmlrpc/client.py'>, 'http.server': <module 'http.server' from '/home/seclab_nahyun/anaconda3/envs/workspace/lib/python3.10/http/server.py'>, 'xmlrpc.server': <module 'xmlrpc.server' from '/home/seclab_nahyun/anaconda3/envs/workspace/lib/python3.10/xmlrpc/server.py'>, '_pydev_bundle._pydev_saved_modules': <module '_pydev_bundle._pydev_saved_modules' from '/home/seclab_nahyun/anaconda3/envs/workspace/lib/python3.10/site-packages/debugpy/_vendored/pydevd/_pydev_bundle/_pydev_saved_modules.py'>, '_pydevd_bundle.pydevd_constants': <module '_pydevd_bundle.pydevd_constants' from '/home/seclab_nahyun/anaconda3/envs/workspace/lib/python3.10/site-packages/debugpy/_vendored/pydevd/_pydevd_bundle/pydevd_constants.py'>, '_pydev_runfiles': <module '_pydev_runfiles' from '/home/seclab_nahyun/anaconda3/envs/workspace/lib/python3.10/site-packages/debugpy/_vendored/pydevd/_pydev_runfiles/__init__.py'>, '_pydevd_frame_eval': <module '_pydevd_frame_eval' from '/home/seclab_nahyun/anaconda3/envs/workspace/lib/python3.10/site-packages/debugpy/_vendored/pydevd/_pydevd_frame_eval/__init__.py'>, 'pydev_ipython': <module 'pydev_ipython' from '/home/seclab_nahyun/anaconda3/envs/workspace/lib/python3.10/site-packages/debugpy/_vendored/pydevd/pydev_ipython/__init__.py'>, 'pydevd_plugins': <module 'pydevd_plugins' (<_frozen_importlib_external._NamespaceLoader object at 0x7fb3bb9479a0>)>, '_pydev_bundle.pydev_log': <module '_pydev_bundle.pydev_log' from '/home/seclab_nahyun/anaconda3/envs/workspace/lib/python3.10/site-packages/debugpy/_vendored/pydevd/_pydev_bundle/pydev_log.py'>, '_pydev_bundle._pydev_filesystem_encoding': <module '_pydev_bundle._pydev_filesystem_encoding' from '/home/seclab_nahyun/anaconda3/envs/workspace/lib/python3.10/site-packages/debugpy/_vendored/pydevd/_pydev_bundle/_pydev_filesystem_encoding.py'>, '_pydevd_bundle.pydevd_comm_constants': <module '_pydevd_bundle.pydevd_comm_constants' from '/home/seclab_nahyun/anaconda3/envs/workspace/lib/python3.10/site-packages/debugpy/_vendored/pydevd/_pydevd_bundle/pydevd_comm_constants.py'>, 'pydevd_file_utils': <module 'pydevd_file_utils' from '/home/seclab_nahyun/anaconda3/envs/workspace/lib/python3.10/site-packages/debugpy/_vendored/pydevd/pydevd_file_utils.py'>, '_pydev_bundle._pydev_execfile': <module '_pydev_bundle._pydev_execfile' from '/home/seclab_nahyun/anaconda3/envs/workspace/lib/python3.10/site-packages/debugpy/_vendored/pydevd/_pydev_bundle/_pydev_execfile.py'>, '_pydevd_bundle.pydevd_exec2': <module '_pydevd_bundle.pydevd_exec2' from '/home/seclab_nahyun/anaconda3/envs/workspace/lib/python3.10/site-packages/debugpy/_vendored/pydevd/_pydevd_bundle/pydevd_exec2.py'>, '_pydev_bundle.pydev_imports': <module '_pydev_bundle.pydev_imports' from '/home/seclab_nahyun/anaconda3/envs/workspace/lib/python3.10/site-packages/debugpy/_vendored/pydevd/_pydev_bundle/pydev_imports.py'>, '_pydev_bundle.pydev_is_thread_alive': <module '_pydev_bundle.pydev_is_thread_alive' from '/home/seclab_nahyun/anaconda3/envs/workspace/lib/python3.10/site-packages/debugpy/_vendored/pydevd/_pydev_bundle/pydev_is_thread_alive.py'>, '_pydev_bundle.pydev_override': <module '_pydev_bundle.pydev_override' from '/home/seclab_nahyun/anaconda3/envs/workspace/lib/python3.10/site-packages/debugpy/_vendored/pydevd/_pydev_bundle/pydev_override.py'>, 'pydevd_plugins.extensions': <module 'pydevd_plugins.extensions' (<_frozen_importlib_external._NamespaceLoader object at 0x7fb3bb831150>)>, '_pydevd_bundle.pydevd_extension_utils': <module '_pydevd_bundle.pydevd_extension_utils' from '/home/seclab_nahyun/anaconda3/envs/workspace/lib/python3.10/site-packages/debugpy/_vendored/pydevd/_pydevd_bundle/pydevd_extension_utils.py'>, '_pydevd_bundle.pydevd_frame_utils': <module '_pydevd_bundle.pydevd_frame_utils' from '/home/seclab_nahyun/anaconda3/envs/workspace/lib/python3.10/site-packages/debugpy/_vendored/pydevd/_pydevd_bundle/pydevd_frame_utils.py'>, '_pydevd_bundle.pydevd_filtering': <module '_pydevd_bundle.pydevd_filtering' from '/home/seclab_nahyun/anaconda3/envs/workspace/lib/python3.10/site-packages/debugpy/_vendored/pydevd/_pydevd_bundle/pydevd_filtering.py'>, '_pydevd_bundle.pydevd_io': <module '_pydevd_bundle.pydevd_io' from '/home/seclab_nahyun/anaconda3/envs/workspace/lib/python3.10/site-packages/debugpy/_vendored/pydevd/_pydevd_bundle/pydevd_io.py'>, '_pydevd_bundle.pydevd_defaults': <module '_pydevd_bundle.pydevd_defaults' from '/home/seclab_nahyun/anaconda3/envs/workspace/lib/python3.10/site-packages/debugpy/_vendored/pydevd/_pydevd_bundle/pydevd_defaults.py'>, '_pydevd_bundle.pydevd_utils': <module '_pydevd_bundle.pydevd_utils' from '/home/seclab_nahyun/anaconda3/envs/workspace/lib/python3.10/site-packages/debugpy/_vendored/pydevd/_pydevd_bundle/pydevd_utils.py'>, '_pydevd_bundle.pydevd_runpy': <module '_pydevd_bundle.pydevd_runpy' from '/home/seclab_nahyun/anaconda3/envs/workspace/lib/python3.10/site-packages/debugpy/_vendored/pydevd/_pydevd_bundle/pydevd_runpy.py'>, '_pydev_bundle._pydev_tipper_common': <module '_pydev_bundle._pydev_tipper_common' from '/home/seclab_nahyun/anaconda3/envs/workspace/lib/python3.10/site-packages/debugpy/_vendored/pydevd/_pydev_bundle/_pydev_tipper_common.py'>, '_pydev_bundle._pydev_imports_tipper': <module '_pydev_bundle._pydev_imports_tipper' from '/home/seclab_nahyun/anaconda3/envs/workspace/lib/python3.10/site-packages/debugpy/_vendored/pydevd/_pydev_bundle/_pydev_imports_tipper.py'>, '_pydev_bundle._pydev_calltip_util': <module '_pydev_bundle._pydev_calltip_util' from '/home/seclab_nahyun/anaconda3/envs/workspace/lib/python3.10/site-packages/debugpy/_vendored/pydevd/_pydev_bundle/_pydev_calltip_util.py'>, '_pydevd_bundle.pydevd_safe_repr': <module '_pydevd_bundle.pydevd_safe_repr' from '/home/seclab_nahyun/anaconda3/envs/workspace/lib/python3.10/site-packages/debugpy/_vendored/pydevd/_pydevd_bundle/pydevd_safe_repr.py'>, '_pydevd_bundle.pydevd_resolver': <module '_pydevd_bundle.pydevd_resolver' from '/home/seclab_nahyun/anaconda3/envs/workspace/lib/python3.10/site-packages/debugpy/_vendored/pydevd/_pydevd_bundle/pydevd_resolver.py'>, '_pydevd_bundle.pydevd_extension_api': <module '_pydevd_bundle.pydevd_extension_api' from '/home/seclab_nahyun/anaconda3/envs/workspace/lib/python3.10/site-packages/debugpy/_vendored/pydevd/_pydevd_bundle/pydevd_extension_api.py'>, '_pydevd_bundle.pydevd_xml': <module '_pydevd_bundle.pydevd_xml' from '/home/seclab_nahyun/anaconda3/envs/workspace/lib/python3.10/site-packages/debugpy/_vendored/pydevd/_pydevd_bundle/pydevd_xml.py'>, '_pydevd_bundle.pydevd_dont_trace': <module '_pydevd_bundle.pydevd_dont_trace' from '/home/seclab_nahyun/anaconda3/envs/workspace/lib/python3.10/site-packages/debugpy/_vendored/pydevd/_pydevd_bundle/pydevd_dont_trace.py'>, '_pydevd_frame_eval.vendored': <module '_pydevd_frame_eval.vendored' from '/home/seclab_nahyun/anaconda3/envs/workspace/lib/python3.10/site-packages/debugpy/_vendored/pydevd/_pydevd_frame_eval/vendored/__init__.py'>, '_pydevd_frame_eval.vendored.bytecode.flags': <module '_pydevd_frame_eval.vendored.bytecode.flags' from '/home/seclab_nahyun/anaconda3/envs/workspace/lib/python3.10/site-packages/debugpy/_vendored/pydevd/_pydevd_frame_eval/vendored/bytecode/flags.py'>, '_pydevd_frame_eval.vendored.bytecode.instr': <module '_pydevd_frame_eval.vendored.bytecode.instr' from '/home/seclab_nahyun/anaconda3/envs/workspace/lib/python3.10/site-packages/debugpy/_vendored/pydevd/_pydevd_frame_eval/vendored/bytecode/instr.py'>, '_pydevd_frame_eval.vendored.bytecode.bytecode': <module '_pydevd_frame_eval.vendored.bytecode.bytecode' from '/home/seclab_nahyun/anaconda3/envs/workspace/lib/python3.10/site-packages/debugpy/_vendored/pydevd/_pydevd_frame_eval/vendored/bytecode/bytecode.py'>, '_pydevd_frame_eval.vendored.bytecode.concrete': <module '_pydevd_frame_eval.vendored.bytecode.concrete' from '/home/seclab_nahyun/anaconda3/envs/workspace/lib/python3.10/site-packages/debugpy/_vendored/pydevd/_pydevd_frame_eval/vendored/bytecode/concrete.py'>, '_pydevd_frame_eval.vendored.bytecode.cfg': <module '_pydevd_frame_eval.vendored.bytecode.cfg' from '/home/seclab_nahyun/anaconda3/envs/workspace/lib/python3.10/site-packages/debugpy/_vendored/pydevd/_pydevd_frame_eval/vendored/bytecode/cfg.py'>, '_pydevd_frame_eval.vendored.bytecode': <module '_pydevd_frame_eval.vendored.bytecode' from '/home/seclab_nahyun/anaconda3/envs/workspace/lib/python3.10/site-packages/debugpy/_vendored/pydevd/_pydevd_frame_eval/vendored/bytecode/__init__.py'>, '_pydevd_bundle.pydevd_bytecode_utils': <module '_pydevd_bundle.pydevd_bytecode_utils' from '/home/seclab_nahyun/anaconda3/envs/workspace/lib/python3.10/site-packages/debugpy/_vendored/pydevd/_pydevd_bundle/pydevd_bytecode_utils.py'>, '_pydevd_bundle.pydevd_cython': <module '_pydevd_bundle.pydevd_cython' from '/home/seclab_nahyun/anaconda3/envs/workspace/lib/python3.10/site-packages/debugpy/_vendored/pydevd/_pydevd_bundle/pydevd_cython.cpython-310-x86_64-linux-gnu.so'>, '_pydevd_bundle.pydevd_cython_wrapper': <module '_pydevd_bundle.pydevd_cython_wrapper' from '/home/seclab_nahyun/anaconda3/envs/workspace/lib/python3.10/site-packages/debugpy/_vendored/pydevd/_pydevd_bundle/pydevd_cython_wrapper.py'>, '_pydevd_bundle.pydevd_additional_thread_info': <module '_pydevd_bundle.pydevd_additional_thread_info' from '/home/seclab_nahyun/anaconda3/envs/workspace/lib/python3.10/site-packages/debugpy/_vendored/pydevd/_pydevd_bundle/pydevd_additional_thread_info.py'>, '_pydevd_bundle.pydevd_thread_lifecycle': <module '_pydevd_bundle.pydevd_thread_lifecycle' from '/home/seclab_nahyun/anaconda3/envs/workspace/lib/python3.10/site-packages/debugpy/_vendored/pydevd/_pydevd_bundle/pydevd_thread_lifecycle.py'>, '_pydevd_bundle.pydevd_save_locals': <module '_pydevd_bundle.pydevd_save_locals' from '/home/seclab_nahyun/anaconda3/envs/workspace/lib/python3.10/site-packages/debugpy/_vendored/pydevd/_pydevd_bundle/pydevd_save_locals.py'>, '_pydev_bundle.pydev_monkey': <module '_pydev_bundle.pydev_monkey' from '/home/seclab_nahyun/anaconda3/envs/workspace/lib/python3.10/site-packages/debugpy/_vendored/pydevd/_pydev_bundle/pydev_monkey.py'>, 'pydevd_tracing': <module 'pydevd_tracing' from '/home/seclab_nahyun/anaconda3/envs/workspace/lib/python3.10/site-packages/debugpy/_vendored/pydevd/pydevd_tracing.py'>, '_pydevd_bundle.pydevd_collect_bytecode_info': <module '_pydevd_bundle.pydevd_collect_bytecode_info' from '/home/seclab_nahyun/anaconda3/envs/workspace/lib/python3.10/site-packages/debugpy/_vendored/pydevd/_pydevd_bundle/pydevd_collect_bytecode_info.py'>, '_pydevd_bundle.pydevd_daemon_thread': <module '_pydevd_bundle.pydevd_daemon_thread' from '/home/seclab_nahyun/anaconda3/envs/workspace/lib/python3.10/site-packages/debugpy/_vendored/pydevd/_pydevd_bundle/pydevd_daemon_thread.py'>, '_pydevd_bundle.pydevd_timeout': <module '_pydevd_bundle.pydevd_timeout' from '/home/seclab_nahyun/anaconda3/envs/workspace/lib/python3.10/site-packages/debugpy/_vendored/pydevd/_pydevd_bundle/pydevd_timeout.py'>, '_pydevd_bundle.pydevd_vars': <module '_pydevd_bundle.pydevd_vars' from '/home/seclab_nahyun/anaconda3/envs/workspace/lib/python3.10/site-packages/debugpy/_vendored/pydevd/_pydevd_bundle/pydevd_vars.py'>, '_pydev_bundle.pydev_console_utils': <module '_pydev_bundle.pydev_console_utils' from '/home/seclab_nahyun/anaconda3/envs/workspace/lib/python3.10/site-packages/debugpy/_vendored/pydevd/_pydev_bundle/pydev_console_utils.py'>, '_pydevd_bundle.pydevd_import_class': <module '_pydevd_bundle.pydevd_import_class' from '/home/seclab_nahyun/anaconda3/envs/workspace/lib/python3.10/site-packages/debugpy/_vendored/pydevd/_pydevd_bundle/pydevd_import_class.py'>, '_pydevd_bundle.pydevd_breakpoints': <module '_pydevd_bundle.pydevd_breakpoints' from '/home/seclab_nahyun/anaconda3/envs/workspace/lib/python3.10/site-packages/debugpy/_vendored/pydevd/_pydevd_bundle/pydevd_breakpoints.py'>, '_pydevd_bundle.pydevd_custom_frames': <module '_pydevd_bundle.pydevd_custom_frames' from '/home/seclab_nahyun/anaconda3/envs/workspace/lib/python3.10/site-packages/debugpy/_vendored/pydevd/_pydevd_bundle/pydevd_custom_frames.py'>, '_pydevd_bundle.pydevd_dont_trace_files': <module '_pydevd_bundle.pydevd_dont_trace_files' from '/home/seclab_nahyun/anaconda3/envs/workspace/lib/python3.10/site-packages/debugpy/_vendored/pydevd/_pydevd_bundle/pydevd_dont_trace_files.py'>, '_pydevd_bundle.pydevd_net_command': <module '_pydevd_bundle.pydevd_net_command' from '/home/seclab_nahyun/anaconda3/envs/workspace/lib/python3.10/site-packages/debugpy/_vendored/pydevd/_pydevd_bundle/pydevd_net_command.py'>, '_pydevd_bundle.pydevconsole_code': <module '_pydevd_bundle.pydevconsole_code' from '/home/seclab_nahyun/anaconda3/envs/workspace/lib/python3.10/site-packages/debugpy/_vendored/pydevd/_pydevd_bundle/pydevconsole_code.py'>, '_pydev_bundle.pydev_umd': <module '_pydev_bundle.pydev_umd' from '/home/seclab_nahyun/anaconda3/envs/workspace/lib/python3.10/site-packages/debugpy/_vendored/pydevd/_pydev_bundle/pydev_umd.py'>, 'pydevconsole': <module 'pydevconsole' from '/home/seclab_nahyun/anaconda3/envs/workspace/lib/python3.10/site-packages/debugpy/_vendored/pydevd/pydevconsole.py'>, '_pydev_bundle._pydev_completer': <module '_pydev_bundle._pydev_completer' from '/home/seclab_nahyun/anaconda3/envs/workspace/lib/python3.10/site-packages/debugpy/_vendored/pydevd/_pydev_bundle/_pydev_completer.py'>, '_pydevd_bundle.pydevd_net_command_factory_xml': <module '_pydevd_bundle.pydevd_net_command_factory_xml' from '/home/seclab_nahyun/anaconda3/envs/workspace/lib/python3.10/site-packages/debugpy/_vendored/pydevd/_pydevd_bundle/pydevd_net_command_factory_xml.py'>, '_pydevd_bundle.pydevd_frame': <module '_pydevd_bundle.pydevd_frame' from '/home/seclab_nahyun/anaconda3/envs/workspace/lib/python3.10/site-packages/debugpy/_vendored/pydevd/_pydevd_bundle/pydevd_frame.py'>, '_pydevd_bundle.pydevd_additional_thread_info_regular': <module '_pydevd_bundle.pydevd_additional_thread_info_regular' from '/home/seclab_nahyun/anaconda3/envs/workspace/lib/python3.10/site-packages/debugpy/_vendored/pydevd/_pydevd_bundle/pydevd_additional_thread_info_regular.py'>, '_pydevd_bundle.pydevd_trace_dispatch': <module '_pydevd_bundle.pydevd_trace_dispatch' from '/home/seclab_nahyun/anaconda3/envs/workspace/lib/python3.10/site-packages/debugpy/_vendored/pydevd/_pydevd_bundle/pydevd_trace_dispatch.py'>, '_pydevd_frame_eval.pydevd_frame_eval_main': <module '_pydevd_frame_eval.pydevd_frame_eval_main' from '/home/seclab_nahyun/anaconda3/envs/workspace/lib/python3.10/site-packages/debugpy/_vendored/pydevd/_pydevd_frame_eval/pydevd_frame_eval_main.py'>, '_pydevd_bundle.pydevd_source_mapping': <module '_pydevd_bundle.pydevd_source_mapping' from '/home/seclab_nahyun/anaconda3/envs/workspace/lib/python3.10/site-packages/debugpy/_vendored/pydevd/_pydevd_bundle/pydevd_source_mapping.py'>, '_pydevd_bundle.pydevd_concurrency_analyser': <module '_pydevd_bundle.pydevd_concurrency_analyser' from '/home/seclab_nahyun/anaconda3/envs/workspace/lib/python3.10/site-packages/debugpy/_vendored/pydevd/_pydevd_bundle/pydevd_concurrency_analyser/__init__.py'>, '_pydevd_bundle.pydevd_concurrency_analyser.pydevd_thread_wrappers': <module '_pydevd_bundle.pydevd_concurrency_analyser.pydevd_thread_wrappers' from '/home/seclab_nahyun/anaconda3/envs/workspace/lib/python3.10/site-packages/debugpy/_vendored/pydevd/_pydevd_bundle/pydevd_concurrency_analyser/pydevd_thread_wrappers.py'>, '_pydevd_bundle.pydevd_concurrency_analyser.pydevd_concurrency_logger': <module '_pydevd_bundle.pydevd_concurrency_analyser.pydevd_concurrency_logger' from '/home/seclab_nahyun/anaconda3/envs/workspace/lib/python3.10/site-packages/debugpy/_vendored/pydevd/_pydevd_bundle/pydevd_concurrency_analyser/pydevd_concurrency_logger.py'>, '_pydevd_bundle._debug_adapter': <module '_pydevd_bundle._debug_adapter' from '/home/seclab_nahyun/anaconda3/envs/workspace/lib/python3.10/site-packages/debugpy/_vendored/pydevd/_pydevd_bundle/_debug_adapter/__init__.py'>, '_pydevd_bundle._debug_adapter.pydevd_schema_log': <module '_pydevd_bundle._debug_adapter.pydevd_schema_log' from '/home/seclab_nahyun/anaconda3/envs/workspace/lib/python3.10/site-packages/debugpy/_vendored/pydevd/_pydevd_bundle/_debug_adapter/pydevd_schema_log.py'>, '_pydevd_bundle._debug_adapter.pydevd_base_schema': <module '_pydevd_bundle._debug_adapter.pydevd_base_schema' from '/home/seclab_nahyun/anaconda3/envs/workspace/lib/python3.10/site-packages/debugpy/_vendored/pydevd/_pydevd_bundle/_debug_adapter/pydevd_base_schema.py'>, '_pydevd_bundle._debug_adapter.pydevd_schema': <module '_pydevd_bundle._debug_adapter.pydevd_schema' from '/home/seclab_nahyun/anaconda3/envs/workspace/lib/python3.10/site-packages/debugpy/_vendored/pydevd/_pydevd_bundle/_debug_adapter/pydevd_schema.py'>, '_pydevd_bundle.pydevd_reload': <module '_pydevd_bundle.pydevd_reload' from '/home/seclab_nahyun/anaconda3/envs/workspace/lib/python3.10/site-packages/debugpy/_vendored/pydevd/_pydevd_bundle/pydevd_reload.py'>, '_pydev_bundle.fsnotify': <module '_pydev_bundle.fsnotify' from '/home/seclab_nahyun/anaconda3/envs/workspace/lib/python3.10/site-packages/debugpy/_vendored/pydevd/_pydev_bundle/fsnotify/__init__.py'>, '_pydevd_bundle.pydevd_console': <module '_pydevd_bundle.pydevd_console' from '/home/seclab_nahyun/anaconda3/envs/workspace/lib/python3.10/site-packages/debugpy/_vendored/pydevd/_pydevd_bundle/pydevd_console.py'>, '_pydevd_bundle.pydevd_comm': <module '_pydevd_bundle.pydevd_comm' from '/home/seclab_nahyun/anaconda3/envs/workspace/lib/python3.10/site-packages/debugpy/_vendored/pydevd/_pydevd_bundle/pydevd_comm.py'>, '_pydevd_bundle.pydevd_net_command_factory_json': <module '_pydevd_bundle.pydevd_net_command_factory_json' from '/home/seclab_nahyun/anaconda3/envs/workspace/lib/python3.10/site-packages/debugpy/_vendored/pydevd/_pydevd_bundle/pydevd_net_command_factory_json.py'>, '_pydevd_bundle.pydevd_api': <module '_pydevd_bundle.pydevd_api' from '/home/seclab_nahyun/anaconda3/envs/workspace/lib/python3.10/site-packages/debugpy/_vendored/pydevd/_pydevd_bundle/pydevd_api.py'>, '_pydevd_bundle.pydevd_json_debug_options': <module '_pydevd_bundle.pydevd_json_debug_options' from '/home/seclab_nahyun/anaconda3/envs/workspace/lib/python3.10/site-packages/debugpy/_vendored/pydevd/_pydevd_bundle/pydevd_json_debug_options.py'>, '_pydevd_bundle.pydevd_process_net_command_json': <module '_pydevd_bundle.pydevd_process_net_command_json' from '/home/seclab_nahyun/anaconda3/envs/workspace/lib/python3.10/site-packages/debugpy/_vendored/pydevd/_pydevd_bundle/pydevd_process_net_command_json.py'>, '_pydevd_bundle.pydevd_traceproperty': <module '_pydevd_bundle.pydevd_traceproperty' from '/home/seclab_nahyun/anaconda3/envs/workspace/lib/python3.10/site-packages/debugpy/_vendored/pydevd/_pydevd_bundle/pydevd_traceproperty.py'>, '_pydevd_bundle.pydevd_process_net_command': <module '_pydevd_bundle.pydevd_process_net_command' from '/home/seclab_nahyun/anaconda3/envs/workspace/lib/python3.10/site-packages/debugpy/_vendored/pydevd/_pydevd_bundle/pydevd_process_net_command.py'>, '_pydevd_bundle.pydevd_suspended_frames': <module '_pydevd_bundle.pydevd_suspended_frames' from '/home/seclab_nahyun/anaconda3/envs/workspace/lib/python3.10/site-packages/debugpy/_vendored/pydevd/_pydevd_bundle/pydevd_suspended_frames.py'>, '_pydevd_bundle.pydevd_trace_api': <module '_pydevd_bundle.pydevd_trace_api' from '/home/seclab_nahyun/anaconda3/envs/workspace/lib/python3.10/site-packages/debugpy/_vendored/pydevd/_pydevd_bundle/pydevd_trace_api.py'>, 'pydevd_plugins.pydevd_line_validation': <module 'pydevd_plugins.pydevd_line_validation' from '/home/seclab_nahyun/anaconda3/envs/workspace/lib/python3.10/site-packages/debugpy/_vendored/pydevd/pydevd_plugins/pydevd_line_validation.py'>, 'pydevd_plugins.django_debug': <module 'pydevd_plugins.django_debug' from '/home/seclab_nahyun/anaconda3/envs/workspace/lib/python3.10/site-packages/debugpy/_vendored/pydevd/pydevd_plugins/django_debug.py'>, 'pydevd_plugins.jinja2_debug': <module 'pydevd_plugins.jinja2_debug' from '/home/seclab_nahyun/anaconda3/envs/workspace/lib/python3.10/site-packages/debugpy/_vendored/pydevd/pydevd_plugins/jinja2_debug.py'>, '_pydevd_bundle.pydevd_plugin_utils': <module '_pydevd_bundle.pydevd_plugin_utils' from '/home/seclab_nahyun/anaconda3/envs/workspace/lib/python3.10/site-packages/debugpy/_vendored/pydevd/_pydevd_bundle/pydevd_plugin_utils.py'>, 'pydevd': <module 'pydevd' from '/home/seclab_nahyun/anaconda3/envs/workspace/lib/python3.10/site-packages/debugpy/_vendored/pydevd/pydevd.py'>, 'debugpy._vendored.force_pydevd': <module 'debugpy._vendored.force_pydevd' from '/home/seclab_nahyun/anaconda3/envs/workspace/lib/python3.10/site-packages/debugpy/_vendored/force_pydevd.py'>, 'debugpy.server': <module 'debugpy.server' from '/home/seclab_nahyun/anaconda3/envs/workspace/lib/python3.10/site-packages/debugpy/server/__init__.py'>, 'debugpy.adapter': <module 'debugpy.adapter' from '/home/seclab_nahyun/anaconda3/envs/workspace/lib/python3.10/site-packages/debugpy/adapter/__init__.py'>, 'debugpy.common': <module 'debugpy.common' from '/home/seclab_nahyun/anaconda3/envs/workspace/lib/python3.10/site-packages/debugpy/common/__init__.py'>, 'debugpy.common.json': <module 'debugpy.common.json' from '/home/seclab_nahyun/anaconda3/envs/workspace/lib/python3.10/site-packages/debugpy/common/json.py'>, 'debugpy.common.timestamp': <module 'debugpy.common.timestamp' from '/home/seclab_nahyun/anaconda3/envs/workspace/lib/python3.10/site-packages/debugpy/common/timestamp.py'>, 'debugpy.common.util': <module 'debugpy.common.util' from '/home/seclab_nahyun/anaconda3/envs/workspace/lib/python3.10/site-packages/debugpy/common/util.py'>, 'debugpy.common.log': <module 'debugpy.common.log' from '/home/seclab_nahyun/anaconda3/envs/workspace/lib/python3.10/site-packages/debugpy/common/log.py'>, 'debugpy.common.sockets': <module 'debugpy.common.sockets' from '/home/seclab_nahyun/anaconda3/envs/workspace/lib/python3.10/site-packages/debugpy/common/sockets.py'>, 'debugpy.server.api': <module 'debugpy.server.api' from '/home/seclab_nahyun/anaconda3/envs/workspace/lib/python3.10/site-packages/debugpy/server/api.py'>, 'ipykernel.debugger': <module 'ipykernel.debugger' from '/home/seclab_nahyun/anaconda3/envs/workspace/lib/python3.10/site-packages/ipykernel/debugger.py'>, 'packaging': <module 'packaging' from '/home/seclab_nahyun/anaconda3/envs/workspace/lib/python3.10/site-packages/packaging/__init__.py'>, 'packaging._structures': <module 'packaging._structures' from '/home/seclab_nahyun/anaconda3/envs/workspace/lib/python3.10/site-packages/packaging/_structures.py'>, 'packaging.version': <module 'packaging.version' from '/home/seclab_nahyun/anaconda3/envs/workspace/lib/python3.10/site-packages/packaging/version.py'>, 'ipykernel.eventloops': <module 'ipykernel.eventloops' from '/home/seclab_nahyun/anaconda3/envs/workspace/lib/python3.10/site-packages/ipykernel/eventloops.py'>, 'IPython.core.payloadpage': <module 'IPython.core.payloadpage' from '/home/seclab_nahyun/anaconda3/envs/workspace/lib/python3.10/site-packages/IPython/core/payloadpage.py'>, 'ipykernel.displayhook': <module 'ipykernel.displayhook' from '/home/seclab_nahyun/anaconda3/envs/workspace/lib/python3.10/site-packages/ipykernel/displayhook.py'>, 'ipykernel.zmqshell': <module 'ipykernel.zmqshell' from '/home/seclab_nahyun/anaconda3/envs/workspace/lib/python3.10/site-packages/ipykernel/zmqshell.py'>, 'ipykernel.ipkernel': <module 'ipykernel.ipkernel' from '/home/seclab_nahyun/anaconda3/envs/workspace/lib/python3.10/site-packages/ipykernel/ipkernel.py'>, 'ipykernel.parentpoller': <module 'ipykernel.parentpoller' from '/home/seclab_nahyun/anaconda3/envs/workspace/lib/python3.10/site-packages/ipykernel/parentpoller.py'>, 'ipykernel.kernelapp': <module 'ipykernel.kernelapp' from '/home/seclab_nahyun/anaconda3/envs/workspace/lib/python3.10/site-packages/ipykernel/kernelapp.py'>, 'tornado.platform': <module 'tornado.platform' from '/home/seclab_nahyun/anaconda3/envs/workspace/lib/python3.10/site-packages/tornado/platform/__init__.py'>, 'tornado.platform.asyncio': <module 'tornado.platform.asyncio' from '/home/seclab_nahyun/anaconda3/envs/workspace/lib/python3.10/site-packages/tornado/platform/asyncio.py'>, 'faulthandler': <module 'faulthandler' (built-in)>, 'IPython.core.completerlib': <module 'IPython.core.completerlib' from '/home/seclab_nahyun/anaconda3/envs/workspace/lib/python3.10/site-packages/IPython/core/completerlib.py'>}\n"
     ]
    },
    {
     "data": {
      "text/plain": [
       "'3.10.13 (main, Sep 11 2023, 13:44:35) [GCC 11.2.0]'"
      ]
     },
     "execution_count": 4,
     "metadata": {},
     "output_type": "execute_result"
    }
   ],
   "source": [
    "import sys\n",
    "# print(sys.executable)\n",
    "# print(sys.version)\n",
    "# print(sys.version_info)\n",
    "print(sys.path)\n",
    "print(sys.modules)\n",
    "sys.version"
   ]
  },
  {
   "cell_type": "code",
   "execution_count": 5,
   "metadata": {},
   "outputs": [],
   "source": [
    "# sys.path.remove(\"/home/ksknh7/.conda/envs/workspace/lib/python3.10/site-packages\")"
   ]
  },
  {
   "cell_type": "code",
   "execution_count": 6,
   "metadata": {},
   "outputs": [],
   "source": [
    "# sys.path.insert(0, \"/home/ksknh7/.conda/envs/workspace/lib/python3.10/site-packages\")"
   ]
  },
  {
   "cell_type": "code",
   "execution_count": 7,
   "metadata": {},
   "outputs": [],
   "source": [
    "# sys.path"
   ]
  },
  {
   "cell_type": "code",
   "execution_count": 8,
   "metadata": {},
   "outputs": [],
   "source": [
    "# sys.version"
   ]
  },
  {
   "cell_type": "code",
   "execution_count": 9,
   "metadata": {},
   "outputs": [],
   "source": [
    "# !echo $PATH"
   ]
  },
  {
   "cell_type": "markdown",
   "metadata": {},
   "source": [
    "## GPU Benchmark test"
   ]
  },
  {
   "cell_type": "code",
   "execution_count": null,
   "metadata": {},
   "outputs": [],
   "source": [
    "!pip install xgboost"
   ]
  },
  {
   "cell_type": "code",
   "execution_count": 2,
   "metadata": {},
   "outputs": [
    {
     "name": "stdout",
     "output_type": "stream",
     "text": [
      "시작!\n",
      "xgb (cpu): 소요시간: 19.496419429779053 초\n"
     ]
    },
    {
     "name": "stderr",
     "output_type": "stream",
     "text": [
      "/home/anaconda3/envs/ace_nahyun/lib/python3.9/site-packages/xgboost/core.py:160: UserWarning: [13:42:12] WARNING: /workspace/src/common/error_msg.cc:27: The tree method `gpu_hist` is deprecated since 2.0.0. To use GPU training, set the `device` parameter to CUDA instead.\n",
      "\n",
      "    E.g. tree_method = \"hist\", device = \"cuda\"\n",
      "\n",
      "  warnings.warn(smsg, UserWarning)\n"
     ]
    },
    {
     "name": "stdout",
     "output_type": "stream",
     "text": [
      "xgb (gpu): 소요시간: 2.963332414627075 초\n"
     ]
    }
   ],
   "source": [
    "import time\n",
    "from sklearn.datasets import make_regression\n",
    "from xgboost import XGBRegressor\n",
    "\n",
    "print('시작!')\n",
    "def model_test(model_name, model):\n",
    "    x, y = make_regression(n_samples=100000, n_features=100)\n",
    "    \n",
    "    start_time = time.time()\n",
    "    model.fit(x, y)\n",
    "    end_time = time.time()\n",
    "    return f'{model_name}: 소요시간: {(end_time - start_time)} 초'\n",
    "\n",
    "xgb = XGBRegressor(n_estimators=1000, \n",
    "                   learning_rate=0.01, \n",
    "                   subsample=0.8, \n",
    "                   colsample_bytree=0.8,\n",
    "                   objective='reg:squarederror', \n",
    "                  )\n",
    "\n",
    "print(model_test('xgb (cpu)', xgb))\n",
    "\n",
    "xgb = XGBRegressor(n_estimators=1000, \n",
    "                   learning_rate=0.01, \n",
    "                   subsample=0.8, \n",
    "                   colsample_bytree=0.8,\n",
    "                   objective='reg:squarederror', \n",
    "                   tree_method='gpu_hist')\n",
    "\n",
    "print(model_test('xgb (gpu)', xgb))"
   ]
  },
  {
   "cell_type": "code",
   "execution_count": 2,
   "metadata": {},
   "outputs": [
    {
     "name": "stdout",
     "output_type": "stream",
     "text": [
      "Epoch 1/5\n",
      "313/313 [==============================] - 2s 4ms/step - loss: 26587.8887 - accuracy: 0.0889\n",
      "Epoch 2/5\n",
      "313/313 [==============================] - 1s 4ms/step - loss: 209723.9062 - accuracy: 0.0981\n",
      "Epoch 3/5\n",
      "313/313 [==============================] - 1s 4ms/step - loss: 543424.8125 - accuracy: 0.0967\n",
      "Epoch 4/5\n",
      "313/313 [==============================] - 1s 4ms/step - loss: 910757.2500 - accuracy: 0.0998\n",
      "Epoch 5/5\n",
      "313/313 [==============================] - 1s 4ms/step - loss: 1613345.8750 - accuracy: 0.0996\n",
      "CPU Execution Time: 7.212333917617798 seconds\n",
      "Epoch 1/5\n",
      "313/313 [==============================] - 2s 4ms/step - loss: 18779.8359 - accuracy: 0.1073\n",
      "Epoch 2/5\n",
      "313/313 [==============================] - 1s 4ms/step - loss: 161989.8438 - accuracy: 0.1024\n",
      "Epoch 3/5\n",
      "313/313 [==============================] - 1s 4ms/step - loss: 460797.0938 - accuracy: 0.1058\n",
      "Epoch 4/5\n",
      "313/313 [==============================] - 1s 4ms/step - loss: 850358.0000 - accuracy: 0.1015\n",
      "Epoch 5/5\n",
      "313/313 [==============================] - 1s 4ms/step - loss: 1319041.0000 - accuracy: 0.1041\n",
      "GPU Execution Time: 7.000048637390137 seconds\n"
     ]
    }
   ],
   "source": [
    "import time\n",
    "import numpy as np\n",
    "import tensorflow as tf\n",
    "\n",
    "# 딥러닝 모델 정의\n",
    "def simple_model():\n",
    "    model = tf.keras.Sequential([\n",
    "        tf.keras.layers.Dense(1000, input_shape=(1000,), activation='relu'),\n",
    "        tf.keras.layers.Dense(500, activation='relu'),\n",
    "        tf.keras.layers.Dense(10, activation='softmax')\n",
    "    ])\n",
    "    model.compile(optimizer='adam', loss='categorical_crossentropy', metrics=['accuracy'])\n",
    "    return model\n",
    "\n",
    "# 데이터 생성\n",
    "data_size = 10000\n",
    "input_data = np.random.rand(data_size, 1000)\n",
    "labels = np.random.randint(2, size=(data_size, 10))\n",
    "\n",
    "# CPU에서 실행\n",
    "start_time_cpu = time.time()\n",
    "with tf.device('/CPU:0'):\n",
    "    model_cpu = simple_model()\n",
    "    model_cpu.fit(input_data, labels, epochs=5, batch_size=32)\n",
    "end_time_cpu = time.time()\n",
    "print(f\"CPU Execution Time: {end_time_cpu - start_time_cpu} seconds\")\n",
    "\n",
    "# import os\n",
    "\n",
    "# os.environ[\"CUDA_VISIBLE_DEVICES\"]=\"0\"\n",
    "# gpus = tf.config.experimental.list_physical_devices('GPU')\n",
    "# if gpus:\n",
    "#     try:\n",
    "#         tf.config.experimental.set_memory_growth(gpus[0], True)\n",
    "#     except RuntimeError as e:\n",
    "#         print(e)\n",
    "        \n",
    "# # GPU에서 실행\n",
    "start_time_gpu = time.time()\n",
    "with tf.device('/GPU:0'):\n",
    "    model_gpu = simple_model()\n",
    "    model_gpu.fit(input_data, labels, epochs=5, batch_size=32)\n",
    "end_time_gpu = time.time()\n",
    "print(f\"GPU Execution Time: {end_time_gpu - start_time_gpu} seconds\")"
   ]
  },
  {
   "cell_type": "markdown",
   "metadata": {},
   "source": [
    "# Dataset"
   ]
  },
  {
   "cell_type": "code",
   "execution_count": 11,
   "metadata": {},
   "outputs": [],
   "source": [
    "import os\n",
    "from torch.utils.data import Dataset\n",
    "from torchvision.io import read_video\n",
    "import numpy as np\n",
    "from torchvision.transforms import ToTensor\n",
    "\n",
    "# 커스텀 전처리 함수 정의\n",
    "def custom_transform(frame):\n",
    "    if isinstance(frame, torch.Tensor):  # 이미 텐서인 경우 스킵\n",
    "        return frame\n",
    "    return ToTensor()(frame)\n",
    "\n",
    "# UCF101Dataset 클래스 수정\n",
    "class UCF101Dataset(Dataset):\n",
    "    def __init__(self, data_dir, transform=None):\n",
    "        self.data_dir = data_dir\n",
    "        self.video_list = []  # 비디오 파일 목록\n",
    "        self.labels = []  # 레이블 목록\n",
    "        self.transform = transform\n",
    "\n",
    "        # 데이터 디렉토리에서 레이블 및 비디오 파일 수집\n",
    "        for label, class_folder in enumerate(os.listdir(data_dir)):\n",
    "            class_dir = os.path.join(data_dir, class_folder)\n",
    "            if os.path.isdir(class_dir):\n",
    "                for video_file in os.listdir(class_dir):\n",
    "                    if video_file.endswith('.avi'):\n",
    "                        self.video_list.append(os.path.join(class_dir, video_file))\n",
    "                        self.labels.append(label)\n",
    "\n",
    "    def __len__(self):\n",
    "        return len(self.video_list)\n",
    "\n",
    "    def __getitem__(self, idx):\n",
    "        video_path = self.video_list[idx]\n",
    "        label = self.labels[idx]\n",
    "\n",
    "        # 비디오 파일을 읽고 모든 프레임을 추출\n",
    "        video_frames, _, _ =  read_video(video_path, pts_unit='sec')\n",
    "        video_frames = video_frames.permute(0, 3, 1, 2)\n",
    "        if self.transform:\n",
    "            video_frames = [self.transform(frame) for frame in video_frames]\n",
    "        video_tensor = torch.stack(video_frames)\n",
    "\n",
    "\n",
    "        return video_tensor, video_path, label"
   ]
  },
  {
   "cell_type": "markdown",
   "metadata": {},
   "source": [
    "# GluonCV 모델 사용하기"
   ]
  },
  {
   "cell_type": "code",
   "execution_count": 4,
   "metadata": {},
   "outputs": [
    {
     "ename": "ModuleNotFoundError",
     "evalue": "No module named 'gluoncv'",
     "output_type": "error",
     "traceback": [
      "\u001b[0;31m---------------------------------------------------------------------------\u001b[0m",
      "\u001b[0;31mModuleNotFoundError\u001b[0m                       Traceback (most recent call last)",
      "Cell \u001b[0;32mIn[4], line 4\u001b[0m\n\u001b[1;32m      2\u001b[0m \u001b[38;5;28;01mimport\u001b[39;00m \u001b[38;5;21;01mos\u001b[39;00m\n\u001b[1;32m      3\u001b[0m \u001b[38;5;28;01mimport\u001b[39;00m \u001b[38;5;21;01mtorch\u001b[39;00m\n\u001b[0;32m----> 4\u001b[0m \u001b[38;5;28;01mimport\u001b[39;00m \u001b[38;5;21;01mgluoncv\u001b[39;00m\n\u001b[1;32m      5\u001b[0m \u001b[38;5;28;01mimport\u001b[39;00m \u001b[38;5;21;01mtorchvision\u001b[39;00m\u001b[38;5;21;01m.\u001b[39;00m\u001b[38;5;21;01mtransforms\u001b[39;00m \u001b[38;5;28;01mas\u001b[39;00m \u001b[38;5;21;01mtransforms\u001b[39;00m\n\u001b[1;32m      6\u001b[0m \u001b[38;5;28;01mfrom\u001b[39;00m \u001b[38;5;21;01mtorch\u001b[39;00m\u001b[38;5;21;01m.\u001b[39;00m\u001b[38;5;21;01mutils\u001b[39;00m\u001b[38;5;21;01m.\u001b[39;00m\u001b[38;5;21;01mdata\u001b[39;00m \u001b[38;5;28;01mimport\u001b[39;00m DataLoader\n",
      "\u001b[0;31mModuleNotFoundError\u001b[0m: No module named 'gluoncv'"
     ]
    }
   ],
   "source": [
    "import gc\n",
    "import os\n",
    "import torch\n",
    "import gluoncv\n",
    "import torchvision.transforms as transforms\n",
    "from torch.utils.data import DataLoader\n",
    "from torchvision.io import read_video\n",
    "from torchvision.transforms import ToTensor\n",
    "from gluoncv.model_zoo import get_model\n",
    "\n",
    "def transform_input(input_tensor):\n",
    "\n",
    "    # 입력 텐서의 shape를 가져옵니다.\n",
    "    _, clip_length, height, width, num_channels = input_tensor.shape\n",
    "    \n",
    "    # 배치 차원과 깊이 차원을 추가합니다.\n",
    "    transformed_ndarray = input_tensor.reshape((1, num_channels, clip_length, height, width))\n",
    "    \n",
    "    return transformed_ndarray\n",
    "\n",
    "# 전처리 파이프라인 정의\n",
    "transform = transforms.Compose([\n",
    "    transforms.ToPILImage(),\n",
    "    transforms.Resize((224, 224)),  # 모델의 입력 크기에 따라 조정\n",
    "    transforms.ToTensor(),\n",
    "    transforms.Normalize(mean=[0.485, 0.456, 0.406], std=[0.229, 0.224, 0.225])  # ImageNet 통계를 기반으로 정규화\n",
    "])\n",
    "\n",
    "\n",
    "# 전처리 설정\n",
    "transform_post = video.VideoNormalize([0.485, 0.456, 0.406], [0.229, 0.224, 0.225])\n",
    "\n",
    "# UCF101 데이터셋 로드\n",
    "data_dir = '~/jupyter_notebook/UCF101/UCF-101'\n",
    "ucf101_dataset = UCF101Dataset(data_dir, transform=transform)\n",
    "\n",
    "# DataLoader 설정\n",
    "batch_size = 1\n",
    "data_loader = DataLoader(ucf101_dataset, batch_size=batch_size, shuffle=True)\n",
    "\n",
    "# 메모리 정리\n",
    "gc.collect()\n",
    "\n",
    "# 모델 로딩\n",
    "model = get_model(name='i3d_resnet50_v1_ucf101',\n",
    "                  nclass=101,\n",
    "                  pretrained=True,\n",
    "                  num_segments=2)\n",
    "\n",
    "\n",
    "# 모델 디바이스 설정\n",
    "device = torch.device('cuda' if torch.cuda.is_available() else 'cpu')\n",
    "\n",
    "# 예측 수행\n",
    "model.cast('float32')\n",
    "model.hybridize(static_alloc=True, static_shape=True)\n",
    "count = 0\n",
    "with torch.no_grad():\n",
    "    for video_frames, video_path, label in data_loader:\n",
    "        if video_frames is None:\n",
    "            continue\n",
    "        count += 1\n",
    "        if count == 3:\n",
    "            break\n",
    "            \n",
    "        output_video_path = \"./resized_video.mp4\"  # 출력 비디오 파일 경로\n",
    "        target_size = (256, 256)  # 목표 크기\n",
    "        print(video_path[0])\n",
    "        \n",
    "#         video_frames=tf.constant(video_frames.numpy())\n",
    "#         video_frames = tf.transpose(video_frames, perm=[0, 1, 3, 4, 2])  # 차원 순서 변경\n",
    "#         print(video_frames.shape)\n",
    "#         predictions = loaded_model.predict(video_frames)\n",
    "#         predicted_class_index = np.argmax(predictions)\n",
    "#         print(predicted_class_index, label)\n",
    "        \n",
    "        convert_resize_video(video_path[0], output_video_path, )\n",
    "        torch.cuda.empty_cache()\n",
    "        save_path = 'saved_images'  # 저장 경로 \n",
    "        video_frames = video_frames.squeeze(0)  # 배치 차원 제거\n",
    "#         video_path = video_path[0]\n",
    "        _perturbation_image(model, video_frames, label, output_video_path, save_path, transform_post, None, None, device)"
   ]
  },
  {
   "cell_type": "code",
   "execution_count": 18,
   "metadata": {},
   "outputs": [],
   "source": [
    "!pip install -q git+https://github.com/tensorflow/docs"
   ]
  },
  {
   "cell_type": "code",
   "execution_count": 12,
   "metadata": {},
   "outputs": [],
   "source": [
    "import tqdm\n",
    "import random\n",
    "import pathlib\n",
    "import itertools\n",
    "import collections\n",
    "import os\n",
    "import cv2\n",
    "import numpy as np\n",
    "import remotezip as rz\n",
    "import tensorflow as tf\n",
    "import imageio\n",
    "from IPython import display\n",
    "from urllib import request\n",
    "from tensorflow_docs.vis import embed\n",
    "os.environ['TF_CPP_MIN_LOG_LEVEL'] = '2'\n",
    "\n",
    "def list_files_from_zip_url(zip_url):\n",
    "  files = []\n",
    "  with rz.RemoteZip(zip_url) as zip:\n",
    "    for zip_info in zip.infolist():\n",
    "      files.append(zip_info.filename)\n",
    "  return files\n",
    "\n",
    "#파일 이름에서 클래스 이름을 검색하는 get_class 함수\n",
    "def get_class(fname):\n",
    "  return fname.split('_')[-3]\n",
    "\n",
    "\n",
    "#모든 파일(위의 files) 목록을 각 클래스에 대한 파일을 나열하는 사전으로 변환하는 get_files_per_class 함수\n",
    "def get_files_per_class(files):\n",
    "  files_for_class = collections.defaultdict(list)\n",
    "  for fname in files:\n",
    "    class_name = get_class(fname)\n",
    "    files_for_class[class_name].append(fname)\n",
    "  return files_for_class\n",
    "\n",
    "# 비디오를 훈련, 검증 및 테스트 세트로 분할하는 헬퍼 함수\n",
    "# 비디오는 zip 파일로 URL에서 다운로드되어 각각의 하위 디렉터리에 배치됨\n",
    "def download_from_zip(zip_url, to_dir, file_names):\n",
    "  with rz.RemoteZip(zip_url) as zip:\n",
    "    for fn in tqdm.tqdm(file_names):\n",
    "      class_name = get_class(fn)\n",
    "      zip.extract(fn, str(to_dir / class_name))\n",
    "      unzipped_file = to_dir / class_name / fn\n",
    "\n",
    "      fn = pathlib.Path(fn).parts[-1]\n",
    "      output_file = to_dir / class_name / fn\n",
    "      unzipped_file.rename(output_file)\n",
    "\n",
    "# 데이터의 하위 집합에 아직 배정되지 않은 나머지 데이터를 리턴하는 함수\n",
    "def split_class_lists(files_for_class, count):\n",
    "  split_files = []\n",
    "  remainder = {}\n",
    "  for cls in files_for_class:\n",
    "    split_files.extend(files_for_class[cls][:count])\n",
    "    remainder[cls] = files_for_class[cls][count:]\n",
    "  return split_files, remainder\n",
    "\n",
    "# UCF101 데이터세트의 하위 집합을 다운로드하고 훈련, 검증 및 테스트 세트로 분할하는 함수\n",
    "# The splits argument allows you to pass in a dictionary in which the key values are the name of subset (example: \"train\") and the number of videos you would like to have per class.\n",
    "\n",
    "def download_ufc_101_subset(zip_url, num_classes, splits, download_dir):\n",
    "  files = list_files_from_zip_url(zip_url)\n",
    "  for f in files:\n",
    "    path = os.path.normpath(f)\n",
    "    tokens = path.split(os.sep)\n",
    "    if len(tokens) <= 2:\n",
    "      files.remove(f) # Remove that item from the list if it does not have a filename\n",
    "\n",
    "  files_for_class = get_files_per_class(files)\n",
    "\n",
    "  classes = list(files_for_class.keys())[:num_classes]\n",
    "\n",
    "  for cls in classes:\n",
    "    random.shuffle(files_for_class[cls])\n",
    "\n",
    "  # Only use the number of classes you want in the dictionary\n",
    "  files_for_class = {x: files_for_class[x] for x in classes}\n",
    "\n",
    "  dirs = {}\n",
    "    \n",
    "  for split_name, split_count in splits.items():\n",
    "    print(split_name, \":\")\n",
    "    split_dir = download_dir / split_name\n",
    "    split_files, files_for_class = split_class_lists(files_for_class, split_count)\n",
    "    download_from_zip(zip_url, split_dir, split_files)\n",
    "    dirs[split_name] = split_dir\n",
    "\n",
    "  return dirs"
   ]
  },
  {
   "cell_type": "code",
   "execution_count": null,
   "metadata": {},
   "outputs": [],
   "source": [
    "NUM_CLASSES = 101\n",
    "FILES_PER_CLASS = 30\n",
    "URL = 'https://storage.googleapis.com/thumos14_files/UCF101_videos.zip'\n",
    "download_dir = pathlib.Path('/data_1/seclab_nahyun/UCF101_subset/')\n",
    "subset_paths = download_ufc_101_subset(URL,\n",
    "                                       num_classes = NUM_CLASSES,\n",
    "                                       splits = {\"train\": 30, \"val\": 10, \"test\": 10},\n",
    "                                       download_dir = download_dir)"
   ]
  },
  {
   "cell_type": "code",
   "execution_count": 3,
   "metadata": {},
   "outputs": [
    {
     "name": "stdout",
     "output_type": "stream",
     "text": [
      "{'train': PosixPath('/home/ace_nahyun/workspace/UCF101_subset/train'), 'val': PosixPath('/home/ace_nahyun/workspace/UCF101_subset/val'), 'test': PosixPath('/home/ace_nahyun/workspace/UCF101_subset/test')}\n",
      "Total videos: 5050\n"
     ]
    }
   ],
   "source": [
    "import pathlib\n",
    "download_dir = pathlib.Path('/home/ace_nahyun/workspace/UCF101_subset/')\n",
    "subset_paths = {'train': pathlib.Path('/home/ace_nahyun/workspace/UCF101_subset/train'), 'val': pathlib.Path('/home/ace_nahyun/workspace/UCF101_subset/val'), 'test': pathlib.Path('/home/ace_nahyun/workspace/UCF101_subset/test')}\n",
    "print(subset_paths)\n",
    "\n",
    "# 데이터 다운로드 완료! 이제 UCF101 데이터세트의 하위 집합 복사을 만들자!\n",
    "# 다음 코드를 실행하여 모든 데이터 하위 집합 사이에 가지고 있는 총 비디오 수를 프린트\n",
    "\n",
    "video_count_train = len(list(download_dir.glob('train/*/*.avi')))\n",
    "video_count_val = len(list(download_dir.glob('val/*/*.avi')))\n",
    "video_count_test = len(list(download_dir.glob('test/*/*.avi')))\n",
    "video_total = video_count_train + video_count_val + video_count_test\n",
    "print(f\"Total videos: {video_total}\")"
   ]
  },
  {
   "cell_type": "code",
   "execution_count": 4,
   "metadata": {},
   "outputs": [],
   "source": [
    "# #12 frame 간격으로 프레임 저장\n",
    "# def format_frames(frame, output_size):\n",
    "#     frame = tf.image.convert_image_dtype(frame, tf.float32)\n",
    "#     frame = tf.image.resize_with_pad(frame, *output_size)\n",
    "#     return frame\n",
    "\n",
    "# # 이전에 정의한 format_frames 함수와 FrameGenerator 클래스를 그대로 사용합니다.\n",
    "# def frames_from_video_file(video_path, output_size=(256, 256)):\n",
    "#     \"\"\"\n",
    "#     동영상 파일에서 모든 프레임을 생성합니다.\n",
    "\n",
    "#     Args:\n",
    "#         video_path: 동영상 파일 경로.\n",
    "#         output_size: 프레임 이미지의 크기.\n",
    "\n",
    "#     Returns:\n",
    "#         모든 프레임으로 이루어진 NumPy 배열과 video_path.\n",
    "#     \"\"\"\n",
    "#     result = []\n",
    "#     src = cv2.VideoCapture(str(video_path))\n",
    "\n",
    "#     while True:\n",
    "#         ret, frame = src.read()\n",
    "\n",
    "#         if not ret:\n",
    "#             break\n",
    "#         frame = format_frames(frame, output_size)\n",
    "#         result.append(frame)\n",
    "\n",
    "#     src.release()\n",
    "#     result = np.array(result)[..., [2, 1, 0]]\n",
    "# #     print(result)\n",
    "\n",
    "#     return result\n",
    "\n",
    "# class FrameGenerator:\n",
    "#   def __init__(self, path):\n",
    "#     \"\"\" Returns a set of frames with their associated label. \n",
    "\n",
    "#       Args:\n",
    "#         path: Video file paths.\n",
    "#         classes: List of labels for classification.\n",
    "#     \"\"\"\n",
    "#     self.path = path\n",
    "#     self.class_names = sorted(set(p.name for p in self.path.iterdir() if p.is_dir()))\n",
    "#     self.class_ids_for_name = dict((name, idx) for idx, name in enumerate(self.class_names))\n",
    "\n",
    "#   def get_files_and_class_names(self):\n",
    "#     video_paths = list(self.path.glob('*/*.avi'))\n",
    "#     classes = [p.parent.name for p in video_paths] \n",
    "#     return video_paths, classes\n",
    "\n",
    "#   def __call__(self):\n",
    "#     video_paths, classes = self.get_files_and_class_names()\n",
    "\n",
    "#     pairs = list(zip(video_paths, classes))\n",
    "\n",
    "#     random.shuffle(pairs)\n",
    "\n",
    "#     for path, name in pairs:\n",
    "#       video_frames = frames_from_video_file(path) \n",
    "#       label = self.class_ids_for_name[name] # Encode labels\n",
    "#       yield video_frames, label\n",
    "def format_frames(frame, output_size):\n",
    "  \"\"\"\n",
    "    Pad and resize an image from a video.\n",
    "\n",
    "    Args:\n",
    "      frame: Image that needs to resized and padded. \n",
    "      output_size: Pixel size of the output frame image.\n",
    "\n",
    "    Return:\n",
    "      Formatted frame with padding of specified output size.\n",
    "  \"\"\"\n",
    "  frame = tf.image.convert_image_dtype(frame, tf.float32)\n",
    "  frame = tf.image.resize_with_pad(frame, *output_size)\n",
    "  return frame\n",
    "\n",
    "def frames_from_video_file(video_path, n_frames, output_size = (224,224), frame_step = 5):\n",
    "  # Read each video frame by frame\n",
    "  result = []\n",
    "  src = cv2.VideoCapture(str(video_path))  \n",
    "\n",
    "  video_length = src.get(cv2.CAP_PROP_FRAME_COUNT)\n",
    "\n",
    "  need_length = 1 + (n_frames - 1) * frame_step\n",
    "\n",
    "  if need_length > video_length:\n",
    "    start = 0\n",
    "  else:\n",
    "    max_start = video_length - need_length\n",
    "    start = random.randint(0, max_start + 1)\n",
    "\n",
    "  src.set(cv2.CAP_PROP_POS_FRAMES, start)\n",
    "  # ret is a boolean indicating whether read was successful, frame is the image itself\n",
    "  ret, frame = src.read()\n",
    "  result.append(format_frames(frame, output_size))\n",
    "\n",
    "  for _ in range(n_frames - 1):\n",
    "    for _ in range(frame_step):\n",
    "      ret, frame = src.read()\n",
    "    if ret:\n",
    "      frame = format_frames(frame, output_size)\n",
    "      result.append(frame)\n",
    "    else:\n",
    "      result.append(np.zeros_like(result[0]))\n",
    "  src.release()\n",
    "  result = np.array(result)[..., [2, 1, 0]]\n",
    "\n",
    "  return result\n",
    "class FrameGenerator:\n",
    "  def __init__(self, path, n_frames):\n",
    "    \"\"\" Returns a set of frames with their associated label. \n",
    "\n",
    "      Args:\n",
    "        path: Video file paths.\n",
    "        classes: List of labels for classification.\n",
    "    \"\"\"\n",
    "    self.path = path\n",
    "    self.n_frames = n_frames\n",
    "    self.class_names = sorted(set(p.name for p in self.path.iterdir() if p.is_dir()))\n",
    "    self.class_ids_for_name = dict((name, idx) for idx, name in enumerate(self.class_names))\n",
    "\n",
    "  def get_files_and_class_names(self):\n",
    "    video_paths = list(self.path.glob('*/*.avi'))\n",
    "    classes = [p.parent.name for p in video_paths] \n",
    "    return video_paths, classes\n",
    "\n",
    "  def __call__(self):\n",
    "    video_paths, classes = self.get_files_and_class_names()\n",
    "\n",
    "    pairs = list(zip(video_paths, classes))\n",
    "\n",
    "    random.shuffle(pairs)\n",
    "\n",
    "    for path, name in pairs:\n",
    "      video_frames = frames_from_video_file(path, self.n_frames) \n",
    "      label = self.class_ids_for_name[name] # Encode labels\n",
    "      yield video_frames, label"
   ]
  },
  {
   "cell_type": "markdown",
   "metadata": {},
   "source": [
    "# 모델 학습 / 가중치 저장하고 불러오기"
   ]
  },
  {
   "cell_type": "code",
   "execution_count": 5,
   "metadata": {},
   "outputs": [
    {
     "name": "stdout",
     "output_type": "stream",
     "text": [
      "2.9.0\n"
     ]
    },
    {
     "name": "stderr",
     "output_type": "stream",
     "text": [
      "2024-01-02 18:12:05.680329: W tensorflow/stream_executor/platform/default/dso_loader.cc:64] Could not load dynamic library 'libcudart.so.11.0'; dlerror: libcudart.so.11.0: cannot open shared object file: No such file or directory; LD_LIBRARY_PATH: /home/anaconda3/envs/ace_nahyun/lib/python3.9/site-packages/cv2/../../lib64::/usr/local/cuda-12.0/lib64\n",
      "2024-01-02 18:12:05.680481: W tensorflow/stream_executor/platform/default/dso_loader.cc:64] Could not load dynamic library 'libcublas.so.11'; dlerror: libcublas.so.11: cannot open shared object file: No such file or directory; LD_LIBRARY_PATH: /home/anaconda3/envs/ace_nahyun/lib/python3.9/site-packages/cv2/../../lib64::/usr/local/cuda-12.0/lib64\n",
      "2024-01-02 18:12:05.680601: W tensorflow/stream_executor/platform/default/dso_loader.cc:64] Could not load dynamic library 'libcublasLt.so.11'; dlerror: libcublasLt.so.11: cannot open shared object file: No such file or directory; LD_LIBRARY_PATH: /home/anaconda3/envs/ace_nahyun/lib/python3.9/site-packages/cv2/../../lib64::/usr/local/cuda-12.0/lib64\n",
      "2024-01-02 18:12:05.680718: W tensorflow/stream_executor/platform/default/dso_loader.cc:64] Could not load dynamic library 'libcufft.so.10'; dlerror: libcufft.so.10: cannot open shared object file: No such file or directory; LD_LIBRARY_PATH: /home/anaconda3/envs/ace_nahyun/lib/python3.9/site-packages/cv2/../../lib64::/usr/local/cuda-12.0/lib64\n",
      "2024-01-02 18:12:05.714594: W tensorflow/stream_executor/platform/default/dso_loader.cc:64] Could not load dynamic library 'libcusparse.so.11'; dlerror: libcusparse.so.11: cannot open shared object file: No such file or directory; LD_LIBRARY_PATH: /home/anaconda3/envs/ace_nahyun/lib/python3.9/site-packages/cv2/../../lib64::/usr/local/cuda-12.0/lib64\n",
      "2024-01-02 18:12:05.714771: W tensorflow/core/common_runtime/gpu/gpu_device.cc:1850] Cannot dlopen some GPU libraries. Please make sure the missing libraries mentioned above are installed properly if you would like to use GPU. Follow the guide at https://www.tensorflow.org/install/gpu for how to download and setup the required libraries for your platform.\n",
      "Skipping registering GPU devices...\n",
      "2024-01-02 18:12:05.715192: I tensorflow/core/platform/cpu_feature_guard.cc:193] This TensorFlow binary is optimized with oneAPI Deep Neural Network Library (oneDNN) to use the following CPU instructions in performance-critical operations:  AVX2 AVX512F AVX512_VNNI FMA\n",
      "To enable them in other operations, rebuild TensorFlow with the appropriate compiler flags.\n"
     ]
    }
   ],
   "source": [
    "# Create the training set\n",
    "print(tf.__version__)\n",
    "output_signature = (tf.TensorSpec(shape = (None, None, None, 3), dtype = tf.float32),\n",
    "                    tf.TensorSpec(shape = (), dtype = tf.int16))\n",
    "\n",
    "train_ds = tf.data.Dataset.from_generator(FrameGenerator(subset_paths['train'], 10),\n",
    "                                          output_signature = output_signature)\n",
    "# Create the validation set\n",
    "val_ds = tf.data.Dataset.from_generator(FrameGenerator(subset_paths['val'], 10),\n",
    "                                        output_signature = output_signature)\n",
    "# # Create the test set\n",
    "# test_ds = tf.data.Dataset.from_generator(FrameGenerator(subset_paths['test'], 50), output_signature=output_signature)"
   ]
  },
  {
   "cell_type": "code",
   "execution_count": 6,
   "metadata": {},
   "outputs": [],
   "source": [
    "AUTOTUNE = tf.data.AUTOTUNE\n",
    "\n",
    "train_ds = train_ds.cache().prefetch(buffer_size = AUTOTUNE)\n",
    "val_ds = val_ds.cache().prefetch(buffer_size = AUTOTUNE)\n",
    "# test_ds = test_ds.cache().shuffle(1000).prefetch(buffer_size = AUTOTUNE)"
   ]
  },
  {
   "cell_type": "code",
   "execution_count": 7,
   "metadata": {},
   "outputs": [
    {
     "name": "stdout",
     "output_type": "stream",
     "text": [
      "asdf\n"
     ]
    },
    {
     "name": "stderr",
     "output_type": "stream",
     "text": [
      "2024-01-02 18:12:08.173742: W tensorflow/core/kernels/data/cache_dataset_ops.cc:856] The calling iterator did not fully read the dataset being cached. In order to avoid unexpected truncation of the dataset, the partially cached contents of the dataset  will be discarded. This can happen if you have an input pipeline similar to `dataset.cache().take(k).repeat()`. You should use `dataset.take(k).cache().repeat()` instead.\n"
     ]
    },
    {
     "name": "stdout",
     "output_type": "stream",
     "text": [
      "Shape of training set of frames: (2, 10, 224, 224, 3)\n",
      "Shape of training labels: (2,)\n",
      "Shape of validation set of frames: (2, 10, 224, 224, 3)\n",
      "Shape of validation labels: (2,)\n"
     ]
    },
    {
     "name": "stderr",
     "output_type": "stream",
     "text": [
      "2024-01-02 18:12:08.422281: W tensorflow/core/kernels/data/cache_dataset_ops.cc:856] The calling iterator did not fully read the dataset being cached. In order to avoid unexpected truncation of the dataset, the partially cached contents of the dataset  will be discarded. This can happen if you have an input pipeline similar to `dataset.cache().take(k).repeat()`. You should use `dataset.take(k).cache().repeat()` instead.\n"
     ]
    }
   ],
   "source": [
    "train_ds = train_ds.batch(2)\n",
    "val_ds = val_ds.batch(2)\n",
    "# test_ds = test_ds.batch(1)\n",
    "print('asdf')\n",
    "train_frames, train_labels = next(iter(train_ds))\n",
    "print(f'Shape of training set of frames: {train_frames.shape}')\n",
    "print(f'Shape of training labels: {train_labels.shape}')\n",
    "\n",
    "val_frames, val_labels = next(iter(val_ds))\n",
    "print(f'Shape of validation set of frames: {val_frames.shape}')\n",
    "print(f'Shape of validation labels: {val_labels.shape}')\n",
    "\n",
    "# test_frames, test_labels = next(iter(test_ds))\n",
    "# print(f'Shape of validation set of frames: {test_frames.shape}')\n",
    "# print(f'Shape of validation labels: {test_labels.shape}')"
   ]
  },
  {
   "cell_type": "code",
   "execution_count": 8,
   "metadata": {},
   "outputs": [
    {
     "name": "stdout",
     "output_type": "stream",
     "text": [
      "Epoch 1/10\n"
     ]
    },
    {
     "ename": "NotImplementedError",
     "evalue": "in user code:\n\n    File \"/home/anaconda3/envs/ace_nahyun/lib/python3.9/site-packages/keras/engine/training.py\", line 1051, in train_function  *\n        return step_function(self, iterator)\n    File \"/home/anaconda3/envs/ace_nahyun/lib/python3.9/site-packages/keras/engine/training.py\", line 1040, in step_function  **\n        outputs = model.distribute_strategy.run(run_step, args=(data,))\n    File \"/home/anaconda3/envs/ace_nahyun/lib/python3.9/site-packages/keras/engine/training.py\", line 1030, in run_step  **\n        outputs = model.train_step(data)\n    File \"/home/anaconda3/envs/ace_nahyun/lib/python3.9/site-packages/keras/engine/training.py\", line 889, in train_step\n        y_pred = self(x, training=True)\n    File \"/home/anaconda3/envs/ace_nahyun/lib/python3.9/site-packages/keras/utils/traceback_utils.py\", line 67, in error_handler\n        raise e.with_traceback(filtered_tb) from None\n    File \"/home/anaconda3/envs/ace_nahyun/lib/python3.9/site-packages/keras/engine/base_layer.py\", line 827, in compute_output_shape\n        raise NotImplementedError(\n\n    NotImplementedError: Exception encountered when calling layer \"time_distributed\" (type TimeDistributed).\n    \n    Please run in eager mode or implement the `compute_output_shape` method on your layer (TFOpLambda).\n    \n    Call arguments received by layer \"time_distributed\" (type TimeDistributed):\n      • inputs=tf.Tensor(shape=(None, None, None, None, 3), dtype=float32)\n      • training=True\n      • mask=None\n",
     "output_type": "error",
     "traceback": [
      "\u001b[0;31m---------------------------------------------------------------------------\u001b[0m",
      "\u001b[0;31mNotImplementedError\u001b[0m                       Traceback (most recent call last)",
      "Cell \u001b[0;32mIn[8], line 16\u001b[0m\n\u001b[1;32m     11\u001b[0m model\u001b[38;5;241m.\u001b[39mcompile(optimizer \u001b[38;5;241m=\u001b[39m \u001b[38;5;124m'\u001b[39m\u001b[38;5;124madam\u001b[39m\u001b[38;5;124m'\u001b[39m,\n\u001b[1;32m     12\u001b[0m               loss\u001b[38;5;241m=\u001b[39mtf\u001b[38;5;241m.\u001b[39mkeras\u001b[38;5;241m.\u001b[39mlosses\u001b[38;5;241m.\u001b[39mSparseCategoricalCrossentropy(from_logits \u001b[38;5;241m=\u001b[39m \u001b[38;5;28;01mTrue\u001b[39;00m),\n\u001b[1;32m     13\u001b[0m               metrics\u001b[38;5;241m=\u001b[39m[\u001b[38;5;124m'\u001b[39m\u001b[38;5;124maccuracy\u001b[39m\u001b[38;5;124m'\u001b[39m])\n\u001b[1;32m     15\u001b[0m \u001b[38;5;28;01mwith\u001b[39;00m tf\u001b[38;5;241m.\u001b[39mdevice(\u001b[38;5;124m\"\u001b[39m\u001b[38;5;124m/GPU:3\u001b[39m\u001b[38;5;124m\"\u001b[39m):\n\u001b[0;32m---> 16\u001b[0m     \u001b[43mmodel\u001b[49m\u001b[38;5;241;43m.\u001b[39;49m\u001b[43mfit\u001b[49m\u001b[43m(\u001b[49m\u001b[43mtrain_ds\u001b[49m\u001b[43m,\u001b[49m\u001b[43m \u001b[49m\n\u001b[1;32m     17\u001b[0m \u001b[43m              \u001b[49m\u001b[43mepochs\u001b[49m\u001b[43m \u001b[49m\u001b[38;5;241;43m=\u001b[39;49m\u001b[43m \u001b[49m\u001b[38;5;241;43m10\u001b[39;49m\u001b[43m,\u001b[49m\n\u001b[1;32m     18\u001b[0m \u001b[43m              \u001b[49m\u001b[43mvalidation_data\u001b[49m\u001b[43m \u001b[49m\u001b[38;5;241;43m=\u001b[39;49m\u001b[43m \u001b[49m\u001b[43mval_ds\u001b[49m\u001b[43m,\u001b[49m\n\u001b[1;32m     19\u001b[0m \u001b[43m              \u001b[49m\u001b[43mcallbacks\u001b[49m\u001b[43m \u001b[49m\u001b[38;5;241;43m=\u001b[39;49m\u001b[43m \u001b[49m\u001b[43mtf\u001b[49m\u001b[38;5;241;43m.\u001b[39;49m\u001b[43mkeras\u001b[49m\u001b[38;5;241;43m.\u001b[39;49m\u001b[43mcallbacks\u001b[49m\u001b[38;5;241;43m.\u001b[39;49m\u001b[43mEarlyStopping\u001b[49m\u001b[43m(\u001b[49m\u001b[43mpatience\u001b[49m\u001b[43m \u001b[49m\u001b[38;5;241;43m=\u001b[39;49m\u001b[43m \u001b[49m\u001b[38;5;241;43m2\u001b[39;49m\u001b[43m,\u001b[49m\u001b[43m \u001b[49m\u001b[43mmonitor\u001b[49m\u001b[43m \u001b[49m\u001b[38;5;241;43m=\u001b[39;49m\u001b[43m \u001b[49m\u001b[38;5;124;43m'\u001b[39;49m\u001b[38;5;124;43mval_loss\u001b[39;49m\u001b[38;5;124;43m'\u001b[39;49m\u001b[43m)\u001b[49m\u001b[43m)\u001b[49m\n",
      "File \u001b[0;32m/home/anaconda3/envs/ace_nahyun/lib/python3.9/site-packages/keras/utils/traceback_utils.py:67\u001b[0m, in \u001b[0;36mfilter_traceback.<locals>.error_handler\u001b[0;34m(*args, **kwargs)\u001b[0m\n\u001b[1;32m     65\u001b[0m \u001b[38;5;28;01mexcept\u001b[39;00m \u001b[38;5;167;01mException\u001b[39;00m \u001b[38;5;28;01mas\u001b[39;00m e:  \u001b[38;5;66;03m# pylint: disable=broad-except\u001b[39;00m\n\u001b[1;32m     66\u001b[0m   filtered_tb \u001b[38;5;241m=\u001b[39m _process_traceback_frames(e\u001b[38;5;241m.\u001b[39m__traceback__)\n\u001b[0;32m---> 67\u001b[0m   \u001b[38;5;28;01mraise\u001b[39;00m e\u001b[38;5;241m.\u001b[39mwith_traceback(filtered_tb) \u001b[38;5;28;01mfrom\u001b[39;00m \u001b[38;5;28;01mNone\u001b[39;00m\n\u001b[1;32m     68\u001b[0m \u001b[38;5;28;01mfinally\u001b[39;00m:\n\u001b[1;32m     69\u001b[0m   \u001b[38;5;28;01mdel\u001b[39;00m filtered_tb\n",
      "File \u001b[0;32m/tmp/__autograph_generated_filekj21v29m.py:15\u001b[0m, in \u001b[0;36mouter_factory.<locals>.inner_factory.<locals>.tf__train_function\u001b[0;34m(iterator)\u001b[0m\n\u001b[1;32m     13\u001b[0m \u001b[38;5;28;01mtry\u001b[39;00m:\n\u001b[1;32m     14\u001b[0m     do_return \u001b[38;5;241m=\u001b[39m \u001b[38;5;28;01mTrue\u001b[39;00m\n\u001b[0;32m---> 15\u001b[0m     retval_ \u001b[38;5;241m=\u001b[39m ag__\u001b[38;5;241m.\u001b[39mconverted_call(ag__\u001b[38;5;241m.\u001b[39mld(step_function), (ag__\u001b[38;5;241m.\u001b[39mld(\u001b[38;5;28mself\u001b[39m), ag__\u001b[38;5;241m.\u001b[39mld(iterator)), \u001b[38;5;28;01mNone\u001b[39;00m, fscope)\n\u001b[1;32m     16\u001b[0m \u001b[38;5;28;01mexcept\u001b[39;00m:\n\u001b[1;32m     17\u001b[0m     do_return \u001b[38;5;241m=\u001b[39m \u001b[38;5;28;01mFalse\u001b[39;00m\n",
      "\u001b[0;31mNotImplementedError\u001b[0m: in user code:\n\n    File \"/home/anaconda3/envs/ace_nahyun/lib/python3.9/site-packages/keras/engine/training.py\", line 1051, in train_function  *\n        return step_function(self, iterator)\n    File \"/home/anaconda3/envs/ace_nahyun/lib/python3.9/site-packages/keras/engine/training.py\", line 1040, in step_function  **\n        outputs = model.distribute_strategy.run(run_step, args=(data,))\n    File \"/home/anaconda3/envs/ace_nahyun/lib/python3.9/site-packages/keras/engine/training.py\", line 1030, in run_step  **\n        outputs = model.train_step(data)\n    File \"/home/anaconda3/envs/ace_nahyun/lib/python3.9/site-packages/keras/engine/training.py\", line 889, in train_step\n        y_pred = self(x, training=True)\n    File \"/home/anaconda3/envs/ace_nahyun/lib/python3.9/site-packages/keras/utils/traceback_utils.py\", line 67, in error_handler\n        raise e.with_traceback(filtered_tb) from None\n    File \"/home/anaconda3/envs/ace_nahyun/lib/python3.9/site-packages/keras/engine/base_layer.py\", line 827, in compute_output_shape\n        raise NotImplementedError(\n\n    NotImplementedError: Exception encountered when calling layer \"time_distributed\" (type TimeDistributed).\n    \n    Please run in eager mode or implement the `compute_output_shape` method on your layer (TFOpLambda).\n    \n    Call arguments received by layer \"time_distributed\" (type TimeDistributed):\n      • inputs=tf.Tensor(shape=(None, None, None, None, 3), dtype=float32)\n      • training=True\n      • mask=None\n"
     ]
    }
   ],
   "source": [
    "net = tf.keras.applications.EfficientNetB0(include_top = False)\n",
    "net.trainable = False\n",
    "\n",
    "model = tf.keras.Sequential([\n",
    "    tf.keras.layers.Rescaling(scale=255),\n",
    "    tf.keras.layers.TimeDistributed(net),\n",
    "    tf.keras.layers.Dense(101),\n",
    "    tf.keras.layers.GlobalAveragePooling3D()\n",
    "])\n",
    "\n",
    "model.compile(optimizer = 'adam',\n",
    "              loss=tf.keras.losses.SparseCategoricalCrossentropy(from_logits = True),\n",
    "              metrics=['accuracy'])\n",
    "\n",
    "with tf.device(\"/GPU:3\"):\n",
    "    model.fit(train_ds, \n",
    "              epochs = 10,\n",
    "              validation_data = val_ds,\n",
    "              callbacks = tf.keras.callbacks.EarlyStopping(patience = 2, monitor = 'val_loss'))"
   ]
  },
  {
   "cell_type": "code",
   "execution_count": null,
   "metadata": {},
   "outputs": [],
   "source": [
    "# model.save_weights('my_model')\n",
    "model.save(\"my_model.h5\", save_format=\"h5\")"
   ]
  },
  {
   "cell_type": "code",
   "execution_count": null,
   "metadata": {},
   "outputs": [],
   "source": [
    "net = tf.keras.applications.EfficientNetB0(include_top = False)\n",
    "net.trainable = False\n",
    "\n",
    "loaded_model = tf.keras.Sequential([\n",
    "    tf.keras.layers.Rescaling(scale= 255),\n",
    "    tf.keras.layers.TimeDistributed(net),\n",
    "    tf.keras.layers.Dense(101),\n",
    "    tf.keras.layers.GlobalAveragePooling3D()\n",
    "])\n",
    "\n",
    "loaded_model.compile(optimizer='adam',\n",
    "                    loss=tf.keras.losses.SparseCategoricalCrossentropy(from_logits=True),\n",
    "                    metrics=['accuracy'])\n",
    "\n",
    "loaded_model.load_weights('my_model')"
   ]
  },
  {
   "cell_type": "code",
   "execution_count": null,
   "metadata": {},
   "outputs": [],
   "source": [
    "# loaded_model = tf.keras.models.load_model('my_model')\n",
    "\n",
    "print(loaded_model)\n",
    "# Function to make predictions on a single video\n",
    "def predict_single_video(video_frames):\n",
    "    video_frames_reshaped = np.expand_dims(video_frames, axis=0)\n",
    "    print(video_frames.shape)\n",
    "    predictions = loaded_model.predict(video_frames)\n",
    "    return predictions\n",
    "\n",
    "# Function to print actual and predicted labels\n",
    "def print_actual_vs_predicted_labels(video_labels, predictions):\n",
    "    actual_label = video_labels.numpy()[0]\n",
    "    predicted_label = np.argmax(predictions)\n",
    "    print(f\"Actual Label: {actual_label}, Predicted Label: {predicted_label}\")\n",
    "\n",
    "# Create a generator for the test dataset to process videos one by one\n",
    "def single_video_generator(test_ds):\n",
    "    for test_frames, test_labels, video_path in test_ds:\n",
    "        yield test_frames, test_labels\n",
    "\n",
    "# Iterate through the test dataset and make predictions for each video\n",
    "for video_frames, video_labels in single_video_generator(test_ds):\n",
    "    print(video_frames.shape)\n",
    "    video_frames = np.array(video_frames)  # Convert to NumPy array if necessary\n",
    "    predictions = predict_single_video(video_frames)\n",
    "    \n",
    "    # Print actual vs. predicted labels\n",
    "    print_actual_vs_predicted_labels(video_labels, predictions)\n"
   ]
  },
  {
   "cell_type": "code",
   "execution_count": null,
   "metadata": {},
   "outputs": [],
   "source": [
    "import sys\n",
    "sys.path.append('./dist/coviar-0.1-py3.10-linux-x86_64.egg')\n",
    "import torch\n",
    "import numpy as np\n",
    "import matplotlib.pyplot as plt\n",
    "from coviar import load, get_num_frames\n",
    "import cv2\n",
    "import os\n",
    "\n",
    "# cap = cv2.VideoCapture(output_video_path)\n",
    "# if not cap.isOpened():\n",
    "#     print(\"Error: Could not open video.\")\n",
    "#     exit()\n",
    "\n",
    "# height = int(cap.get(cv2.CAP_PROP_FRAME_HEIGHT))\n",
    "# width = int(cap.get(cv2.CAP_PROP_FRAME_WIDTH))\n",
    "# cap.release()\n",
    "\n",
    "# # 비디오의 총 프레임 수를 구하는 함수 (이전 코드에서 정의되어 있어야 함)\n",
    "# total_frames = get_num_frames(output_video_path)\n",
    "# print(total_frames, height, width)"
   ]
  },
  {
   "cell_type": "code",
   "execution_count": null,
   "metadata": {},
   "outputs": [],
   "source": []
  },
  {
   "cell_type": "code",
   "execution_count": null,
   "metadata": {},
   "outputs": [],
   "source": []
  },
  {
   "cell_type": "code",
   "execution_count": null,
   "metadata": {},
   "outputs": [],
   "source": []
  }
 ],
 "metadata": {
  "kernelspec": {
   "display_name": "working_kernel",
   "language": "python",
   "name": "workspace"
  },
  "language_info": {
   "codemirror_mode": {
    "name": "ipython",
    "version": 3
   },
   "file_extension": ".py",
   "mimetype": "text/x-python",
   "name": "python",
   "nbconvert_exporter": "python",
   "pygments_lexer": "ipython3",
   "version": "3.10.13"
  }
 },
 "nbformat": 4,
 "nbformat_minor": 5
}
